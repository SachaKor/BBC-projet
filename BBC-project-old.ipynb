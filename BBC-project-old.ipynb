{
 "cells": [
  {
   "cell_type": "markdown",
   "metadata": {},
   "source": [
    "## BBC - Project\n",
    "### Data Exploration"
   ]
  },
  {
   "cell_type": "code",
   "execution_count": 85,
   "metadata": {},
   "outputs": [],
   "source": [
    "DATA_PATH = './data/'"
   ]
  },
  {
   "cell_type": "code",
   "execution_count": 86,
   "metadata": {},
   "outputs": [],
   "source": [
    "import numpy as np\n",
    "from Bio import Geo\n",
    "\n",
    "def load_geo(myfile):\n",
    "    handle = open(myfile)\n",
    "    records = Geo.parse(handle)\n",
    "    return records\n",
    "    \n",
    "records = load_geo(DATA_PATH + 'GSE21510_family.soft')"
   ]
  },
  {
   "cell_type": "markdown",
   "metadata": {},
   "source": [
    "The following cell should be executed multiple times to run through the data"
   ]
  },
  {
   "cell_type": "code",
   "execution_count": 89,
   "metadata": {},
   "outputs": [
    {
     "name": "stdout",
     "output_type": "stream",
     "text": [
      "GEO Type: PLATFORM\n",
      "GEO Id: GPL570\n",
      "Platform_contact_address: \n",
      "\n",
      "Platform_contact_city: Santa Clara\n",
      "\n",
      "Platform_contact_country: USA\n",
      "\n",
      "Platform_contact_email: geo@ncbi.nlm.nih.gov, support@affymetrix\n",
      ".com\n",
      "\n",
      "Platform_contact_institute: Affymetrix, Inc.\n",
      "\n",
      "Platform_contact_name: ,,Affymetrix, Inc.\n",
      "\n",
      "Platform_contact_phone: 888-362-2447\n",
      "\n",
      "Platform_contact_state: CA\n",
      "\n",
      "Platform_contact_web_link: http://www.affymetrix.com/index.affx\n",
      "\n",
      "Platform_contact_zip/postal_code: 95051\n",
      "\n",
      "Platform_data_row_count: 54675\n",
      "\n",
      "Platform_description: Affymetrix submissions are typically sub\n",
      "mitted to GEO using the GEOarchive method described at http://www.ncbi.nlm.nih.g\n",
      "ov/projects/geo/info/geo_affy.html\n",
      "\n",
      "Platform_description: \n",
      "\n",
      "Platform_description: June 03, 2009: annotation table updated \n",
      "with netaffx build 28\n",
      "\n",
      "Platform_description: June 06, 2012: annotation table updated \n",
      "with netaffx build 32\n",
      "\n",
      "Platform_description: June 23, 2016: annotation table updated \n",
      "with netaffx build 35\n",
      "\n",
      "Platform_distribution: commercial\n",
      "\n",
      "Platform_geo_accession: GPL570\n",
      "\n",
      "Platform_last_update_date: Mar 25 2019\n",
      "\n",
      "Platform_manufacture_protocol: see manufacturer's web site\n",
      "\n",
      "Platform_manufacture_protocol: \n",
      "\n",
      "Platform_manufacture_protocol: Complete coverage of the Human Genome U1\n",
      "33 Set plus 6,500 additional genes for analysis of over 47,000 transcripts\n",
      "\n",
      "Platform_manufacture_protocol: All probe sets represented on the GeneCh\n",
      "ip Human Genome U133 Set are identically replicated on the GeneChip Human Genome\n",
      " U133 Plus 2.0 Array. The sequences from which these probe sets were derived wer\n",
      "e selected from GenBankÂ®, dbEST, and RefSeq. The sequence clusters were created\n",
      " from the UniGene database (Build 133, April 20, 2001) and then refined by analy\n",
      "sis and comparison with a number of other publicly available databases, includin\n",
      "g the Washington University EST trace repository and the University of Californi\n",
      "a, Santa Cruz Golden-Path human genome database (April 2001 release).\n",
      "\n",
      "Platform_manufacture_protocol: In addition, there are 9,921 new probe s\n",
      "ets representing approximately 6,500 new genes. These gene sequences were select\n",
      "ed from GenBank, dbEST, and RefSeq. Sequence clusters were created from the UniG\n",
      "ene database (Build 159, January 25, 2003) and refined by analysis and compariso\n",
      "n with a number of other publicly available databases, including the Washington \n",
      "University EST trace repository and the NCBI human genome assembly (Build 31).\n",
      "\n",
      "Platform_manufacture_protocol: \n",
      "\n",
      "Platform_manufacturer: Affymetrix\n",
      "\n",
      "Platform_organism: Homo sapiens\n",
      "\n",
      "Platform_relation: Alternative to: GPL4454 (Alternative CDF\n",
      ")\n",
      "\n",
      "Platform_relation: Alternative to: GPL4866 (Alternative CDF\n",
      ")\n",
      "\n",
      "Platform_relation: Alternative to: GPL5760 (Alternative CDF\n",
      ")\n",
      "\n",
      "Platform_relation: Alternative to: GPL6671 (Alternative CDF\n",
      ")\n",
      "\n",
      "Platform_relation: Alternative to: GPL6791 (Alternative CDF\n",
      ")\n",
      "\n",
      "Platform_relation: Alternative to: GPL6879 (Alternative CDF\n",
      ")\n",
      "\n",
      "Platform_relation: Alternative to: GPL7567 (Alternative CDF\n",
      ")\n",
      "\n",
      "Platform_relation: Alternative to: GPL8019 (Alternative CDF\n",
      ")\n",
      "\n",
      "Platform_relation: Alternative to: GPL8542 (Alternative CDF\n",
      ")\n",
      "\n",
      "Platform_relation: Alternative to: GPL8715 (Alternative CDF\n",
      ")\n",
      "\n",
      "Platform_relation: Alternative to: GPL8712 (Alternative CDF\n",
      ")\n",
      "\n",
      "Platform_relation: Alternative to: GPL9102 (Probe Level Ver\n",
      "sion)\n",
      "\n",
      "Platform_relation: Alternative to: GPL9099 (Alternative CDF\n",
      ")\n",
      "\n",
      "Platform_relation: Alternative to: GPL9101 (Alternative CDF\n",
      ")\n",
      "\n",
      "Platform_relation: Alternative to: GPL9324 (Alternative CDF\n",
      ")\n",
      "\n",
      "Platform_relation: Alternative to: GPL9486 (Alternative CDF\n",
      ")\n",
      "\n",
      "Platform_relation: Alternative to: GPL9987 (Alternative CDF\n",
      ")\n",
      "\n",
      "Platform_relation: Alternative to: GPL10175 (Alternative CD\n",
      "F)\n",
      "\n",
      "Platform_relation: Alternative to: GPL10335 (Alternative CD\n",
      "F)\n",
      "\n",
      "Platform_relation: Alternative to: GPL10371 (Alternative CD\n",
      "F)\n",
      "\n",
      "Platform_relation: Alternative to: GPL10526 (Alternative CD\n",
      "F)\n",
      "\n",
      "Platform_relation: Alternative to: GPL10881 (Alternative CD\n",
      "F)\n",
      "\n",
      "Platform_relation: Alternative to: GPL10925 (Alternative CD\n",
      "F)\n",
      "\n",
      "Platform_relation: Alternative to: GPL11084 (Alternative CD\n",
      "F)\n",
      "\n",
      "Platform_relation: Alternative to: GPL11433 (Alternative CD\n",
      "F)\n",
      "\n",
      "Platform_relation: Alternative to: GPL11670 (Alternative CD\n",
      "F)\n",
      "\n",
      "Platform_relation: Alternative to: GPL13232 (Alternative CD\n",
      "F [HGU133Plus2_Hs_REFSEQ, Brainarray version 13.0.0])\n",
      "\n",
      "Platform_relation: Alternative to: GPL13303 (Alternative CD\n",
      "F.)\n",
      "\n",
      "Platform_relation: Alternative to: GPL13916 ([Brainarray EN\n",
      "SG Version 14.1])\n",
      "\n",
      "Platform_relation: Alternative to: GPL14837 (Alternative CD\n",
      "F)\n",
      "\n",
      "Platform_relation: Alternative to: GPL14877 ([Alternative C\n",
      "DF])\n",
      "\n",
      "Platform_relation: Alternative to: GPL15394 (Alternative CD\n",
      "F [HGU133Plus2_Hs_REFSEQ, Brainarray version 14.0])\n",
      "\n",
      "Platform_relation: Alternative to: GPL6732 (Alternative CDF\n",
      " [HGU133Plus2_Hs_REFSEQ, Brainarray version 7])\n",
      "\n",
      "Platform_relation: Alternative to: GPL15445 (Alternative CD\n",
      "F)\n",
      "\n",
      "Platform_relation: Alternative to: GPL16066 (Alternative CD\n",
      "F)\n",
      "\n",
      "Platform_relation: Alternative to: GPL16100 (Alternative CD\n",
      "F [GATExplorer_Ensembl v57])\n",
      "\n",
      "Platform_relation: Alternative to: GPL16268 (Alternative CD\n",
      "F [Brainarray ENSG Version 16])\n",
      "\n",
      "Platform_relation: Alternative to: GPL16273 (Alternative CD\n",
      "F [Brainarray ENSG Version 15])\n",
      "\n",
      "Platform_relation: Alternative to: GPL16311 (Alternative CD\n",
      "F [HGU133Plus2_Hs_ENTREZG Brainarray version 14.0.0])\n",
      "\n",
      "Platform_relation: Alternative to: GPL16356 (Alternative CD\n",
      "F [Brainarray HGU133Plus2_Hs_ENTREZG 15.0.0])\n",
      "\n",
      "Platform_relation: Alternative to: GPL16372 (Alternative CD\n",
      "F [Brainarray HGU133Plus2_Hs_UG v.13])\n",
      "\n",
      "Platform_relation: Alternative to: GPL17392 (Alternative CD\n",
      "F [HGU133Plus2_Hs_ENSG, Brainarray 17.1])\n",
      "\n",
      "Platform_relation: Alternative to: GPL17394 (Alternative CD\n",
      "F [HGU133Plus2_Hs_ENSG, Brainarray 13.0])\n",
      "\n",
      "Platform_relation: Alternative to: GPL17810 (Alternative CD\n",
      "F [HGU133Plus2_Hs_ENTREZG, Brainarray 16])\n",
      "\n",
      "Platform_relation: Alternative to: GPL17811 (Alternative CD\n",
      "F [HGU133Plus2_Hs_ENTREZG, Brainarray 17])\n",
      "\n",
      "Platform_relation: Alternative to: GPL17996 (Alternative CD\n",
      "F:HGU133Plus2_Hs_ENTREZG.cdf version 15.1.0)\n",
      "\n",
      "Platform_relation: Alternative to: GPL18121 (custom CDF)\n",
      "\n",
      "Platform_relation: Alternative to: GPL18756 (Alternative CD\n",
      "F [CDF: HGU133Plus2_Hs_ENTREZG_14.1.0])\n",
      "\n",
      "Platform_relation: Alternative to: GPL18850 (Alternative CD\n",
      "F)\n",
      "\n",
      "Platform_relation: Alternative to: GPL18478 (Alternative CD\n",
      "F [Hs_ENTREZG_V13])\n",
      "\n",
      "Platform_relation: Alternative to: GPL19109 (Alternative CD\n",
      "F [Brainarray HGU133Plus2_Hs_ENTREZG_v18])\n",
      "\n",
      "Platform_relation: Alternative to: GPL19883 (Alternative CD\n",
      "F [Broad GenePattern])\n",
      "\n",
      "Platform_relation: Alternative to: GPL19918 (Gene symbol ve\n",
      "rsion, 10K)\n",
      "\n",
      "Platform_relation: Alternative to: GPL20182 (Gene Symbol Ve\n",
      "rsion)\n",
      "\n",
      "Platform_relation: Alternative to: GPL22321 (Alternative CD\n",
      "F [HGU133Plus2_Hs_ENTREZG, Brainarray 20])\n",
      "\n",
      "Platform_relation: Alternative to: GPL22945 (alternative)\n",
      "\n",
      "Platform_relation: Alternative to: GPL23270 ((Alternative C\n",
      "DF [HGU133Plus2_Hs_ENTREZG, Brainarray 21])\n",
      "\n",
      "Platform_relation: Alternative to: GPL23432 (alternative CD\n",
      "F [HGU133Plus2_Hs_ENSG, Brainarray version 18.0.0])\n",
      "\n",
      "Platform_relation: Alternative to: GPL25740 (alternative)\n",
      "\n",
      "Platform_status: Public on Nov 07 2003\n",
      "\n",
      "Platform_submission_date: Nov 07 2003\n",
      "\n",
      "Platform_taxid: 9606\n",
      "\n",
      "Platform_technology: in situ oligonucleotide\n",
      "\n",
      "Platform_title: [HG-U133_Plus_2] Affymetrix Human Genome\n",
      " U133 Plus 2.0 Array\n",
      "\n",
      "Platform_web_link: http://www.affymetrix.com/support/techni\n",
      "cal/byproduct.affx?product=hg-u133-plus\n",
      "\n",
      "Platform_web_link: http://www.affymetrix.com/analysis/index\n",
      ".affx\n",
      "\n",
      "platform_table_end: \n",
      "\n",
      "Column Header Definitions\n",
      "    Annotation Date: The date that the annotations for this p\n",
      "    robe array were last updated. It will generally be earlier than the date when th\n",
      "    e annotations were posted on the Affymetrix web site.\n",
      "\n",
      "    ENTREZ_GENE_ID: Entrez Gene Database UID LINK_PRE:\"http:\n",
      "    //www.ncbi.nlm.nih.gov/gene/\" DELIMIT:\" /// \"\n",
      "\n",
      "    GB_ACC: GenBank Accession Number LINK_PRE:\"http:\n",
      "    //www.ncbi.nlm.nih.gov/nuccore/?term=\"\n",
      "\n",
      "    Gene Ontology Biological Process: Gene Ontology Consortium Biological Proc\n",
      "    ess derived from LocusLink.  Each annotation consists of three parts: \"Accession\n",
      "     Number // Description // Evidence\". The description corresponds directly to the\n",
      "     GO ID. The evidence can be \"direct\", or \"extended\".\n",
      "\n",
      "    Gene Ontology Cellular Component: Gene Ontology Consortium Cellular Compon\n",
      "    ent derived from LocusLink.  Each annotation consists of three parts: \"Accession\n",
      "     Number // Description // Evidence\". The description corresponds directly to the\n",
      "     GO ID. The evidence can be \"direct\", or \"extended\".\n",
      "\n",
      "    Gene Ontology Molecular Function: Gene Ontology Consortium Molecular Funct\n",
      "    ion derived from LocusLink.  Each annotation consists of three parts: \"Accession\n",
      "     Number // Description // Evidence\". The description corresponds directly to the\n",
      "     GO ID. The evidence can be \"direct\", or \"extended\".\n",
      "\n",
      "    Gene Symbol: A gene symbol, when one is available (fr\n",
      "    om UniGene).\n",
      "\n",
      "    Gene Title: Title of Gene represented by the probe s\n",
      "    et.\n",
      "\n",
      "    ID: Affymetrix Probe Set ID LINK_PRE:\"https:\n",
      "    //www.affymetrix.com/LinkServlet?array=U133PLUS&probeset=\"\n",
      "\n",
      "    RefSeq Transcript ID: References to multiple sequences in RefS\n",
      "    eq. The field contains the ID and Description for each entry, and there can be m\n",
      "    ultiple entries per ProbeSet.\n",
      "\n",
      "    Representative Public ID: The accession number of a representative\n",
      "     sequence. Note that for consensus-based probe sets, the representative sequence\n",
      "     is only one of several sequences (sequence sub-clusters) used to build the cons\n",
      "    ensus sequence and it is not directly used to derive the probe sequences. The re\n",
      "    presentative sequence is chosen during array design as a sequence that is best a\n",
      "    ssociated with the transcribed region being interrogated by the probe set. Refer\n",
      "     to the \"Sequence Source\" field to determine the database used.\n",
      "\n",
      "    SPOT_ID: identifies controls\n",
      "\n",
      "    Sequence Source: The database from which the sequence use\n",
      "    d to design this probe set was taken.\n",
      "\n",
      "    Sequence Type: \n",
      "\n",
      "    Species Scientific Name: The genus and species of the organism re\n",
      "    presented by the probe set.\n",
      "\n",
      "    Target Description: \n",
      "\n",
      "0: ID\tGB_ACC\tSPOT_ID\tSpecies Scientific Name\tAnnotation Date\tSequence Type\tSequence Source\tTarget Description\tRepresentative Public ID\tGene Title\tGene Symbol\tENTREZ_GENE_ID\tRefSeq Transcript ID\tGene Ontology Biological Process\tGene Ontology Cellular Component\tGene Ontology Molecular Function\t\n",
      "1: 1007_s_at\tU48705\t\tHomo sapiens\tOct 6, 2014\tExemplar sequence\tAffymetrix Proprietary Database\tU48705 /FEATURE=mRNA /DEFINITION=HSU48705 Human receptor tyrosine kinase DDR gene, complete cds\tU48705\tdiscoidin domain receptor tyrosine kinase 1 /// microRNA 4640\tDDR1 /// MIR4640\t780 /// 100616237\tNM_001202521 /// NM_001202522 /// NM_001202523 /// NM_001954 /// NM_013993 /// NM_013994 /// NR_039783 /// XM_005249385 /// XM_005249386 /// XM_005249387 /// XM_005249389 /// XM_005272873 /// XM_005272874 /// XM_005272875 /// XM_005272877 /// XM_005275027 /// XM_005275028 /// XM_005275030 /// XM_005275031 /// XM_005275162 /// XM_005275163 /// XM_005275164 /// XM_005275166 /// XM_005275457 /// XM_005275458 /// XM_005275459 /// XM_005275461 /// XM_006715185 /// XM_006715186 /// XM_006715187 /// XM_006715188 /// XM_006715189 /// XM_006715190 /// XM_006725501 /// XM_006725502 /// XM_006725503 /// XM_006725504 /// XM_006725505 /// XM_006725506 /// XM_006725714 /// XM_006725715 /// XM_006725716 /// XM_006725717 /// XM_006725718 /// XM_006725719 /// XM_006725720 /// XM_006725721 /// XM_006725722 /// XM_006725827 /// XM_006725828 /// XM_006725829 /// XM_006725830 /// XM_006725831 /// XM_006725832 /// XM_006726017 /// XM_006726018 /// XM_006726019 /// XM_006726020 /// XM_006726021 /// XM_006726022 /// XR_427836 /// XR_430858 /// XR_430938 /// XR_430974 /// XR_431015\t0001558 // regulation of cell growth // inferred from electronic annotation /// 0001952 // regulation of cell-matrix adhesion // inferred from electronic annotation /// 0006468 // protein phosphorylation // inferred from electronic annotation /// 0007155 // cell adhesion // traceable author statement /// 0007169 // transmembrane receptor protein tyrosine kinase signaling pathway // inferred from electronic annotation /// 0007565 // female pregnancy // inferred from electronic annotation /// 0007566 // embryo implantation // inferred from electronic annotation /// 0007595 // lactation // inferred from electronic annotation /// 0008285 // negative regulation of cell proliferation // inferred from electronic annotation /// 0010715 // regulation of extracellular matrix disassembly // inferred from mutant phenotype /// 0014909 // smooth muscle cell migration // inferred from mutant phenotype /// 0016310 // phosphorylation // inferred from electronic annotation /// 0018108 // peptidyl-tyrosine phosphorylation // inferred from electronic annotation /// 0030198 // extracellular matrix organization // traceable author statement /// 0038063 // collagen-activated tyrosine kinase receptor signaling pathway // inferred from direct assay /// 0038063 // collagen-activated tyrosine kinase receptor signaling pathway // inferred from mutant phenotype /// 0038083 // peptidyl-tyrosine autophosphorylation // inferred from direct assay /// 0043583 // ear development // inferred from electronic annotation /// 0044319 // wound healing, spreading of cells // inferred from mutant phenotype /// 0046777 // protein autophosphorylation // inferred from direct assay /// 0060444 // branching involved in mammary gland duct morphogenesis // inferred from electronic annotation /// 0060749 // mammary gland alveolus development // inferred from electronic annotation /// 0061302 // smooth muscle cell-matrix adhesion // inferred from mutant phenotype\t0005576 // extracellular region // inferred from electronic annotation /// 0005615 // extracellular space // inferred from direct assay /// 0005886 // plasma membrane // traceable author statement /// 0005887 // integral component of plasma membrane // traceable author statement /// 0016020 // membrane // inferred from electronic annotation /// 0016021 // integral component of membrane // inferred from electronic annotation /// 0043235 // receptor complex // inferred from direct assay /// 0070062 // extracellular vesicular exosome // inferred from direct assay\t0000166 // nucleotide binding // inferred from electronic annotation /// 0004672 // protein kinase activity // inferred from electronic annotation /// 0004713 // protein tyrosine kinase activity // inferred from electronic annotation /// 0004714 // transmembrane receptor protein tyrosine kinase activity // traceable author statement /// 0005515 // protein binding // inferred from physical interaction /// 0005518 // collagen binding // inferred from direct assay /// 0005518 // collagen binding // inferred from mutant phenotype /// 0005524 // ATP binding // inferred from electronic annotation /// 0016301 // kinase activity // inferred from electronic annotation /// 0016740 // transferase activity // inferred from electronic annotation /// 0016772 // transferase activity, transferring phosphorus-containing groups // inferred from electronic annotation /// 0038062 // protein tyrosine kinase collagen receptor activity // inferred from direct assay /// 0046872 // metal ion binding // inferred from electronic annotation\t\n",
      "2: 1053_at\tM87338\t\tHomo sapiens\tOct 6, 2014\tExemplar sequence\tGenBank\tM87338 /FEATURE= /DEFINITION=HUMA1SBU Human replication factor C, 40-kDa subunit (A1) mRNA, complete cds\tM87338\treplication factor C (activator 1) 2, 40kDa\tRFC2\t5982\tNM_001278791 /// NM_001278792 /// NM_001278793 /// NM_002914 /// NM_181471 /// XM_006716080\t0000278 // mitotic cell cycle // traceable author statement /// 0000722 // telomere maintenance via recombination // traceable author statement /// 0000723 // telomere maintenance // traceable author statement /// 0006260 // DNA replication // traceable author statement /// 0006271 // DNA strand elongation involved in DNA replication // traceable author statement /// 0006281 // DNA repair // traceable author statement /// 0006283 // transcription-coupled nucleotide-excision repair // traceable author statement /// 0006289 // nucleotide-excision repair // traceable author statement /// 0006297 // nucleotide-excision repair, DNA gap filling // traceable author statement /// 0015979 // photosynthesis // inferred from electronic annotation /// 0015995 // chlorophyll biosynthetic process // inferred from electronic annotation /// 0032201 // telomere maintenance via semi-conservative replication // traceable author statement\t0005634 // nucleus // inferred from electronic annotation /// 0005654 // nucleoplasm // traceable author statement /// 0005663 // DNA replication factor C complex // inferred from direct assay\t0000166 // nucleotide binding // inferred from electronic annotation /// 0003677 // DNA binding // inferred from electronic annotation /// 0005515 // protein binding // inferred from physical interaction /// 0005524 // ATP binding // inferred from electronic annotation /// 0016851 // magnesium chelatase activity // inferred from electronic annotation /// 0017111 // nucleoside-triphosphatase activity // inferred from electronic annotation\t\n",
      "3: 117_at\tX51757\t\tHomo sapiens\tOct 6, 2014\tExemplar sequence\tAffymetrix Proprietary Database\tX51757 /FEATURE=cds /DEFINITION=HSP70B Human heat-shock protein HSP70B' gene\tX51757\theat shock 70kDa protein 6 (HSP70B')\tHSPA6\t3310\tNM_002155\t0000902 // cell morphogenesis // inferred from electronic annotation /// 0006200 // ATP catabolic process // inferred from direct assay /// 0006950 // response to stress // inferred from electronic annotation /// 0006986 // response to unfolded protein // traceable author statement /// 0034605 // cellular response to heat // inferred from direct assay /// 0042026 // protein refolding // inferred from direct assay /// 0070370 // cellular heat acclimation // inferred from mutant phenotype\t0005737 // cytoplasm // inferred from direct assay /// 0005814 // centriole // inferred from direct assay /// 0005829 // cytosol // inferred from direct assay /// 0008180 // COP9 signalosome // inferred from direct assay /// 0070062 // extracellular vesicular exosome // inferred from direct assay /// 0072562 // blood microparticle // inferred from direct assay\t0000166 // nucleotide binding // inferred from electronic annotation /// 0005524 // ATP binding // inferred from electronic annotation /// 0019899 // enzyme binding // inferred from physical interaction /// 0031072 // heat shock protein binding // inferred from physical interaction /// 0042623 // ATPase activity, coupled // inferred from direct assay /// 0051082 // unfolded protein binding // inferred from direct assay\t\n",
      "4: 121_at\tX69699\t\tHomo sapiens\tOct 6, 2014\tExemplar sequence\tGenBank\tX69699 /FEATURE= /DEFINITION=HSPAX8A H.sapiens Pax8 mRNA\tX69699\tpaired box 8\tPAX8\t7849\tNM_003466 /// NM_013951 /// NM_013952 /// NM_013953 /// NM_013992\t0001655 // urogenital system development // inferred from sequence or structural similarity /// 0001656 // metanephros development // inferred from electronic annotation /// 0001658 // branching involved in ureteric bud morphogenesis // inferred from expression pattern /// 0001822 // kidney development // inferred from expression pattern /// 0001823 // mesonephros development // inferred from sequence or structural similarity /// 0003337 // mesenchymal to epithelial transition involved in metanephros morphogenesis // inferred from expression pattern /// 0006351 // transcription, DNA-templated // inferred from direct assay /// 0006355 // regulation of transcription, DNA-templated // inferred from electronic annotation /// 0007275 // multicellular organismal development // inferred from electronic annotation /// 0007417 // central nervous system development // inferred from expression pattern /// 0009653 // anatomical structure morphogenesis // traceable author statement /// 0030154 // cell differentiation // inferred from electronic annotation /// 0030878 // thyroid gland development // inferred from expression pattern /// 0030878 // thyroid gland development // inferred from mutant phenotype /// 0038194 // thyroid-stimulating hormone signaling pathway // traceable author statement /// 0039003 // pronephric field specification // inferred from sequence or structural similarity /// 0042472 // inner ear morphogenesis // inferred from sequence or structural similarity /// 0042981 // regulation of apoptotic process // inferred from sequence or structural similarity /// 0045893 // positive regulation of transcription, DNA-templated // inferred from direct assay /// 0045893 // positive regulation of transcription, DNA-templated // inferred from sequence or structural similarity /// 0045944 // positive regulation of transcription from RNA polymerase II promoter // inferred from direct assay /// 0048793 // pronephros development // inferred from sequence or structural similarity /// 0071371 // cellular response to gonadotropin stimulus // inferred from direct assay /// 0071599 // otic vesicle development // inferred from expression pattern /// 0072050 // S-shaped body morphogenesis // inferred from electronic annotation /// 0072073 // kidney epithelium development // inferred from electronic annotation /// 0072108 // positive regulation of mesenchymal to epithelial transition involved in metanephros morphogenesis // inferred from sequence or structural similarity /// 0072164 // mesonephric tubule development // inferred from electronic annotation /// 0072207 // metanephric epithelium development // inferred from expression pattern /// 0072221 // metanephric distal convoluted tubule development // inferred from sequence or structural similarity /// 0072278 // metanephric comma-shaped body morphogenesis // inferred from expression pattern /// 0072284 // metanephric S-shaped body morphogenesis // inferred from expression pattern /// 0072289 // metanephric nephron tubule formation // inferred from sequence or structural similarity /// 0072305 // negative regulation of mesenchymal cell apoptotic process involved in metanephric nephron morphogenesis // inferred from sequence or structural similarity /// 0072307 // regulation of metanephric nephron tubule epithelial cell differentiation // inferred from sequence or structural similarity /// 0090190 // positive regulation of branching involved in ureteric bud morphogenesis // inferred from sequence or structural similarity /// 1900212 // negative regulation of mesenchymal cell apoptotic process involved in metanephros development // inferred from sequence or structural similarity /// 1900215 // negative regulation of apoptotic process involved in metanephric collecting duct development // inferred from sequence or structural similarity /// 1900218 // negative regulation of apoptotic process involved in metanephric nephron tubule development // inferred from sequence or structural similarity /// 2000594 // positive regulation of metanephric DCT cell differentiation // inferred from sequence or structural similarity /// 2000611 // positive regulation of thyroid hormone generation // inferred from mutant phenotype /// 2000612 // regulation of thyroid-stimulating hormone secretion // inferred from mutant phenotype\t0005634 // nucleus // inferred from direct assay /// 0005654 // nucleoplasm // inferred from sequence or structural similarity /// 0005730 // nucleolus // inferred from direct assay\t0000979 // RNA polymerase II core promoter sequence-specific DNA binding // inferred from direct assay /// 0003677 // DNA binding // inferred from direct assay /// 0003677 // DNA binding // inferred from mutant phenotype /// 0003700 // sequence-specific DNA binding transcription factor activity // inferred from direct assay /// 0004996 // thyroid-stimulating hormone receptor activity // traceable author statement /// 0005515 // protein binding // inferred from physical interaction /// 0044212 // transcription regulatory region DNA binding // inferred from direct assay\t\n",
      "5: 1255_g_at\tL36861\t\tHomo sapiens\tOct 6, 2014\tExemplar sequence\tAffymetrix Proprietary Database\tL36861 /FEATURE=expanded_cds /DEFINITION=HUMGCAPB Homo sapiens guanylate cyclase activating protein (GCAP) gene exons 1-4, complete cds\tL36861\tguanylate cyclase activator 1A (retina)\tGUCA1A\t2978\tNM_000409 /// XM_006715073\t0007165 // signal transduction // non-traceable author statement /// 0007601 // visual perception // inferred from electronic annotation /// 0007602 // phototransduction // inferred from electronic annotation /// 0007603 // phototransduction, visible light // traceable author statement /// 0016056 // rhodopsin mediated signaling pathway // traceable author statement /// 0022400 // regulation of rhodopsin mediated signaling pathway // traceable author statement /// 0030828 // positive regulation of cGMP biosynthetic process // inferred from electronic annotation /// 0031282 // regulation of guanylate cyclase activity // inferred from electronic annotation /// 0031284 // positive regulation of guanylate cyclase activity // inferred from electronic annotation /// 0050896 // response to stimulus // inferred from electronic annotation\t0001750 // photoreceptor outer segment // inferred from electronic annotation /// 0001917 // photoreceptor inner segment // inferred from electronic annotation /// 0005578 // proteinaceous extracellular matrix // inferred from electronic annotation /// 0005886 // plasma membrane // inferred from direct assay /// 0016020 // membrane // inferred from electronic annotation /// 0097381 // photoreceptor disc membrane // traceable author statement\t0005509 // calcium ion binding // inferred from electronic annotation /// 0008048 // calcium sensitive guanylate cyclase activator activity // inferred from electronic annotation /// 0030249 // guanylate cyclase regulator activity // inferred from electronic annotation /// 0046872 // metal ion binding // inferred from electronic annotation\t\n",
      "6: 1294_at\tL13852\t\tHomo sapiens\tOct 6, 2014\tExemplar sequence\tGenBank\tL13852 /FEATURE= /DEFINITION=HUME1URP Homo sapiens ubiquitin-activating enzyme E1 related protein mRNA, complete cds\tL13852\tmicroRNA 5193 /// ubiquitin-like modifier activating enzyme 7\tMIR5193 /// UBA7\t7318 /// 100847079\tNM_003335 /// NR_049825 /// XM_005265430 /// XM_006713321\t0006464 // cellular protein modification process // inferred from direct assay /// 0016567 // protein ubiquitination // not recorded /// 0016567 // protein ubiquitination // inferred from electronic annotation /// 0019221 // cytokine-mediated signaling pathway // traceable author statement /// 0019941 // modification-dependent protein catabolic process // not recorded /// 0032020 // ISG15-protein conjugation // inferred from direct assay /// 0032480 // negative regulation of type I interferon production // traceable author statement /// 0045087 // innate immune response // traceable author statement\t0005634 // nucleus // not recorded /// 0005829 // cytosol // not recorded /// 0005829 // cytosol // traceable author statement\t0000166 // nucleotide binding // inferred from electronic annotation /// 0003824 // catalytic activity // inferred from electronic annotation /// 0004839 // ubiquitin activating enzyme activity // not recorded /// 0004842 // ubiquitin-protein transferase activity // not recorded /// 0005524 // ATP binding // inferred from electronic annotation /// 0008641 // small protein activating enzyme activity // inferred from electronic annotation /// 0016874 // ligase activity // inferred from electronic annotation /// 0019782 // ISG15 activating enzyme activity // inferred from direct assay\t\n",
      "7: 1316_at\tX55005\t\tHomo sapiens\tOct 6, 2014\tExemplar sequence\tAffymetrix Proprietary Database\tX55005 /FEATURE=mRNA /DEFINITION=HSCERBAR Homo sapiens mRNA for thyroid hormone receptor alpha 1 THRA1, (c-erbA-1 gene)\tX55005\tthyroid hormone receptor, alpha\tTHRA\t7067\tNM_001190918 /// NM_001190919 /// NM_003250 /// NM_199334\t0000122 // negative regulation of transcription from RNA polymerase II promoter // inferred from direct assay /// 0000122 // negative regulation of transcription from RNA polymerase II promoter // inferred from mutant phenotype /// 0001502 // cartilage condensation // inferred from electronic annotation /// 0001503 // ossification // inferred from electronic annotation /// 0002155 // regulation of thyroid hormone mediated signaling pathway // inferred from electronic annotation /// 0005978 // glycogen biosynthetic process // inferred from sequence or structural similarity /// 0006351 // transcription, DNA-templated // inferred from electronic annotation /// 0006355 // regulation of transcription, DNA-templated // inferred from electronic annotation /// 0006357 // regulation of transcription from RNA polymerase II promoter // inferred from direct assay /// 0006366 // transcription from RNA polymerase II promoter // inferred from direct assay /// 0006367 // transcription initiation from RNA polymerase II promoter // traceable author statement /// 0007611 // learning or memory // inferred from electronic annotation /// 0007623 // circadian rhythm // inferred from electronic annotation /// 0008016 // regulation of heart contraction // inferred from electronic annotation /// 0008050 // female courtship behavior // inferred from electronic annotation /// 0009409 // response to cold // inferred from electronic annotation /// 0009755 // hormone-mediated signaling pathway // inferred from direct assay /// 0009887 // organ morphogenesis // inferred from electronic annotation /// 0010467 // gene expression // traceable author statement /// 0010498 // proteasomal protein catabolic process // inferred from sequence or structural similarity /// 0010831 // positive regulation of myotube differentiation // inferred from electronic annotation /// 0010871 // negative regulation of receptor biosynthetic process // inferred from mutant phenotype /// 0017055 // negative regulation of RNA polymerase II transcriptional preinitiation complex assembly // inferred from direct assay /// 0019216 // regulation of lipid metabolic process // inferred from sequence or structural similarity /// 0030154 // cell differentiation // inferred from electronic annotation /// 0030218 // erythrocyte differentiation // inferred from electronic annotation /// 0030522 // intracellular receptor signaling pathway // inferred from electronic annotation /// 0030878 // thyroid gland development // inferred from electronic annotation /// 0032922 // circadian regulation of gene expression // inferred from sequence or structural similarity /// 0033032 // regulation of myeloid cell apoptotic process // inferred from electronic annotation /// 0034144 // negative regulation of toll-like receptor 4 signaling pathway // inferred from mutant phenotype /// 0035947 // regulation of gluconeogenesis by regulation of transcription from RNA polymerase II promoter // inferred from mutant phenotype /// 0042752 // regulation of circadian rhythm // inferred from sequence or structural similarity /// 0042994 // cytoplasmic sequestering of transcription factor // inferred from electronic annotation /// 0043401 // steroid hormone mediated signaling pathway // inferred from electronic annotation /// 0044321 // response to leptin // inferred from sequence or structural similarity /// 0045598 // regulation of fat cell differentiation // inferred from sequence or structural similarity /// 0045892 // negative regulation of transcription, DNA-templated // inferred from direct assay /// 0045893 // positive regulation of transcription, DNA-templated // inferred from sequence or structural similarity /// 0045925 // positive regulation of female receptivity // inferred from electronic annotation /// 0045944 // positive regulation of transcription from RNA polymerase II promoter // inferred from electronic annotation /// 0048511 // rhythmic process // inferred from electronic annotation /// 0050994 // regulation of lipid catabolic process // inferred from electronic annotation /// 0060086 // circadian temperature homeostasis // inferred from sequence or structural similarity /// 0060509 // Type I pneumocyte differentiation // inferred from electronic annotation /// 0061178 // regulation of insulin secretion involved in cellular response to glucose stimulus // inferred from sequence or structural similarity /// 0061469 // regulation of type B pancreatic cell proliferation // inferred from sequence or structural similarity /// 0070859 // positive regulation of bile acid biosynthetic process // inferred from sequence or structural similarity /// 0071222 // cellular response to lipopolysaccharide // inferred from mutant phenotype /// 2000143 // negative regulation of DNA-templated transcription, initiation // inferred from direct assay /// 2000188 // regulation of cholesterol homeostasis // inferred from sequence or structural similarity /// 2000189 // positive regulation of cholesterol homeostasis // inferred from direct assay\t0000790 // nuclear chromatin // inferred from direct assay /// 0005634 // nucleus // inferred from direct assay /// 0005654 // nucleoplasm // traceable author statement /// 0005737 // cytoplasm // inferred from electronic annotation /// 0005737 // cytoplasm // inferred from sequence or structural similarity /// 0005829 // cytosol // inferred from direct assay /// 0030425 // dendrite // inferred from electronic annotation /// 0030425 // dendrite // inferred from sequence or structural similarity /// 0042995 // cell projection // inferred from electronic annotation /// 0043197 // dendritic spine // inferred from electronic annotation /// 0043197 // dendritic spine // inferred from sequence or structural similarity\t0000978 // RNA polymerase II core promoter proximal region sequence-specific DNA binding // inferred from mutant phenotype /// 0001046 // core promoter sequence-specific DNA binding // inferred from direct assay /// 0001078 // RNA polymerase II core promoter proximal region sequence-specific DNA binding transcription factor activity involved in negative regulation of transcription // inferred from direct assay /// 0001222 // transcription corepressor binding // inferred from direct assay /// 0001222 // transcription corepressor binding // inferred from mutant phenotype /// 0002153 // steroid receptor RNA activator RNA binding // inferred from electronic annotation /// 0003677 // DNA binding // inferred from electronic annotation /// 0003700 // sequence-specific DNA binding transcription factor activity // inferred from direct assay /// 0003707 // steroid hormone receptor activity // inferred from electronic annotation /// 0003714 // transcription corepressor activity // traceable author statement /// 0003727 // single-stranded RNA binding // inferred from electronic annotation /// 0004879 // ligand-activated sequence-specific DNA binding RNA polymerase II transcription factor activity // traceable author statement /// 0004879 // ligand-activated sequence-specific DNA binding RNA polymerase II transcription factor activity // inferred from electronic annotation /// 0004887 // thyroid hormone receptor activity // inferred from direct assay /// 0005515 // protein binding // inferred from physical interaction /// 0008134 // transcription factor binding // inferred from physical interaction /// 0008270 // zinc ion binding // inferred from electronic annotation /// 0017025 // TBP-class protein binding // inferred from direct assay /// 0019904 // protein domain specific binding // inferred from physical interaction /// 0020037 // heme binding // inferred from direct assay /// 0031490 // chromatin DNA binding // inferred from electronic annotation /// 0032403 // protein complex binding // inferred from electronic annotation /// 0043565 // sequence-specific DNA binding // inferred from electronic annotation /// 0044212 // transcription regulatory region DNA binding // inferred from direct assay /// 0046872 // metal ion binding // inferred from electronic annotation /// 0070324 // thyroid hormone binding // inferred from direct assay /// 0070324 // thyroid hormone binding // inferred from physical interaction\t\n",
      "8: 1320_at\tX79510\t\tHomo sapiens\tOct 6, 2014\tExemplar sequence\tAffymetrix Proprietary Database\tX79510 /FEATURE=cds /DEFINITION=HSPTPD1 H.sapiens mRNA for protein-tyrosine-phosphatase D1\tX79510\tprotein tyrosine phosphatase, non-receptor type 21\tPTPN21\t11099\tNM_007039 /// XM_005267287 /// XM_006720011\t0006470 // protein dephosphorylation // traceable author statement /// 0016311 // dephosphorylation // inferred from electronic annotation /// 0035335 // peptidyl-tyrosine dephosphorylation // inferred from electronic annotation /// 0035335 // peptidyl-tyrosine dephosphorylation // traceable author statement\t0005737 // cytoplasm // inferred from electronic annotation /// 0005856 // cytoskeleton // inferred from electronic annotation\t0004721 // phosphoprotein phosphatase activity // inferred from electronic annotation /// 0004725 // protein tyrosine phosphatase activity // inferred from electronic annotation /// 0005515 // protein binding // inferred from physical interaction /// 0016787 // hydrolase activity // inferred from electronic annotation /// 0016791 // phosphatase activity // inferred from electronic annotation\t\n",
      "9: 1405_i_at\tM21121\t\tHomo sapiens\tOct 6, 2014\tExemplar sequence\tGenBank\tM21121 /FEATURE= /DEFINITION=HUMTCSM Human T cell-specific protein (RANTES) mRNA, complete cds\tM21121\tchemokine (C-C motif) ligand 5\tCCL5\t6352\tNM_001278736 /// NM_002985\t0000165 // MAPK cascade // inferred from mutant phenotype /// 0002407 // dendritic cell chemotaxis // traceable author statement /// 0002548 // monocyte chemotaxis // inferred by curator /// 0002676 // regulation of chronic inflammatory response // traceable author statement /// 0006468 // protein phosphorylation // inferred from direct assay /// 0006816 // calcium ion transport // inferred from direct assay /// 0006874 // cellular calcium ion homeostasis // inferred from direct assay /// 0006887 // exocytosis // inferred from direct assay /// 0006935 // chemotaxis // non-traceable author statement /// 0006954 // inflammatory response // inferred from direct assay /// 0006955 // immune response // inferred from electronic annotation /// 0007159 // leukocyte cell-cell adhesion // inferred from direct assay /// 0007267 // cell-cell signaling // inferred from direct assay /// 0009615 // response to virus // traceable author statement /// 0009636 // response to toxic substance // inferred from direct assay /// 0010535 // positive regulation of activation of JAK2 kinase activity // traceable author statement /// 0010759 // positive regulation of macrophage chemotaxis // inferred from direct assay /// 0010820 // positive regulation of T cell chemotaxis // inferred from direct assay /// 0014068 // positive regulation of phosphatidylinositol 3-kinase signaling // inferred from direct assay /// 0014911 // positive regulation of smooth muscle cell migration // inferred from direct assay /// 0030335 // positive regulation of cell migration // inferred from direct assay /// 0031328 // positive regulation of cellular biosynthetic process // inferred from direct assay /// 0031584 // activation of phospholipase D activity // inferred from direct assay /// 0031663 // lipopolysaccharide-mediated signaling pathway // inferred from direct assay /// 0033634 // positive regulation of cell-cell adhesion mediated by integrin // inferred from direct assay /// 0034097 // response to cytokine // inferred from electronic annotation /// 0034112 // positive regulation of homotypic cell-cell adhesion // inferred from direct assay /// 0034612 // response to tumor necrosis factor // inferred from electronic annotation /// 0042102 // positive regulation of T cell proliferation // inferred from direct assay /// 0042119 // neutrophil activation // inferred from direct assay /// 0042327 // positive regulation of phosphorylation // inferred from direct assay /// 0042531 // positive regulation of tyrosine phosphorylation of STAT protein // inferred from direct assay /// 0043491 // protein kinase B signaling // inferred from mutant phenotype /// 0043623 // cellular protein complex assembly // inferred from direct assay /// 0043922 // negative regulation by host of viral transcription // inferred from direct assay /// 0044344 // cellular response to fibroblast growth factor stimulus // inferred from expression pattern /// 0045070 // positive regulation of viral genome replication // traceable author statement /// 0045071 // negative regulation of viral genome replication // inferred from direct assay /// 0045089 // positive regulation of innate immune response // traceable author statement /// 0045744 // negative regulation of G-protein coupled receptor protein signaling pathway // inferred from direct assay /// 0045785 // positive regulation of cell adhesion // inferred from direct assay /// 0045948 // positive regulation of translational initiation // non-traceable author statement /// 0046427 // positive regulation of JAK-STAT cascade // traceable author statement /// 0048245 // eosinophil chemotaxis // inferred from direct assay /// 0048246 // macrophage chemotaxis // traceable author statement /// 0048661 // positive regulation of smooth muscle cell proliferation // inferred from direct assay /// 0050679 // positive regulation of epithelial cell proliferation // inferred from electronic annotation /// 0050863 // regulation of T cell activation // inferred from direct assay /// 0050918 // positive chemotaxis // inferred from direct assay /// 0051262 // protein tetramerization // inferred from direct assay /// 0051928 // positive regulation of calcium ion transport // inferred from direct assay /// 0060326 // cell chemotaxis // inferred from electronic annotation /// 0061098 // positive regulation of protein tyrosine kinase activity // inferred from direct assay /// 0070098 // chemokine-mediated signaling pathway // traceable author statement /// 0070100 // negative regulation of chemokine-mediated signaling pathway // inferred from direct assay /// 0070233 // negative regulation of T cell apoptotic process // inferred from direct assay /// 0070234 // positive regulation of T cell apoptotic process // inferred from direct assay /// 0071346 // cellular response to interferon-gamma // inferred from expression pattern /// 0071347 // cellular response to interleukin-1 // inferred from expression pattern /// 0071356 // cellular response to tumor necrosis factor // inferred from expression pattern /// 0071407 // cellular response to organic cyclic compound // inferred from direct assay /// 0090026 // positive regulation of monocyte chemotaxis // inferred from direct assay /// 2000110 // negative regulation of macrophage apoptotic process // inferred from electronic annotation /// 2000406 // positive regulation of T cell migration // inferred from direct assay /// 2000503 // positive regulation of natural killer cell chemotaxis // inferred from direct assay\t0005576 // extracellular region // traceable author statement /// 0005615 // extracellular space // inferred from electronic annotation /// 0005737 // cytoplasm // inferred from electronic annotation\t0004435 // phosphatidylinositol phospholipase C activity // inferred from direct assay /// 0004672 // protein kinase activity // inferred from direct assay /// 0005125 // cytokine activity // inferred from electronic annotation /// 0005515 // protein binding // inferred from physical interaction /// 0008009 // chemokine activity // inferred from direct assay /// 0008009 // chemokine activity // non-traceable author statement /// 0016004 // phospholipase activator activity // inferred from direct assay /// 0030298 // receptor signaling protein tyrosine kinase activator activity // inferred from direct assay /// 0031726 // CCR1 chemokine receptor binding // inferred from direct assay /// 0031726 // CCR1 chemokine receptor binding // inferred from physical interaction /// 0031726 // CCR1 chemokine receptor binding // traceable author statement /// 0031729 // CCR4 chemokine receptor binding // traceable author statement /// 0031730 // CCR5 chemokine receptor binding // inferred from physical interaction /// 0042056 // chemoattractant activity // inferred from direct assay /// 0042379 // chemokine receptor binding // inferred from physical interaction /// 0042803 // protein homodimerization activity // inferred from direct assay /// 0043621 // protein self-association // inferred from direct assay /// 0046817 // chemokine receptor antagonist activity // inferred from direct assay\t\n",
      "10: 1431_at\tJ02843\t\tHomo sapiens\tOct 6, 2014\tExemplar sequence\tAffymetrix Proprietary Database\tJ02843 /FEATURE=cds /DEFINITION=HUMCYPIIE Human cytochrome P450IIE1 (ethanol-inducible) gene, complete cds\tJ02843\tcytochrome P450, family 2, subfamily E, polypeptide 1\tCYP2E1\t1571\tNM_000773\t0006641 // triglyceride metabolic process // inferred from electronic annotation /// 0006805 // xenobiotic metabolic process // traceable author statement /// 0008202 // steroid metabolic process // inferred from mutant phenotype /// 0010193 // response to ozone // inferred from electronic annotation /// 0010243 // response to organonitrogen compound // inferred from electronic annotation /// 0016098 // monoterpenoid metabolic process // inferred from direct assay /// 0017144 // drug metabolic process // inferred from direct assay /// 0017144 // drug metabolic process // inferred from mutant phenotype /// 0042493 // response to drug // inferred from electronic annotation /// 0044281 // small molecule metabolic process // traceable author statement /// 0045471 // response to ethanol // inferred from electronic annotation /// 0046483 // heterocycle metabolic process // inferred from direct assay /// 0055114 // oxidation-reduction process // inferred from direct assay\t0000139 // Golgi membrane // inferred from electronic annotation /// 0005739 // mitochondrion // inferred from electronic annotation /// 0005783 // endoplasmic reticulum // inferred from electronic annotation /// 0005789 // endoplasmic reticulum membrane // traceable author statement /// 0016020 // membrane // inferred from electronic annotation /// 0031090 // organelle membrane // inferred from electronic annotation /// 0031227 // intrinsic component of endoplasmic reticulum membrane // inferred from electronic annotation /// 0043231 // intracellular membrane-bounded organelle // inferred from electronic annotation\t0004497 // monooxygenase activity // inferred from direct assay /// 0005506 // iron ion binding // inferred from electronic annotation /// 0009055 // electron carrier activity // inferred from electronic annotation /// 0016491 // oxidoreductase activity // inferred from direct assay /// 0016705 // oxidoreductase activity, acting on paired donors, with incorporation or reduction of molecular oxygen // inferred from electronic annotation /// 0016709 // oxidoreductase activity, acting on paired donors, with incorporation or reduction of molecular oxygen, NAD(P)H as one donor, and incorporation of one atom of oxygen // traceable author statement /// 0016712 // oxidoreductase activity, acting on paired donors, with incorporation or reduction of molecular oxygen, reduced flavin or flavoprotein as one donor, and incorporation of one atom of oxygen // inferred from electronic annotation /// 0019825 // oxygen binding // traceable author statement /// 0019899 // enzyme binding // inferred from physical interaction /// 0020037 // heme binding // inferred from direct assay /// 0046872 // metal ion binding // inferred from electronic annotation /// 0070330 // aromatase activity // inferred from electronic annotation\t\n",
      "11: 1438_at\tX75208\t\tHomo sapiens\tOct 6, 2014\tExemplar sequence\tAffymetrix Proprietary Database\tX75208 /FEATURE=cds /DEFINITION=HSPTKR H.sapiens HEK2 mRNA for protein tyrosine kinase receptor\tX75208\tEPH receptor B3\tEPHB3\t2049\tNM_004443\t0001525 // angiogenesis // inferred from sequence or structural similarity /// 0001655 // urogenital system development // inferred from sequence or structural similarity /// 0006468 // protein phosphorylation // inferred from electronic annotation /// 0007169 // transmembrane receptor protein tyrosine kinase signaling pathway // inferred from electronic annotation /// 0007275 // multicellular organismal development // inferred from electronic annotation /// 0007399 // nervous system development // inferred from electronic annotation /// 0007411 // axon guidance // inferred from sequence or structural similarity /// 0007413 // axonal fasciculation // inferred from sequence or structural similarity /// 0016310 // phosphorylation // inferred from electronic annotation /// 0016477 // cell migration // inferred from direct assay /// 0018108 // peptidyl-tyrosine phosphorylation // inferred from electronic annotation /// 0021952 // central nervous system projection neuron axonogenesis // inferred from electronic annotation /// 0022038 // corpus callosum development // inferred from sequence or structural similarity /// 0022407 // regulation of cell-cell adhesion // inferred from direct assay /// 0031290 // retinal ganglion cell axon guidance // inferred from electronic annotation /// 0032314 // regulation of Rac GTPase activity // inferred from direct assay /// 0034446 // substrate adhesion-dependent cell spreading // inferred from direct assay /// 0043088 // regulation of Cdc42 GTPase activity // inferred from direct assay /// 0046777 // protein autophosphorylation // inferred from direct assay /// 0048013 // ephrin receptor signaling pathway // inferred from direct assay /// 0048538 // thymus development // inferred from sequence or structural similarity /// 0048546 // digestive tract morphogenesis // inferred from sequence or structural similarity /// 0050770 // regulation of axonogenesis // inferred from sequence or structural similarity /// 0051965 // positive regulation of synapse assembly // inferred from sequence or structural similarity /// 0060021 // palate development // inferred from sequence or structural similarity /// 0060996 // dendritic spine development // inferred from sequence or structural similarity /// 0060997 // dendritic spine morphogenesis // inferred from sequence or structural similarity\t0005886 // plasma membrane // inferred from electronic annotation /// 0005887 // integral component of plasma membrane // inferred from direct assay /// 0016020 // membrane // inferred from electronic annotation /// 0016021 // integral component of membrane // inferred from electronic annotation /// 0030425 // dendrite // inferred from electronic annotation /// 0042995 // cell projection // inferred from electronic annotation\t0000166 // nucleotide binding // inferred from electronic annotation /// 0004672 // protein kinase activity // inferred from electronic annotation /// 0004713 // protein tyrosine kinase activity // inferred from electronic annotation /// 0004714 // transmembrane receptor protein tyrosine kinase activity // inferred from electronic annotation /// 0005003 // ephrin receptor activity // inferred from direct assay /// 0005515 // protein binding // inferred from electronic annotation /// 0005524 // ATP binding // inferred from electronic annotation /// 0008046 // axon guidance receptor activity // inferred from electronic annotation /// 0016301 // kinase activity // inferred from electronic annotation /// 0016740 // transferase activity // inferred from electronic annotation /// 0016772 // transferase activity, transferring phosphorus-containing groups // inferred from electronic annotation\t\n",
      "12: 1487_at\tL38487\t\tHomo sapiens\tOct 6, 2014\tExemplar sequence\tAffymetrix Proprietary Database\tL38487 /FEATURE=mRNA /DEFINITION=HUMHERRA1 Human estrogen receptor-related protein (hERRa1) mRNA, 3' end, partial cds\tL38487\testrogen-related receptor alpha\tESRRA\t2101\tNM_001282450 /// NM_001282451 /// NM_004451 /// XM_006718449 /// XM_006718450\t0006351 // transcription, DNA-templated // inferred from electronic annotation /// 0006355 // regulation of transcription, DNA-templated // inferred from mutant phenotype /// 0006367 // transcription initiation from RNA polymerase II promoter // traceable author statement /// 0010467 // gene expression // traceable author statement /// 0030278 // regulation of ossification // inferred from electronic annotation /// 0030522 // intracellular receptor signaling pathway // traceable author statement /// 0042127 // regulation of cell proliferation // inferred from electronic annotation /// 0043401 // steroid hormone mediated signaling pathway // inferred from electronic annotation /// 0045667 // regulation of osteoblast differentiation // inferred from electronic annotation /// 0045670 // regulation of osteoclast differentiation // inferred from electronic annotation /// 0045893 // positive regulation of transcription, DNA-templated // inferred from electronic annotation /// 0045944 // positive regulation of transcription from RNA polymerase II promoter // inferred from sequence or structural similarity /// 0051216 // cartilage development // inferred from electronic annotation\t0005634 // nucleus // inferred from direct assay /// 0005654 // nucleoplasm // traceable author statement /// 0005730 // nucleolus // inferred from direct assay /// 0015630 // microtubule cytoskeleton // inferred from direct assay /// 0045171 // intercellular bridge // inferred from direct assay\t0003677 // DNA binding // traceable author statement /// 0003700 // sequence-specific DNA binding transcription factor activity // inferred from electronic annotation /// 0003707 // steroid hormone receptor activity // inferred from electronic annotation /// 0004879 // ligand-activated sequence-specific DNA binding RNA polymerase II transcription factor activity // traceable author statement /// 0005496 // steroid binding // inferred from electronic annotation /// 0005515 // protein binding // inferred from physical interaction /// 0008270 // zinc ion binding // inferred from electronic annotation /// 0019904 // protein domain specific binding // inferred from physical interaction /// 0043565 // sequence-specific DNA binding // inferred from direct assay /// 0046872 // metal ion binding // inferred from electronic annotation\t\n",
      "13: 1494_f_at\tM33318\t\tHomo sapiens\tOct 6, 2014\tExemplar sequence\tAffymetrix Proprietary Database\tM33318 /FEATURE=mRNA /DEFINITION=HUMCPIIA3A Human cytochrome P450IIA3 (CYP2A3) mRNA, complete cds\tM33318\tcytochrome P450, family 2, subfamily A, polypeptide 6\tCYP2A6\t1548\tNM_000762\t0006805 // xenobiotic metabolic process // traceable author statement /// 0008202 // steroid metabolic process // inferred from mutant phenotype /// 0009804 // coumarin metabolic process // inferred from direct assay /// 0017144 // drug metabolic process // inferred from direct assay /// 0017144 // drug metabolic process // inferred from mutant phenotype /// 0042738 // exogenous drug catabolic process // inferred from direct assay /// 0044281 // small molecule metabolic process // traceable author statement /// 0046226 // coumarin catabolic process // inferred from direct assay /// 0055114 // oxidation-reduction process // inferred from electronic annotation\t0005783 // endoplasmic reticulum // inferred from electronic annotation /// 0005789 // endoplasmic reticulum membrane // traceable author statement /// 0005881 // cytoplasmic microtubule // inferred from direct assay /// 0016020 // membrane // inferred from electronic annotation /// 0031090 // organelle membrane // inferred from electronic annotation /// 0043231 // intracellular membrane-bounded organelle // inferred from electronic annotation\t0004497 // monooxygenase activity // inferred from electronic annotation /// 0005506 // iron ion binding // inferred from electronic annotation /// 0008389 // coumarin 7-hydroxylase activity // inferred from direct assay /// 0009055 // electron carrier activity // inferred from electronic annotation /// 0016491 // oxidoreductase activity // inferred from electronic annotation /// 0016705 // oxidoreductase activity, acting on paired donors, with incorporation or reduction of molecular oxygen // inferred from electronic annotation /// 0016712 // oxidoreductase activity, acting on paired donors, with incorporation or reduction of molecular oxygen, reduced flavin or flavoprotein as one donor, and incorporation of one atom of oxygen // inferred from electronic annotation /// 0019825 // oxygen binding // traceable author statement /// 0019899 // enzyme binding // inferred from physical interaction /// 0020037 // heme binding // inferred from direct assay /// 0046872 // metal ion binding // inferred from electronic annotation /// 0070330 // aromatase activity // inferred from electronic annotation\t\n",
      "14: 1552256_a_at\tNM_005505\t\tHomo sapiens\tOct 6, 2014\tConsensus sequence\tGenBank\tgb:NM_005505.2 /DB_XREF=gi:21361199 /GEN=SCARB1 /TID=Hs2.180616.1 /CNT=302 /FEA=FLmRNA /TIER=FL+Stack /STK=102 /LL=949 /UG=Hs.180616 /DEF=Homo sapiens scavenger receptor class B, member 1 (SCARB1), mRNA. /PROD=scavenger receptor class B, member 1 /FL=gb:NM_005505.2\tNM_005505\tscavenger receptor class B, member 1\tSCARB1\t949\tNM_001082959 /// NM_005505\t0001935 // endothelial cell proliferation // inferred from electronic annotation /// 0006702 // androgen biosynthetic process // inferred from electronic annotation /// 0006707 // cholesterol catabolic process // inferred from electronic annotation /// 0006869 // lipid transport // inferred from electronic annotation /// 0006898 // receptor-mediated endocytosis // inferred from direct assay /// 0006910 // phagocytosis, recognition // inferred from electronic annotation /// 0007155 // cell adhesion // inferred from electronic annotation /// 0010595 // positive regulation of endothelial cell migration // traceable author statement /// 0010867 // positive regulation of triglyceride biosynthetic process // inferred from sequence or structural similarity /// 0010886 // positive regulation of cholesterol storage // inferred from direct assay /// 0010899 // regulation of phosphatidylcholine catabolic process // inferred from sequence or structural similarity /// 0015914 // phospholipid transport // inferred from sequence or structural similarity /// 0015920 // lipopolysaccharide transport // inferred from direct assay /// 0016032 // viral process // inferred from electronic annotation /// 0019048 // modulation by virus of host morphology or physiology // inferred from electronic annotation /// 0030301 // cholesterol transport // inferred from electronic annotation /// 0031663 // lipopolysaccharide-mediated signaling pathway // inferred from direct assay /// 0032497 // detection of lipopolysaccharide // inferred from direct assay /// 0033344 // cholesterol efflux // inferred from sequence or structural similarity /// 0034375 // high-density lipoprotein particle remodeling // inferred from sequence or structural similarity /// 0034383 // low-density lipoprotein particle clearance // inferred from sequence or structural similarity /// 0034384 // high-density lipoprotein particle clearance // inferred from direct assay /// 0042060 // wound healing // traceable author statement /// 0042157 // lipoprotein metabolic process // traceable author statement /// 0042632 // cholesterol homeostasis // inferred from sequence or structural similarity /// 0043534 // blood vessel endothelial cell migration // inferred from electronic annotation /// 0043654 // recognition of apoptotic cell // inferred from direct assay /// 0043691 // reverse cholesterol transport // inferred from expression pattern /// 0044281 // small molecule metabolic process // traceable author statement /// 0044406 // adhesion of symbiont to host // inferred from mutant phenotype /// 0050764 // regulation of phagocytosis // inferred by curator /// 0051000 // positive regulation of nitric-oxide synthase activity // inferred from direct assay /// 0070328 // triglyceride homeostasis // inferred from sequence or structural similarity /// 0070508 // cholesterol import // inferred from sequence or structural similarity\t0005737 // cytoplasm // inferred from electronic annotation /// 0005765 // lysosomal membrane // inferred from direct assay /// 0005886 // plasma membrane // inferred from direct assay /// 0005886 // plasma membrane // traceable author statement /// 0005887 // integral component of plasma membrane // inferred from electronic annotation /// 0005901 // caveola // traceable author statement /// 0009986 // cell surface // inferred from electronic annotation /// 0016020 // membrane // inferred from electronic annotation /// 0016021 // integral component of membrane // inferred from electronic annotation /// 0030666 // endocytic vesicle membrane // traceable author statement /// 0031528 // microvillus membrane // inferred from electronic annotation /// 0070062 // extracellular vesicular exosome // inferred from direct assay\t0001530 // lipopolysaccharide binding // inferred from direct assay /// 0001786 // phosphatidylserine binding // inferred from sequence or structural similarity /// 0001875 // lipopolysaccharide receptor activity // inferred from direct assay /// 0005215 // transporter activity // traceable author statement /// 0005515 // protein binding // inferred from physical interaction /// 0005545 // 1-phosphatidylinositol binding // traceable author statement /// 0008035 // high-density lipoprotein particle binding // inferred from electronic annotation /// 0030169 // low-density lipoprotein particle binding // inferred from direct assay /// 0034185 // apolipoprotein binding // inferred from physical interaction /// 0034186 // apolipoprotein A-I binding // inferred from physical interaction /// 0042803 // protein homodimerization activity // inferred from electronic annotation /// 0070506 // high-density lipoprotein particle receptor activity // inferred from direct assay\t\n",
      "15: 1552257_a_at\tNM_015140\t\tHomo sapiens\tOct 6, 2014\tConsensus sequence\tGenBank\tgb:NM_015140.1 /DB_XREF=gi:11056035 /TID=Hs2.82563.1 /CNT=210 /FEA=FLmRNA /TIER=FL+Stack /STK=57 /LL=23170 /UG_GENE=KIAA0153 /UG=Hs.82563 /UG_TITLE=KIAA0153 protein /DEF=Homo sapiens KIAA0153 protein (KIAA0153), mRNA. /FL=gb:NM_015140.1 gb:BC001070.1\tNM_015140\ttubulin tyrosine ligase-like family, member 12\tTTLL12\t23170\tNM_015140\t0006464 // cellular protein modification process // inferred from electronic annotation\t\t\t\n",
      "16: 1552258_at\tNM_052871\t\tHomo sapiens\tOct 6, 2014\tConsensus sequence\tGenBank\tgb:NM_052871.1 /DB_XREF=gi:16418372 /TID=Hs2.432419.1 /CNT=37 /FEA=FLmRNA /TIER=FL+Stack /STK=25 /LL=112597 /UG_GENE=MGC4677 /UG=Hs.432419 /UG_TITLE=hypothetical protein MGC4677 /DEF=Homo sapiens hypothetical protein MGC4677 (MGC4677), mRNA. /FL=gb:BC010491.1 gb:NM_052871.1\tNM_052871\tlong intergenic non-protein coding RNA 152 /// uncharacterized LOC101930489\tLINC00152 /// LOC101930489\t112597 /// 101930489\tNM_052871 /// NR_024204 /// NR_024205 /// NR_024206 /// XR_249188 /// XR_425456 /// XR_425457 /// XR_425458\t\t\t\t\n",
      "17: 1552261_at\tNM_080735\t\tHomo sapiens\tOct 6, 2014\tConsensus sequence\tGenBank\tgb:NM_080735.1 /DB_XREF=gi:18379359 /GEN=WFDC2 /TID=Hs2.2719.2 /CNT=26 /FEA=FLmRNA /TIER=FL+Stack /STK=23 /LL=10406 /UG=Hs.2719 /DEF=Homo sapiens WAP four-disulfide core domain 2 (WFDC2), transcript variant 5, mRNA. /PROD=WAP four-disulfide core domain 2, isoform 5 /FL=gb:NM_080735.1 gb:AF330261.1\tNM_080735\tWAP four-disulfide core domain 2\tWFDC2\t10406\tNM_006103 /// NM_080733 /// NM_080734 /// NM_080735 /// NM_080736\t0006508 // proteolysis // traceable author statement /// 0007283 // spermatogenesis // traceable author statement /// 0010466 // negative regulation of peptidase activity // inferred from electronic annotation /// 0010951 // negative regulation of endopeptidase activity // inferred from electronic annotation /// 0010951 // negative regulation of endopeptidase activity // traceable author statement\t0005576 // extracellular region // inferred from electronic annotation /// 0005615 // extracellular space // traceable author statement /// 0070062 // extracellular vesicular exosome // inferred from direct assay\t0004866 // endopeptidase inhibitor activity // traceable author statement /// 0004867 // serine-type endopeptidase inhibitor activity // inferred from electronic annotation /// 0004869 // cysteine-type endopeptidase inhibitor activity // inferred from electronic annotation /// 0019828 // aspartic-type endopeptidase inhibitor activity // inferred from electronic annotation /// 0030414 // peptidase inhibitor activity // inferred from electronic annotation\t\n",
      "18: 1552263_at\tNM_138957\t\tHomo sapiens\tOct 6, 2014\tConsensus sequence\tGenBank\tgb:NM_138957.1 /DB_XREF=gi:20986530 /GEN=MAPK1 /TID=Hs2.324473.2 /CNT=74 /FEA=FLmRNA /TIER=FL+Stack /STK=16 /LL=5594 /UG=Hs.324473 /DEF=Homo sapiens mitogen-activated protein kinase 1 (MAPK1), transcript variant 2, mRNA. /PROD=mitogen-activated protein kinase 1 /FL=gb:NM_138957.1 gb:BC017832.1\tNM_138957\tmitogen-activated protein kinase 1\tMAPK1\t5594\tNM_002745 /// NM_138957\t0000165 // MAPK cascade // traceable author statement /// 0000186 // activation of MAPKK activity // traceable author statement /// 0000187 // activation of MAPK activity // traceable author statement /// 0000189 // MAPK import into nucleus // inferred from electronic annotation /// 0002224 // toll-like receptor signaling pathway // traceable author statement /// 0002755 // MyD88-dependent toll-like receptor signaling pathway // traceable author statement /// 0002756 // MyD88-independent toll-like receptor signaling pathway // traceable author statement /// 0006351 // transcription, DNA-templated // inferred from electronic annotation /// 0006355 // regulation of transcription, DNA-templated // inferred from electronic annotation /// 0006468 // protein phosphorylation // inferred from electronic annotation /// 0006915 // apoptotic process // inferred from electronic annotation /// 0006935 // chemotaxis // traceable author statement /// 0006950 // response to stress // traceable author statement /// 0006974 // cellular response to DNA damage stimulus // inferred from electronic annotation /// 0007049 // cell cycle // inferred from electronic annotation /// 0007165 // signal transduction // traceable author statement /// 0007173 // epidermal growth factor receptor signaling pathway // traceable author statement /// 0007264 // small GTPase mediated signal transduction // traceable author statement /// 0007265 // Ras protein signal transduction // traceable author statement /// 0007268 // synaptic transmission // traceable author statement /// 0007411 // axon guidance // traceable author statement /// 0007596 // blood coagulation // traceable author statement /// 0008284 // positive regulation of cell proliferation // inferred from electronic annotation /// 0008286 // insulin receptor signaling pathway // traceable author statement /// 0008543 // fibroblast growth factor receptor signaling pathway // traceable author statement /// 0009636 // response to toxic substance // inferred from electronic annotation /// 0009887 // organ morphogenesis // inferred from electronic annotation /// 0010800 // positive regulation of peptidyl-threonine phosphorylation // inferred from direct assay /// 0016032 // viral process // inferred from electronic annotation /// 0016310 // phosphorylation // inferred from electronic annotation /// 0018105 // peptidyl-serine phosphorylation // inferred from direct assay /// 0018107 // peptidyl-threonine phosphorylation // inferred from sequence or structural similarity /// 0019048 // modulation by virus of host morphology or physiology // inferred from electronic annotation /// 0019233 // sensory perception of pain // inferred from electronic annotation /// 0019858 // cytosine metabolic process // inferred from electronic annotation /// 0030168 // platelet activation // traceable author statement /// 0030335 // positive regulation of cell migration // inferred from electronic annotation /// 0031647 // regulation of protein stability // inferred from sequence or structural similarity /// 0031663 // lipopolysaccharide-mediated signaling pathway // inferred from electronic annotation /// 0032496 // response to lipopolysaccharide // inferred from electronic annotation /// 0032872 // regulation of stress-activated MAPK cascade // traceable author statement /// 0033598 // mammary gland epithelial cell proliferation // inferred from electronic annotation /// 0034134 // toll-like receptor 2 signaling pathway // traceable author statement /// 0034138 // toll-like receptor 3 signaling pathway // traceable author statement /// 0034142 // toll-like receptor 4 signaling pathway // traceable author statement /// 0034146 // toll-like receptor 5 signaling pathway // traceable author statement /// 0034162 // toll-like receptor 9 signaling pathway // traceable author statement /// 0034166 // toll-like receptor 10 signaling pathway // traceable author statement /// 0035556 // intracellular signal transduction // inferred from electronic annotation /// 0035666 // TRIF-dependent toll-like receptor signaling pathway // traceable author statement /// 0038095 // Fc-epsilon receptor signaling pathway // traceable author statement /// 0038096 // Fc-gamma receptor signaling pathway involved in phagocytosis // traceable author statement /// 0038123 // toll-like receptor TLR1:TLR2 signaling pathway // traceable author statement /// 0038124 // toll-like receptor TLR6:TLR2 signaling pathway // traceable author statement /// 0038127 // ERBB signaling pathway // inferred from direct assay /// 0042221 // response to chemical // inferred from electronic annotation /// 0043330 // response to exogenous dsRNA // inferred from electronic annotation /// 0043627 // response to estrogen // inferred from electronic annotation /// 0045087 // innate immune response // traceable author statement /// 0045596 // negative regulation of cell differentiation // inferred from electronic annotation /// 0045727 // positive regulation of translation // inferred from electronic annotation /// 0045893 // positive regulation of transcription, DNA-templated // inferred from electronic annotation /// 0048011 // neurotrophin TRK receptor signaling pathway // traceable author statement /// 0050852 // T cell receptor signaling pathway // inferred from electronic annotation /// 0050853 // B cell receptor signaling pathway // inferred from electronic annotation /// 0051090 // regulation of sequence-specific DNA binding transcription factor activity // traceable author statement /// 0051403 // stress-activated MAPK cascade // traceable author statement /// 0051493 // regulation of cytoskeleton organization // traceable author statement /// 0060397 // JAK-STAT cascade involved in growth hormone signaling pathway // traceable author statement /// 0060716 // labyrinthine layer blood vessel development // inferred from electronic annotation /// 0070371 // ERK1 and ERK2 cascade // inferred from direct assay /// 0070371 // ERK1 and ERK2 cascade // traceable author statement /// 0070849 // response to epidermal growth factor // inferred from direct assay /// 0072584 // caveolin-mediated endocytosis // traceable author statement /// 0090170 // regulation of Golgi inheritance // traceable author statement /// 2000641 // regulation of early endosome to late endosome transport // traceable author statement\t0005634 // nucleus // inferred from direct assay /// 0005634 // nucleus // traceable author statement /// 0005654 // nucleoplasm // traceable author statement /// 0005730 // nucleolus // inferred from direct assay /// 0005737 // cytoplasm // inferred from direct assay /// 0005737 // cytoplasm // inferred from sequence or structural similarity /// 0005739 // mitochondrion // traceable author statement /// 0005769 // early endosome // traceable author statement /// 0005770 // late endosome // traceable author statement /// 0005794 // Golgi apparatus // traceable author statement /// 0005815 // microtubule organizing center // inferred from electronic annotation /// 0005819 // spindle // inferred from electronic annotation /// 0005829 // cytosol // traceable author statement /// 0005856 // cytoskeleton // traceable author statement /// 0005901 // caveola // traceable author statement /// 0005925 // focal adhesion // traceable author statement /// 0015630 // microtubule cytoskeleton // inferred from direct assay /// 0031143 // pseudopodium // inferred from electronic annotation /// 0032839 // dendrite cytoplasm // inferred from electronic annotation /// 0043204 // perikaryon // inferred from electronic annotation /// 0043234 // protein complex // inferred from electronic annotation /// 0070062 // extracellular vesicular exosome // inferred from direct assay /// 0072686 // mitotic spindle // inferred from sequence or structural similarity\t0000166 // nucleotide binding // inferred from electronic annotation /// 0001784 // phosphotyrosine binding // inferred from electronic annotation /// 0003677 // DNA binding // inferred from electronic annotation /// 0004672 // protein kinase activity // inferred from electronic annotation /// 0004674 // protein serine/threonine kinase activity // inferred from direct assay /// 0004707 // MAP kinase activity // inferred from electronic annotation /// 0004713 // protein tyrosine kinase activity // inferred from electronic annotation /// 0005515 // protein binding // inferred from physical interaction /// 0005524 // ATP binding // inferred from electronic annotation /// 0008134 // transcription factor binding // inferred from electronic annotation /// 0008353 // RNA polymerase II carboxy-terminal domain kinase activity // inferred from sequence or structural similarity /// 0016301 // kinase activity // inferred from electronic annotation /// 0016740 // transferase activity // inferred from electronic annotation /// 0016772 // transferase activity, transferring phosphorus-containing groups // inferred from electronic annotation /// 0019902 // phosphatase binding // inferred from physical interaction /// 0031435 // mitogen-activated protein kinase kinase kinase binding // inferred from electronic annotation\t\n",
      "19: 1552264_a_at\tNM_138957\t\tHomo sapiens\tOct 6, 2014\tConsensus sequence\tGenBank\tgb:NM_138957.1 /DB_XREF=gi:20986530 /GEN=MAPK1 /TID=Hs2.324473.2 /CNT=74 /FEA=FLmRNA /TIER=FL+Stack /STK=16 /LL=5594 /UG=Hs.324473 /DEF=Homo sapiens mitogen-activated protein kinase 1 (MAPK1), transcript variant 2, mRNA. /PROD=mitogen-activated protein kinase 1 /FL=gb:NM_138957.1 gb:BC017832.1\tNM_138957\tmitogen-activated protein kinase 1\tMAPK1\t5594\tNM_002745 /// NM_138957\t0000165 // MAPK cascade // traceable author statement /// 0000186 // activation of MAPKK activity // traceable author statement /// 0000187 // activation of MAPK activity // traceable author statement /// 0000189 // MAPK import into nucleus // inferred from electronic annotation /// 0002224 // toll-like receptor signaling pathway // traceable author statement /// 0002755 // MyD88-dependent toll-like receptor signaling pathway // traceable author statement /// 0002756 // MyD88-independent toll-like receptor signaling pathway // traceable author statement /// 0006351 // transcription, DNA-templated // inferred from electronic annotation /// 0006355 // regulation of transcription, DNA-templated // inferred from electronic annotation /// 0006468 // protein phosphorylation // inferred from electronic annotation /// 0006915 // apoptotic process // inferred from electronic annotation /// 0006935 // chemotaxis // traceable author statement /// 0006950 // response to stress // traceable author statement /// 0006974 // cellular response to DNA damage stimulus // inferred from electronic annotation /// 0007049 // cell cycle // inferred from electronic annotation /// 0007165 // signal transduction // traceable author statement /// 0007173 // epidermal growth factor receptor signaling pathway // traceable author statement /// 0007264 // small GTPase mediated signal transduction // traceable author statement /// 0007265 // Ras protein signal transduction // traceable author statement /// 0007268 // synaptic transmission // traceable author statement /// 0007411 // axon guidance // traceable author statement /// 0007596 // blood coagulation // traceable author statement /// 0008284 // positive regulation of cell proliferation // inferred from electronic annotation /// 0008286 // insulin receptor signaling pathway // traceable author statement /// 0008543 // fibroblast growth factor receptor signaling pathway // traceable author statement /// 0009636 // response to toxic substance // inferred from electronic annotation /// 0009887 // organ morphogenesis // inferred from electronic annotation /// 0010800 // positive regulation of peptidyl-threonine phosphorylation // inferred from direct assay /// 0016032 // viral process // inferred from electronic annotation /// 0016310 // phosphorylation // inferred from electronic annotation /// 0018105 // peptidyl-serine phosphorylation // inferred from direct assay /// 0018107 // peptidyl-threonine phosphorylation // inferred from sequence or structural similarity /// 0019048 // modulation by virus of host morphology or physiology // inferred from electronic annotation /// 0019233 // sensory perception of pain // inferred from electronic annotation /// 0019858 // cytosine metabolic process // inferred from electronic annotation /// 0030168 // platelet activation // traceable author statement /// 0030335 // positive regulation of cell migration // inferred from electronic annotation /// 0031647 // regulation of protein stability // inferred from sequence or structural similarity /// 0031663 // lipopolysaccharide-mediated signaling pathway // inferred from electronic annotation /// 0032496 // response to lipopolysaccharide // inferred from electronic annotation /// 0032872 // regulation of stress-activated MAPK cascade // traceable author statement /// 0033598 // mammary gland epithelial cell proliferation // inferred from electronic annotation /// 0034134 // toll-like receptor 2 signaling pathway // traceable author statement /// 0034138 // toll-like receptor 3 signaling pathway // traceable author statement /// 0034142 // toll-like receptor 4 signaling pathway // traceable author statement /// 0034146 // toll-like receptor 5 signaling pathway // traceable author statement /// 0034162 // toll-like receptor 9 signaling pathway // traceable author statement /// 0034166 // toll-like receptor 10 signaling pathway // traceable author statement /// 0035556 // intracellular signal transduction // inferred from electronic annotation /// 0035666 // TRIF-dependent toll-like receptor signaling pathway // traceable author statement /// 0038095 // Fc-epsilon receptor signaling pathway // traceable author statement /// 0038096 // Fc-gamma receptor signaling pathway involved in phagocytosis // traceable author statement /// 0038123 // toll-like receptor TLR1:TLR2 signaling pathway // traceable author statement /// 0038124 // toll-like receptor TLR6:TLR2 signaling pathway // traceable author statement /// 0038127 // ERBB signaling pathway // inferred from direct assay /// 0042221 // response to chemical // inferred from electronic annotation /// 0043330 // response to exogenous dsRNA // inferred from electronic annotation /// 0043627 // response to estrogen // inferred from electronic annotation /// 0045087 // innate immune response // traceable author statement /// 0045596 // negative regulation of cell differentiation // inferred from electronic annotation /// 0045727 // positive regulation of translation // inferred from electronic annotation /// 0045893 // positive regulation of transcription, DNA-templated // inferred from electronic annotation /// 0048011 // neurotrophin TRK receptor signaling pathway // traceable author statement /// 0050852 // T cell receptor signaling pathway // inferred from electronic annotation /// 0050853 // B cell receptor signaling pathway // inferred from electronic annotation /// 0051090 // regulation of sequence-specific DNA binding transcription factor activity // traceable author statement /// 0051403 // stress-activated MAPK cascade // traceable author statement /// 0051493 // regulation of cytoskeleton organization // traceable author statement /// 0060397 // JAK-STAT cascade involved in growth hormone signaling pathway // traceable author statement /// 0060716 // labyrinthine layer blood vessel development // inferred from electronic annotation /// 0070371 // ERK1 and ERK2 cascade // inferred from direct assay /// 0070371 // ERK1 and ERK2 cascade // traceable author statement /// 0070849 // response to epidermal growth factor // inferred from direct assay /// 0072584 // caveolin-mediated endocytosis // traceable author statement /// 0090170 // regulation of Golgi inheritance // traceable author statement /// 2000641 // regulation of early endosome to late endosome transport // traceable author statement\t0005634 // nucleus // inferred from direct assay /// 0005634 // nucleus // traceable author statement /// 0005654 // nucleoplasm // traceable author statement /// 0005730 // nucleolus // inferred from direct assay /// 0005737 // cytoplasm // inferred from direct assay /// 0005737 // cytoplasm // inferred from sequence or structural similarity /// 0005739 // mitochondrion // traceable author statement /// 0005769 // early endosome // traceable author statement /// 0005770 // late endosome // traceable author statement /// 0005794 // Golgi apparatus // traceable author statement /// 0005815 // microtubule organizing center // inferred from electronic annotation /// 0005819 // spindle // inferred from electronic annotation /// 0005829 // cytosol // traceable author statement /// 0005856 // cytoskeleton // traceable author statement /// 0005901 // caveola // traceable author statement /// 0005925 // focal adhesion // traceable author statement /// 0015630 // microtubule cytoskeleton // inferred from direct assay /// 0031143 // pseudopodium // inferred from electronic annotation /// 0032839 // dendrite cytoplasm // inferred from electronic annotation /// 0043204 // perikaryon // inferred from electronic annotation /// 0043234 // protein complex // inferred from electronic annotation /// 0070062 // extracellular vesicular exosome // inferred from direct assay /// 0072686 // mitotic spindle // inferred from sequence or structural similarity\t0000166 // nucleotide binding // inferred from electronic annotation /// 0001784 // phosphotyrosine binding // inferred from electronic annotation /// 0003677 // DNA binding // inferred from electronic annotation /// 0004672 // protein kinase activity // inferred from electronic annotation /// 0004674 // protein serine/threonine kinase activity // inferred from direct assay /// 0004707 // MAP kinase activity // inferred from electronic annotation /// 0004713 // protein tyrosine kinase activity // inferred from electronic annotation /// 0005515 // protein binding // inferred from physical interaction /// 0005524 // ATP binding // inferred from electronic annotation /// 0008134 // transcription factor binding // inferred from electronic annotation /// 0008353 // RNA polymerase II carboxy-terminal domain kinase activity // inferred from sequence or structural similarity /// 0016301 // kinase activity // inferred from electronic annotation /// 0016740 // transferase activity // inferred from electronic annotation /// 0016772 // transferase activity, transferring phosphorus-containing groups // inferred from electronic annotation /// 0019902 // phosphatase binding // inferred from physical interaction /// 0031435 // mitogen-activated protein kinase kinase kinase binding // inferred from electronic annotation\t\n",
      "20: 1552266_at\tNM_145004\t\tHomo sapiens\tOct 6, 2014\tConsensus sequence\tGenBank\tgb:NM_145004.1 /DB_XREF=gi:21450712 /TID=Hs2.338203.1 /CNT=38 /FEA=FLmRNA /TIER=FL+Stack /STK=15 /LL=203102 /UG_GENE=MGC26899 /UG=Hs.338203 /UG_TITLE=hypothetical protein MGC26899 /DEF=Homo sapiens a disintegrin and metalloprotease domain 32 (ADAM32), mRNA. /FL=gb:BC030698.1 gb:NM_145004.1 gb:BC030014.1 gb:BC026085.1 gb:BC028702.1 gb:BC026169.1 gb:BC034975.1\tNM_145004\tADAM metallopeptidase domain 32\tADAM32\t203102\tNM_145004 /// XM_006716298 /// XM_006716299 /// XM_006725117 /// XM_006725118 /// XR_430696\t0006508 // proteolysis // inferred from electronic annotation /// 0007229 // integrin-mediated signaling pathway // inferred from electronic annotation\t0016020 // membrane // inferred from electronic annotation /// 0016021 // integral component of membrane // inferred from electronic annotation\t0004222 // metalloendopeptidase activity // inferred from electronic annotation /// 0005515 // protein binding // inferred from electronic annotation /// 0008233 // peptidase activity // inferred from electronic annotation /// 0008237 // metallopeptidase activity // inferred from electronic annotation /// 0008270 // zinc ion binding // inferred from electronic annotation\t\n",
      "...\n",
      "54676: AFFX-TrpnX-M_at\t\t--Control\tHomo sapiens\tOct 6, 2014\tControl sequence\tAffymetrix Proprietary Database\tB. subtilis /GEN=trpD, trpC /DB_XREF=gb:K01391.1 /NOTE=SIF corresponding to nucleotides 2880-3359 of gb:K01391.1, not 100% identical /DEF=B.subtilis tryptophan (trp) operon, complete cds.\tAFFX-TrpnX-M\t\t\t\t\t\t\t\t\n",
      "\n",
      "\n",
      "---------------------- ENTITY_ATTRIBUTES:------------------------------\n",
      "\n",
      "{'Platform_title': '[HG-U133_Plus_2] Affymetrix Human Genome U133 Plus 2.0 Array', 'Platform_geo_accession': 'GPL570', 'Platform_status': 'Public on Nov 07 2003', 'Platform_submission_date': 'Nov 07 2003', 'Platform_last_update_date': 'Mar 25 2019', 'Platform_technology': 'in situ oligonucleotide', 'Platform_distribution': 'commercial', 'Platform_organism': 'Homo sapiens', 'Platform_taxid': '9606', 'Platform_manufacturer': 'Affymetrix', 'Platform_manufacture_protocol': [\"see manufacturer's web site\", '', 'Complete coverage of the Human Genome U133 Set plus 6,500 additional genes for analysis of over 47,000 transcripts', 'All probe sets represented on the GeneChip Human Genome U133 Set are identically replicated on the GeneChip Human Genome U133 Plus 2.0 Array. The sequences from which these probe sets were derived were selected from GenBankÂ®, dbEST, and RefSeq. The sequence clusters were created from the UniGene database (Build 133, April 20, 2001) and then refined by analysis and comparison with a number of other publicly available databases, including the Washington University EST trace repository and the University of California, Santa Cruz Golden-Path human genome database (April 2001 release).', 'In addition, there are 9,921 new probe sets representing approximately 6,500 new genes. These gene sequences were selected from GenBank, dbEST, and RefSeq. Sequence clusters were created from the UniGene database (Build 159, January 25, 2003) and refined by analysis and comparison with a number of other publicly available databases, including the Washington University EST trace repository and the NCBI human genome assembly (Build 31).', ''], 'Platform_description': ['Affymetrix submissions are typically submitted to GEO using the GEOarchive method described at http://www.ncbi.nlm.nih.gov/projects/geo/info/geo_affy.html', '', 'June 03, 2009: annotation table updated with netaffx build 28', 'June 06, 2012: annotation table updated with netaffx build 32', 'June 23, 2016: annotation table updated with netaffx build 35'], 'Platform_web_link': ['http://www.affymetrix.com/support/technical/byproduct.affx?product=hg-u133-plus', 'http://www.affymetrix.com/analysis/index.affx'], 'Platform_contact_name': ',,Affymetrix, Inc.', 'Platform_contact_email': 'geo@ncbi.nlm.nih.gov, support@affymetrix.com', 'Platform_contact_phone': '888-362-2447', 'Platform_contact_institute': 'Affymetrix, Inc.', 'Platform_contact_address': '', 'Platform_contact_city': 'Santa Clara', 'Platform_contact_state': 'CA', 'Platform_contact_zip/postal_code': '95051', 'Platform_contact_country': 'USA', 'Platform_contact_web_link': 'http://www.affymetrix.com/index.affx', 'Platform_relation': ['Alternative to: GPL4454 (Alternative CDF)', 'Alternative to: GPL4866 (Alternative CDF)', 'Alternative to: GPL5760 (Alternative CDF)', 'Alternative to: GPL6671 (Alternative CDF)', 'Alternative to: GPL6791 (Alternative CDF)', 'Alternative to: GPL6879 (Alternative CDF)', 'Alternative to: GPL7567 (Alternative CDF)', 'Alternative to: GPL8019 (Alternative CDF)', 'Alternative to: GPL8542 (Alternative CDF)', 'Alternative to: GPL8715 (Alternative CDF)', 'Alternative to: GPL8712 (Alternative CDF)', 'Alternative to: GPL9102 (Probe Level Version)', 'Alternative to: GPL9099 (Alternative CDF)', 'Alternative to: GPL9101 (Alternative CDF)', 'Alternative to: GPL9324 (Alternative CDF)', 'Alternative to: GPL9486 (Alternative CDF)', 'Alternative to: GPL9987 (Alternative CDF)', 'Alternative to: GPL10175 (Alternative CDF)', 'Alternative to: GPL10335 (Alternative CDF)', 'Alternative to: GPL10371 (Alternative CDF)', 'Alternative to: GPL10526 (Alternative CDF)', 'Alternative to: GPL10881 (Alternative CDF)', 'Alternative to: GPL10925 (Alternative CDF)', 'Alternative to: GPL11084 (Alternative CDF)', 'Alternative to: GPL11433 (Alternative CDF)', 'Alternative to: GPL11670 (Alternative CDF)', 'Alternative to: GPL13232 (Alternative CDF [HGU133Plus2_Hs_REFSEQ, Brainarray version 13.0.0])', 'Alternative to: GPL13303 (Alternative CDF.)', 'Alternative to: GPL13916 ([Brainarray ENSG Version 14.1])', 'Alternative to: GPL14837 (Alternative CDF)', 'Alternative to: GPL14877 ([Alternative CDF])', 'Alternative to: GPL15394 (Alternative CDF [HGU133Plus2_Hs_REFSEQ, Brainarray version 14.0])', 'Alternative to: GPL6732 (Alternative CDF [HGU133Plus2_Hs_REFSEQ, Brainarray version 7])', 'Alternative to: GPL15445 (Alternative CDF)', 'Alternative to: GPL16066 (Alternative CDF)', 'Alternative to: GPL16100 (Alternative CDF [GATExplorer_Ensembl v57])', 'Alternative to: GPL16268 (Alternative CDF [Brainarray ENSG Version 16])', 'Alternative to: GPL16273 (Alternative CDF [Brainarray ENSG Version 15])', 'Alternative to: GPL16311 (Alternative CDF [HGU133Plus2_Hs_ENTREZG Brainarray version 14.0.0])', 'Alternative to: GPL16356 (Alternative CDF [Brainarray HGU133Plus2_Hs_ENTREZG 15.0.0])', 'Alternative to: GPL16372 (Alternative CDF [Brainarray HGU133Plus2_Hs_UG v.13])', 'Alternative to: GPL17392 (Alternative CDF [HGU133Plus2_Hs_ENSG, Brainarray 17.1])', 'Alternative to: GPL17394 (Alternative CDF [HGU133Plus2_Hs_ENSG, Brainarray 13.0])', 'Alternative to: GPL17810 (Alternative CDF [HGU133Plus2_Hs_ENTREZG, Brainarray 16])', 'Alternative to: GPL17811 (Alternative CDF [HGU133Plus2_Hs_ENTREZG, Brainarray 17])', 'Alternative to: GPL17996 (Alternative CDF:HGU133Plus2_Hs_ENTREZG.cdf version 15.1.0)', 'Alternative to: GPL18121 (custom CDF)', 'Alternative to: GPL18756 (Alternative CDF [CDF: HGU133Plus2_Hs_ENTREZG_14.1.0])', 'Alternative to: GPL18850 (Alternative CDF)', 'Alternative to: GPL18478 (Alternative CDF [Hs_ENTREZG_V13])', 'Alternative to: GPL19109 (Alternative CDF [Brainarray HGU133Plus2_Hs_ENTREZG_v18])', 'Alternative to: GPL19883 (Alternative CDF [Broad GenePattern])', 'Alternative to: GPL19918 (Gene symbol version, 10K)', 'Alternative to: GPL20182 (Gene Symbol Version)', 'Alternative to: GPL22321 (Alternative CDF [HGU133Plus2_Hs_ENTREZG, Brainarray 20])', 'Alternative to: GPL22945 (alternative)', 'Alternative to: GPL23270 ((Alternative CDF [HGU133Plus2_Hs_ENTREZG, Brainarray 21])', 'Alternative to: GPL23432 (alternative CDF [HGU133Plus2_Hs_ENSG, Brainarray version 18.0.0])', 'Alternative to: GPL25740 (alternative)'], 'Platform_data_row_count': '54675', 'platform_table_end': ''}\n"
     ]
    }
   ],
   "source": [
    "nr = next(records)\n",
    "print(nr)\n",
    "print('\\n---------------------- ENTITY_ATTRIBUTES:------------------------------\\n')\n",
    "print(nr.entity_attributes)"
   ]
  },
  {
   "cell_type": "code",
   "execution_count": 99,
   "metadata": {},
   "outputs": [
    {
     "name": "stdout",
     "output_type": "stream",
     "text": [
      "<class 'Bio.Geo.Record.Record'>\n"
     ]
    }
   ],
   "source": [
    "'PLATFORM'\n",
    "records = load_geo(DATA_PATH + 'GSE21510_family.soft')\n",
    "series_sample_id = []\n",
    "sample_titles = []\n",
    "genes = []\n",
    "nb_cols = 0\n",
    "nb_rows = 0\n",
    "data = []\n",
    "\n",
    "count = 0\n",
    "for r in records:\n",
    "    \n",
    "    if count == 2:\n",
    "        if\n",
    "        \n",
    "        break\n",
    "    count += 1"
   ]
  },
  {
   "cell_type": "code",
   "execution_count": 84,
   "metadata": {},
   "outputs": [
    {
     "ename": "NameError",
     "evalue": "name 'load_geo' is not defined",
     "output_type": "error",
     "traceback": [
      "\u001b[1;31m---------------------------------------------------------------------------\u001b[0m",
      "\u001b[1;31mNameError\u001b[0m                                 Traceback (most recent call last)",
      "\u001b[1;32m<ipython-input-84-15f952e7d2da>\u001b[0m in \u001b[0;36m<module>\u001b[1;34m\u001b[0m\n\u001b[0;32m      1\u001b[0m \u001b[1;31m# re-loading the data\u001b[0m\u001b[1;33m\u001b[0m\u001b[1;33m\u001b[0m\u001b[1;33m\u001b[0m\u001b[0m\n\u001b[1;32m----> 2\u001b[1;33m \u001b[0mrecords\u001b[0m \u001b[1;33m=\u001b[0m \u001b[0mload_geo\u001b[0m\u001b[1;33m(\u001b[0m\u001b[0mDATA_PATH\u001b[0m \u001b[1;33m+\u001b[0m \u001b[1;34m'GSE21510_family.soft'\u001b[0m\u001b[1;33m)\u001b[0m\u001b[1;33m\u001b[0m\u001b[1;33m\u001b[0m\u001b[0m\n\u001b[0m\u001b[0;32m      3\u001b[0m \u001b[0mseries_sample_id\u001b[0m \u001b[1;33m=\u001b[0m \u001b[1;33m[\u001b[0m\u001b[1;33m]\u001b[0m\u001b[1;33m\u001b[0m\u001b[1;33m\u001b[0m\u001b[0m\n\u001b[0;32m      4\u001b[0m \u001b[0msample_titles\u001b[0m \u001b[1;33m=\u001b[0m \u001b[1;33m[\u001b[0m\u001b[1;33m]\u001b[0m\u001b[1;33m\u001b[0m\u001b[1;33m\u001b[0m\u001b[0m\n\u001b[0;32m      5\u001b[0m \u001b[0mgenes\u001b[0m \u001b[1;33m=\u001b[0m \u001b[1;33m[\u001b[0m\u001b[1;33m]\u001b[0m\u001b[1;33m\u001b[0m\u001b[1;33m\u001b[0m\u001b[0m\n",
      "\u001b[1;31mNameError\u001b[0m: name 'load_geo' is not defined"
     ]
    }
   ],
   "source": [
    "# re-loading the data\n",
    "records = load_geo(DATA_PATH + 'GSE21510_family.soft')\n",
    "series_sample_id = []\n",
    "sample_titles = []\n",
    "genes = []\n",
    "nb_cols = 0\n",
    "nb_rows = 0\n",
    "data = []\n",
    "for r in records:\n",
    "    rea = r.entity_attributes\n",
    "    if 'Series_geo_accession' in rea:\n",
    "        if rea['Series_geo_accession'] == 'GSE21510':\n",
    "            series_sample_id = rea['Series_sample_id']\n",
    "            nb_cols = len(series_sample_id)\n",
    "    if 'Sample_title' in rea:\n",
    "        sample_titles.append(rea['Sample_title'])\n",
    "        if 'sample_table_begin' in rea:\n",
    "            nb_rows = rea['Sample_data_row_count'] \n",
    "            data.append(r.table_rows)\n",
    "                    "
   ]
  },
  {
   "cell_type": "markdown",
   "metadata": {},
   "source": [
    "data will become a 2d numpy array of shape (54676, 149) == (NB_GENES+1, NB_SAMPLES+1).  \n",
    "First row will contain the sample ids, first column will contain the ID_REFs of the genes."
   ]
  },
  {
   "cell_type": "code",
   "execution_count": 44,
   "metadata": {},
   "outputs": [
    {
     "ename": "MemoryError",
     "evalue": "",
     "output_type": "error",
     "traceback": [
      "\u001b[1;31m---------------------------------------------------------------------------\u001b[0m",
      "\u001b[1;31mMemoryError\u001b[0m                               Traceback (most recent call last)",
      "\u001b[1;32m<ipython-input-44-67174cef3785>\u001b[0m in \u001b[0;36m<module>\u001b[1;34m\u001b[0m\n\u001b[0;32m      5\u001b[0m \u001b[1;33m\u001b[0m\u001b[0m\n\u001b[0;32m      6\u001b[0m \u001b[1;32mfor\u001b[0m \u001b[0mi\u001b[0m\u001b[1;33m,\u001b[0m \u001b[0md\u001b[0m \u001b[1;32min\u001b[0m \u001b[0menumerate\u001b[0m\u001b[1;33m(\u001b[0m\u001b[0mdata\u001b[0m\u001b[1;33m)\u001b[0m\u001b[1;33m:\u001b[0m\u001b[1;33m\u001b[0m\u001b[1;33m\u001b[0m\u001b[0m\n\u001b[1;32m----> 7\u001b[1;33m     \u001b[0mvalues\u001b[0m \u001b[1;33m=\u001b[0m \u001b[0mnp\u001b[0m\u001b[1;33m.\u001b[0m\u001b[0marray\u001b[0m\u001b[1;33m(\u001b[0m\u001b[0md\u001b[0m\u001b[1;33m[\u001b[0m\u001b[1;36m1\u001b[0m\u001b[1;33m:\u001b[0m\u001b[1;33m]\u001b[0m\u001b[1;33m)\u001b[0m\u001b[1;33m\u001b[0m\u001b[1;33m\u001b[0m\u001b[0m\n\u001b[0m\u001b[0;32m      8\u001b[0m     \u001b[1;32mif\u001b[0m \u001b[1;33m(\u001b[0m\u001b[0mi\u001b[0m \u001b[1;33m==\u001b[0m \u001b[1;36m0\u001b[0m\u001b[1;33m)\u001b[0m\u001b[1;33m:\u001b[0m\u001b[1;33m\u001b[0m\u001b[1;33m\u001b[0m\u001b[0m\n\u001b[0;32m      9\u001b[0m         \u001b[0mall_data\u001b[0m\u001b[1;33m[\u001b[0m\u001b[1;36m1\u001b[0m\u001b[1;33m:\u001b[0m\u001b[1;33m,\u001b[0m \u001b[1;36m0\u001b[0m\u001b[1;33m]\u001b[0m \u001b[1;33m=\u001b[0m \u001b[0mvalues\u001b[0m\u001b[1;33m[\u001b[0m\u001b[1;33m:\u001b[0m\u001b[1;33m,\u001b[0m \u001b[1;36m0\u001b[0m\u001b[1;33m]\u001b[0m\u001b[1;33m\u001b[0m\u001b[1;33m\u001b[0m\u001b[0m\n",
      "\u001b[1;31mMemoryError\u001b[0m: "
     ]
    }
   ],
   "source": [
    "all_data = np.ndarray((int(nb_rows)+1, int(nb_cols)+1), dtype=object)\n",
    "# labels\n",
    "all_data[0, 0] = 'ID_REF'\n",
    "all_data[0, 1:] = np.array(series_sample_id)\n",
    "\n",
    "for i, d in enumerate(data):\n",
    "    values = np.array(d[1:])\n",
    "    if (i == 0):\n",
    "        all_data[1:, 0] = values[:, 0]\n",
    "    all_data[1:, i+1] = values[:, 1]\n",
    "data = np.array(all_data)"
   ]
  },
  {
   "cell_type": "code",
   "execution_count": 45,
   "metadata": {},
   "outputs": [
    {
     "ename": "AttributeError",
     "evalue": "'list' object has no attribute 'shape'",
     "output_type": "error",
     "traceback": [
      "\u001b[1;31m---------------------------------------------------------------------------\u001b[0m",
      "\u001b[1;31mAttributeError\u001b[0m                            Traceback (most recent call last)",
      "\u001b[1;32m<ipython-input-45-047ed65ff157>\u001b[0m in \u001b[0;36m<module>\u001b[1;34m\u001b[0m\n\u001b[1;32m----> 1\u001b[1;33m \u001b[0mdata\u001b[0m\u001b[1;33m.\u001b[0m\u001b[0mshape\u001b[0m\u001b[1;33m\u001b[0m\u001b[1;33m\u001b[0m\u001b[0m\n\u001b[0m",
      "\u001b[1;31mAttributeError\u001b[0m: 'list' object has no attribute 'shape'"
     ]
    }
   ],
   "source": [
    "data.shape"
   ]
  },
  {
   "cell_type": "code",
   "execution_count": 124,
   "metadata": {},
   "outputs": [
    {
     "name": "stdout",
     "output_type": "stream",
     "text": [
      "['GSM537330', 'GSM537331', 'GSM537332', 'GSM537333', 'GSM537334', 'GSM537335', 'GSM537336', 'GSM537337', 'GSM537338', 'GSM537339', 'GSM537340', 'GSM537341', 'GSM537342', 'GSM537343', 'GSM537344', 'GSM537345', 'GSM537346', 'GSM537347', 'GSM537348', 'GSM537349', 'GSM537350', 'GSM537351', 'GSM537352', 'GSM537353', 'GSM537354', 'GSM537355', 'GSM537356', 'GSM537357', 'GSM537358', 'GSM537359', 'GSM537360', 'GSM537361', 'GSM537362', 'GSM537363', 'GSM537364', 'GSM537365', 'GSM537366', 'GSM537367', 'GSM537368', 'GSM537369', 'GSM537370', 'GSM537371', 'GSM537372', 'GSM537373', 'GSM537374', 'GSM537375', 'GSM537376', 'GSM537377', 'GSM537378', 'GSM537379', 'GSM537380', 'GSM537381', 'GSM537382', 'GSM537383', 'GSM537384', 'GSM537385', 'GSM537386', 'GSM537387', 'GSM537388', 'GSM537389', 'GSM537390', 'GSM537391', 'GSM537392', 'GSM537393', 'GSM537394', 'GSM537395', 'GSM537396', 'GSM537397', 'GSM537398', 'GSM537399', 'GSM537400', 'GSM537401', 'GSM537402', 'GSM537403', 'GSM537404', 'GSM537405', 'GSM537406', 'GSM537407', 'GSM537408', 'GSM537409', 'GSM537410', 'GSM537411', 'GSM537412', 'GSM537413', 'GSM537414', 'GSM537415', 'GSM537416', 'GSM537417', 'GSM537418', 'GSM537419', 'GSM537420', 'GSM537421', 'GSM537422', 'GSM537423', 'GSM537424', 'GSM537425', 'GSM537426', 'GSM537427', 'GSM537428', 'GSM537429', 'GSM537430', 'GSM537431', 'GSM537432', 'GSM537433', 'GSM549099', 'GSM549100', 'GSM549101', 'GSM549102', 'GSM549103', 'GSM549104', 'GSM549105', 'GSM549106', 'GSM549107', 'GSM549108', 'GSM549109', 'GSM549110', 'GSM549111', 'GSM549112', 'GSM549113', 'GSM549114', 'GSM549115', 'GSM549116', 'GSM549117', 'GSM549118', 'GSM549119', 'GSM549120', 'GSM549121', 'GSM549122', 'GSM549123', 'GSM549124', 'GSM549125', 'GSM549126', 'GSM549127', 'GSM549128', 'GSM549129', 'GSM549130', 'GSM549131', 'GSM549132', 'GSM549133', 'GSM549134', 'GSM549135', 'GSM549136', 'GSM549137', 'GSM549138', 'GSM549139', 'GSM549140', 'GSM549141', 'GSM549142']\n",
      "\n",
      "['GSM537330', 'GSM537331', 'GSM537332', 'GSM537333', 'GSM537334', 'GSM537335', 'GSM537336', 'GSM537337', 'GSM537338', 'GSM537339', 'GSM537340', 'GSM537341', 'GSM537342', 'GSM537343', 'GSM537344', 'GSM537345', 'GSM537346', 'GSM537347', 'GSM537348', 'GSM537349', 'GSM537350', 'GSM537351', 'GSM537352', 'GSM537353', 'GSM537354', 'GSM537355', 'GSM537356', 'GSM537357', 'GSM537358', 'GSM537359', 'GSM537360', 'GSM537361', 'GSM537362', 'GSM537363', 'GSM537364', 'GSM537365', 'GSM537366', 'GSM537367', 'GSM537368', 'GSM537369', 'GSM537370', 'GSM537371', 'GSM537372', 'GSM537373', 'GSM537374', 'GSM537375', 'GSM537376', 'GSM537377', 'GSM537378', 'GSM537379', 'GSM537380', 'GSM537381', 'GSM537382', 'GSM537383', 'GSM537384', 'GSM537385', 'GSM537386', 'GSM537387', 'GSM537388', 'GSM537389', 'GSM537390', 'GSM537391', 'GSM537392', 'GSM537393', 'GSM537394', 'GSM537395', 'GSM537396', 'GSM537397', 'GSM537398', 'GSM537399', 'GSM537400', 'GSM537401', 'GSM537402', 'GSM537403', 'GSM537404', 'GSM537405', 'GSM537406', 'GSM537407', 'GSM537408', 'GSM537409', 'GSM537410', 'GSM537411', 'GSM537412', 'GSM537413', 'GSM537414', 'GSM537415', 'GSM537416', 'GSM537417', 'GSM537418', 'GSM537419', 'GSM537420', 'GSM537421', 'GSM537422', 'GSM537423', 'GSM537424', 'GSM537425', 'GSM537426', 'GSM537427', 'GSM537428', 'GSM537429', 'GSM537430', 'GSM537431', 'GSM537432', 'GSM537433', 'GSM549099', 'GSM549100', 'GSM549101', 'GSM549102', 'GSM549103', 'GSM549104', 'GSM549105', 'GSM549106', 'GSM549107', 'GSM549108', 'GSM549109', 'GSM549110', 'GSM549111', 'GSM549112', 'GSM549113', 'GSM549114', 'GSM549115', 'GSM549116', 'GSM549117', 'GSM549118', 'GSM549119', 'GSM549120', 'GSM549121', 'GSM549122', 'GSM549123', 'GSM549124', 'GSM549125', 'GSM549126', 'GSM549127', 'GSM549128', 'GSM549129', 'GSM549130', 'GSM549131', 'GSM549132', 'GSM549133', 'GSM549134', 'GSM549135', 'GSM549136', 'GSM549137', 'GSM549138', 'GSM549139', 'GSM549140', 'GSM549141', 'GSM549142']\n",
      "\n",
      "['patient 006, cancer, LCM [OPG study]', 'patient 100, cancer, LCM [OPG study]', 'patient 101, cancer, LCM [OPG study]', 'patient 102, cancer, LCM [OPG study]', 'patient 103, cancer, LCM [OPG study]', 'patient 104, cancer, LCM [OPG study]', 'patient 107, cancer, LCM [OPG study]', 'patient 108, cancer, LCM [OPG study]', 'patient 110, cancer, LCM [OPG study]', 'patient 111, cancer, LCM [OPG study]', 'patient 113, cancer, LCM [OPG study]', 'patient 115, cancer, LCM [OPG study]', 'patient 116, cancer, LCM [OPG study]', 'patient 117, cancer, LCM [OPG study]', 'patient 118, cancer, LCM [OPG study]', 'patient 119, cancer, LCM [OPG study]', 'patient 011, cancer, LCM [OPG study]', 'patient 123, cancer, LCM [OPG study]', 'patient 124, cancer, LCM [OPG study]', 'patient 125, cancer, LCM [OPG study]', 'patient 127, cancer, LCM [OPG study]', 'patient 128, cancer, LCM [OPG study]', 'patient 134, cancer, LCM [OPG study]', 'patient 135, cancer, LCM [OPG study]', 'patient 136, cancer, LCM [OPG study]', 'patient 138, cancer, LCM [OPG study]', 'patient 139, cancer, LCM [OPG study]', 'patient 142, cancer, LCM [OPG study]', 'patient 143, cancer, LCM [OPG study]', 'patient 144, cancer, LCM [OPG study]', 'patient 145, cancer, LCM [OPG study]', 'patient 147, cancer, LCM [OPG study]', 'patient 148, cancer, LCM [OPG study]', 'patient 150, cancer, LCM [OPG study]', 'patient 152, cancer, LCM [OPG study]', 'patient 153, cancer, LCM [OPG study]', 'patient 154, cancer, LCM [OPG study]', 'patient 155, cancer, LCM [OPG study]', 'patient 156, cancer, LCM [OPG study]', 'patient 015, cancer, LCM [OPG study]', 'patient 022, cancer, LCM [OPG study]', 'patient 023, cancer, LCM [OPG study]', 'patient 024, cancer, LCM [OPG study]', 'patient 025, cancer, LCM [OPG study]', 'patient 026, cancer, LCM [OPG study]', 'patient 030, cancer, LCM [OPG study]', 'patient 031, cancer, LCM [OPG study]', 'patient 033, cancer, LCM [OPG study]', 'patient 034, cancer, LCM [OPG study]', 'patient 036, cancer, LCM [OPG study]', 'patient 037, cancer, LCM [OPG study]', 'patient 038, cancer, LCM [OPG study]', 'patient 041, cancer, LCM [OPG study]', 'patient 046, cancer, LCM [OPG study]', 'patient 048, cancer, LCM [OPG study]', 'patient 053, cancer, LCM [OPG study]', 'patient 057, cancer, LCM [OPG study]', 'patient 061, cancer, LCM [OPG study]', 'patient 063, cancer, LCM [OPG study]', 'patient 068, cancer, LCM [OPG study]', 'patient 072, cancer, LCM [OPG study]', 'patient 073, cancer, LCM [OPG study]', 'patient 077, cancer, LCM [OPG study]', 'patient 078, cancer, LCM [OPG study]', 'patient 081, cancer, LCM [OPG study]', 'patient 082, cancer, LCM [OPG study]', 'patient 083, cancer, LCM [OPG study]', 'patient 088, cancer, LCM [OPG study]', 'patient 094, cancer, LCM [OPG study]', 'patient 095, cancer, LCM [OPG study]', 'patient 099, cancer, LCM [OPG study]', 'patient 106, cancer, LCM [OPG study]', 'patient 109, cancer, LCM [OPG study]', 'patient 121, cancer, LCM [OPG study]', 'patient 129, cancer, LCM [OPG study]', 'patient 130, cancer, LCM [OPG study]', 'patient 131, cancer, LCM [OPG study]', 'patient 133, cancer, LCM [OPG study]', 'patient 140, cancer, LCM [OPG study]', 'patient 141, cancer, LCM [OPG study]', 'patient 146, cancer, LCM [OPG study]', 'patient 149, cancer, LCM [OPG study]', 'patient 019, cancer, LCM [OPG study]', 'patient 027, cancer, LCM [OPG study]', 'patient 028, cancer, LCM [OPG study]', 'patient 032, cancer, LCM [OPG study]', 'patient 035, cancer, LCM [OPG study]', 'patient 042, cancer, LCM [OPG study]', 'patient 044, cancer, LCM [OPG study]', 'patient 045, cancer, LCM [OPG study]', 'patient 052, cancer, LCM [OPG study]', 'patient 055, cancer, LCM [OPG study]', 'patient 059, cancer, LCM [OPG study]', 'patient 064, cancer, LCM [OPG study]', 'patient 065, cancer, LCM [OPG study]', 'patient 070, cancer, LCM [OPG study]', 'patient 079, cancer, LCM [OPG study]', 'patient 084, cancer, LCM [OPG study]', 'patient 086, cancer, LCM [OPG study]', 'patient 089, cancer, LCM [OPG study]', 'patient 090, cancer, LCM [OPG study]', 'patient 096, cancer, LCM [OPG study]', 'patient 097, cancer, LCM [OPG study]', 'patient 098, cancer, LCM [OPG study]', 'patient 107, normal, homogenized [OPG study]', 'patient 110, normal, homogenized [OPG study]', 'patient 111, normal, homogenized [OPG study]', 'patient 115, normal, homogenized [OPG study]', 'patient 117, normal, homogenized [OPG study]', 'patient 119, normal, homogenized [OPG study]', 'patient 128, normal, homogenized [OPG study]', 'patient 134, normal, homogenized [OPG study]', 'patient 135, normal, homogenized [OPG study]', 'patient 138, normal, homogenized [OPG study]', 'patient 139, normal, homogenized [OPG study]', 'patient 046, normal, homogenized [OPG study]', 'patient 047, normal, homogenized [OPG study]', 'patient 048, normal, homogenized [OPG study]', 'patient 057, normal, homogenized [OPG study]', 'patient 063, normal, homogenized [OPG study]', 'patient 068, normal, homogenized [OPG study]', 'patient 072, normal, homogenized [OPG study]', 'patient 073, normal, homogenized [OPG study]', 'patient 074, normal, homogenized [OPG study]', 'patient 077, normal, homogenized [OPG study]', 'patient 078, normal, homogenized [OPG study]', 'patient 080, normal, homogenized [OPG study]', 'patient 082, normal, homogenized [OPG study]', 'patient 088, normal, homogenized [OPG study]', 'patient 006, cancer, homogenized [OPG study]', 'patient 011, cancer, homogenized [OPG study]', 'patient 015, cancer, homogenized [OPG study]', 'patient 024, cancer, homogenized [OPG study]', 'patient 025, cancer, homogenized [OPG study]', 'patient 027, cancer, homogenized [OPG study]', 'patient 028, cancer, homogenized [OPG study]', 'patient 030, cancer, homogenized [OPG study]', 'patient 031, cancer, homogenized [OPG study]', 'patient 032, cancer, homogenized [OPG study]', 'patient 033, cancer, homogenized [OPG study]', 'patient 035, cancer, homogenized [OPG study]', 'patient 036, cancer, homogenized [OPG study]', 'patient 038, cancer, homogenized [OPG study]', 'patient 041, cancer, homogenized [OPG study]', 'patient 042, cancer, homogenized [OPG study]', 'patient 044, cancer, homogenized [OPG study]', 'patient 045, cancer, homogenized [OPG study]', 'patient 047, cancer, homogenized [OPG study]']\n",
      "\n",
      "148 54676\n",
      "['ID_REF', 'VALUE']\n"
     ]
    }
   ],
   "source": [
    "print(series_sample_id)\n",
    "print('')\n",
    "print(samples_geo_accessions)\n",
    "print('')\n",
    "print(sample_titles)\n",
    "print('')\n",
    "print(len(data), len(data[0]))\n",
    "print(data[1][0])"
   ]
  },
  {
   "cell_type": "code",
   "execution_count": 89,
   "metadata": {},
   "outputs": [
    {
     "data": {
      "text/plain": [
       "{'GSM537330': 'cancer',\n",
       " 'GSM537331': 'cancer',\n",
       " 'GSM537332': 'cancer',\n",
       " 'GSM537333': 'cancer',\n",
       " 'GSM537334': 'cancer',\n",
       " 'GSM537335': 'cancer',\n",
       " 'GSM537336': 'cancer',\n",
       " 'GSM537337': 'cancer',\n",
       " 'GSM537338': 'cancer',\n",
       " 'GSM537339': 'cancer',\n",
       " 'GSM537340': 'cancer',\n",
       " 'GSM537341': 'cancer',\n",
       " 'GSM537342': 'cancer',\n",
       " 'GSM537343': 'cancer',\n",
       " 'GSM537344': 'cancer',\n",
       " 'GSM537345': 'cancer',\n",
       " 'GSM537346': 'cancer',\n",
       " 'GSM537347': 'cancer',\n",
       " 'GSM537348': 'cancer',\n",
       " 'GSM537349': 'cancer',\n",
       " 'GSM537350': 'cancer',\n",
       " 'GSM537351': 'cancer',\n",
       " 'GSM537352': 'cancer',\n",
       " 'GSM537353': 'cancer',\n",
       " 'GSM537354': 'cancer',\n",
       " 'GSM537355': 'cancer',\n",
       " 'GSM537356': 'cancer',\n",
       " 'GSM537357': 'cancer',\n",
       " 'GSM537358': 'cancer',\n",
       " 'GSM537359': 'cancer',\n",
       " 'GSM537360': 'cancer',\n",
       " 'GSM537361': 'cancer',\n",
       " 'GSM537362': 'cancer',\n",
       " 'GSM537363': 'cancer',\n",
       " 'GSM537364': 'cancer',\n",
       " 'GSM537365': 'cancer',\n",
       " 'GSM537366': 'cancer',\n",
       " 'GSM537367': 'cancer',\n",
       " 'GSM537368': 'cancer',\n",
       " 'GSM537369': 'cancer',\n",
       " 'GSM537370': 'cancer',\n",
       " 'GSM537371': 'cancer',\n",
       " 'GSM537372': 'cancer',\n",
       " 'GSM537373': 'cancer',\n",
       " 'GSM537374': 'cancer',\n",
       " 'GSM537375': 'cancer',\n",
       " 'GSM537376': 'cancer',\n",
       " 'GSM537377': 'cancer',\n",
       " 'GSM537378': 'cancer',\n",
       " 'GSM537379': 'cancer',\n",
       " 'GSM537380': 'cancer',\n",
       " 'GSM537381': 'cancer',\n",
       " 'GSM537382': 'cancer',\n",
       " 'GSM537383': 'cancer',\n",
       " 'GSM537384': 'cancer',\n",
       " 'GSM537385': 'cancer',\n",
       " 'GSM537386': 'cancer',\n",
       " 'GSM537387': 'cancer',\n",
       " 'GSM537388': 'cancer',\n",
       " 'GSM537389': 'cancer',\n",
       " 'GSM537390': 'cancer',\n",
       " 'GSM537391': 'cancer',\n",
       " 'GSM537392': 'cancer',\n",
       " 'GSM537393': 'cancer',\n",
       " 'GSM537394': 'cancer',\n",
       " 'GSM537395': 'cancer',\n",
       " 'GSM537396': 'cancer',\n",
       " 'GSM537397': 'cancer',\n",
       " 'GSM537398': 'cancer',\n",
       " 'GSM537399': 'cancer',\n",
       " 'GSM537400': 'cancer',\n",
       " 'GSM537401': 'cancer',\n",
       " 'GSM537402': 'cancer',\n",
       " 'GSM537403': 'cancer',\n",
       " 'GSM537404': 'cancer',\n",
       " 'GSM537405': 'cancer',\n",
       " 'GSM537406': 'cancer',\n",
       " 'GSM537407': 'cancer',\n",
       " 'GSM537408': 'cancer',\n",
       " 'GSM537409': 'cancer',\n",
       " 'GSM537410': 'cancer',\n",
       " 'GSM537411': 'cancer',\n",
       " 'GSM537412': 'cancer',\n",
       " 'GSM537413': 'cancer',\n",
       " 'GSM537414': 'cancer',\n",
       " 'GSM537415': 'cancer',\n",
       " 'GSM537416': 'cancer',\n",
       " 'GSM537417': 'cancer',\n",
       " 'GSM537418': 'cancer',\n",
       " 'GSM537419': 'cancer',\n",
       " 'GSM537420': 'cancer',\n",
       " 'GSM537421': 'cancer',\n",
       " 'GSM537422': 'cancer',\n",
       " 'GSM537423': 'cancer',\n",
       " 'GSM537424': 'cancer',\n",
       " 'GSM537425': 'cancer',\n",
       " 'GSM537426': 'cancer',\n",
       " 'GSM537427': 'cancer',\n",
       " 'GSM537428': 'cancer',\n",
       " 'GSM537429': 'cancer',\n",
       " 'GSM537430': 'cancer',\n",
       " 'GSM537431': 'cancer',\n",
       " 'GSM537432': 'cancer',\n",
       " 'GSM537433': 'cancer',\n",
       " 'GSM549099': 'normal',\n",
       " 'GSM549100': 'normal',\n",
       " 'GSM549101': 'normal',\n",
       " 'GSM549102': 'normal',\n",
       " 'GSM549103': 'normal',\n",
       " 'GSM549104': 'normal',\n",
       " 'GSM549105': 'normal',\n",
       " 'GSM549106': 'normal',\n",
       " 'GSM549107': 'normal',\n",
       " 'GSM549108': 'normal',\n",
       " 'GSM549109': 'normal',\n",
       " 'GSM549110': 'normal',\n",
       " 'GSM549111': 'normal',\n",
       " 'GSM549112': 'normal',\n",
       " 'GSM549113': 'normal',\n",
       " 'GSM549114': 'normal',\n",
       " 'GSM549115': 'normal',\n",
       " 'GSM549116': 'normal',\n",
       " 'GSM549117': 'normal',\n",
       " 'GSM549118': 'normal',\n",
       " 'GSM549119': 'normal',\n",
       " 'GSM549120': 'normal',\n",
       " 'GSM549121': 'normal',\n",
       " 'GSM549122': 'normal',\n",
       " 'GSM549123': 'normal',\n",
       " 'GSM549124': 'cancer',\n",
       " 'GSM549125': 'cancer',\n",
       " 'GSM549126': 'cancer',\n",
       " 'GSM549127': 'cancer',\n",
       " 'GSM549128': 'cancer',\n",
       " 'GSM549129': 'cancer',\n",
       " 'GSM549130': 'cancer',\n",
       " 'GSM549131': 'cancer',\n",
       " 'GSM549132': 'cancer',\n",
       " 'GSM549133': 'cancer',\n",
       " 'GSM549134': 'cancer',\n",
       " 'GSM549135': 'cancer',\n",
       " 'GSM549136': 'cancer',\n",
       " 'GSM549137': 'cancer',\n",
       " 'GSM549138': 'cancer',\n",
       " 'GSM549139': 'cancer',\n",
       " 'GSM549140': 'cancer',\n",
       " 'GSM549141': 'cancer',\n",
       " 'GSM549142': 'cancer'}"
      ]
     },
     "execution_count": 89,
     "metadata": {},
     "output_type": "execute_result"
    }
   ],
   "source": [
    "import re\n",
    "\n",
    "samples = {}\n",
    "patient_names = []\n",
    "for i_t, title in enumerate(sample_titles):\n",
    "    split = title.split(',')\n",
    "    if(re.search('cancer', title)):\n",
    "        samples[series_sample_id[i_t]] = 'cancer'\n",
    "    else:\n",
    "        samples[series_sample_id[i_t]] = 'normal'\n",
    "        \n",
    "    patient_names.append(split[0])\n",
    "        \n",
    "samples"
   ]
  },
  {
   "cell_type": "code",
   "execution_count": 1,
   "metadata": {},
   "outputs": [
    {
     "ename": "NameError",
     "evalue": "name 'sample_titles' is not defined",
     "output_type": "error",
     "traceback": [
      "\u001b[1;31m---------------------------------------------------------------------------\u001b[0m",
      "\u001b[1;31mNameError\u001b[0m                                 Traceback (most recent call last)",
      "\u001b[1;32m<ipython-input-1-1546b037f348>\u001b[0m in \u001b[0;36m<module>\u001b[1;34m\u001b[0m\n\u001b[1;32m----> 1\u001b[1;33m \u001b[0mprint\u001b[0m\u001b[1;33m(\u001b[0m\u001b[0msample_titles\u001b[0m\u001b[1;33m[\u001b[0m\u001b[1;36m104\u001b[0m\u001b[1;33m]\u001b[0m\u001b[1;33m)\u001b[0m\u001b[1;33m\u001b[0m\u001b[1;33m\u001b[0m\u001b[0m\n\u001b[0m",
      "\u001b[1;31mNameError\u001b[0m: name 'sample_titles' is not defined"
     ]
    }
   ],
   "source": [
    "print(sample_titles[104])"
   ]
  },
  {
   "cell_type": "markdown",
   "metadata": {},
   "source": [
    "## Analyse lexicale"
   ]
  },
  {
   "cell_type": "raw",
   "metadata": {},
   "source": [
    "!pip install nltk"
   ]
  },
  {
   "cell_type": "code",
   "execution_count": 41,
   "metadata": {},
   "outputs": [],
   "source": [
    "import nltk\n",
    "import os, codecs \n",
    "from nltk.text import TextCollection\n",
    "from math import*\n"
   ]
  },
  {
   "cell_type": "code",
   "execution_count": 42,
   "metadata": {},
   "outputs": [],
   "source": [
    "WORD_TO_SEARCH = ['cancer', 'colorectal', 'neoplasms', 'nonpolyposis', 'lynch' ]\n",
    "query_vector = [1 for i in range(len(WORD_TO_SEARCH))]\n",
    "\n",
    "LINE_SEPARATOR = \"$$$\"\n",
    "CONETENT_SEPARATOR = \":::\"\n",
    "NEWLine = \"\\r\\n\""
   ]
  },
  {
   "cell_type": "code",
   "execution_count": 43,
   "metadata": {},
   "outputs": [],
   "source": [
    "data_path = \"C:\\\\Users\\\\Jeremie Chatillon\\\\Documents\\\\HEIG\\\\BA-06\\\\BBC\\\\BBC-projet\\\\data\\\\\"\n",
    "data_file = \"geneDefinition_dev.dat\"\n",
    "gen_id_file = \"gen_id_dev.dat\"\n",
    "#data_file = \"geneDefinition_prod.dat\""
   ]
  },
  {
   "cell_type": "markdown",
   "metadata": {},
   "source": [
    "### Recherche des datas "
   ]
  },
  {
   "cell_type": "code",
   "execution_count": 44,
   "metadata": {},
   "outputs": [],
   "source": [
    "import pprint\n",
    "import time\n",
    "pp = pprint.PrettyPrinter(indent=2)\n",
    "from Bio import Entrez\n",
    "Entrez.API_KEY = 'b5ccd6f1153070941d8664573971486d8607'\n",
    "\n",
    "\n",
    "#Entrez.email = \"prenom.nom@heig-vd.ch\" # une adresse email valide est nécessaire\n",
    "Entrez.email = \"jeremie.chatillon@heig-vd.ch\" # une adresse email valide est nécessaire\n",
    "from mpl_toolkits.basemap import Basemap # pour dessiner une carte du monde\n",
    "import matplotlib.pyplot as plt # pour générer des graphiques\n",
    "%matplotlib inline\n",
    "#problème avec le module mpl_toolkits.basemap..\n",
    "#esssai pour le récupérer\n",
    "#j'ai mis a jour: \n",
    "#pip3.6 install --upgrade biopython --> pas fonctionné\n",
    "#pip3 install --upgrade jupyter matplotlib numpy pandas scipy scikit-learn six Collecting jupyter\n",
    "#pip3.6 install notebook --upgrade \n",
    "#conda install -c anaconda biopython\n"
   ]
  },
  {
   "cell_type": "code",
   "execution_count": 69,
   "metadata": {},
   "outputs": [
    {
     "ename": "SyntaxError",
     "evalue": "EOL while scanning string literal (<ipython-input-69-e0d366423ace>, line 1)",
     "output_type": "error",
     "traceback": [
      "\u001b[1;36m  File \u001b[1;32m\"<ipython-input-69-e0d366423ace>\"\u001b[1;36m, line \u001b[1;32m1\u001b[0m\n\u001b[1;33m    gene_code = ['U48705]\u001b[0m\n\u001b[1;37m                         ^\u001b[0m\n\u001b[1;31mSyntaxError\u001b[0m\u001b[1;31m:\u001b[0m EOL while scanning string literal\n"
     ]
    }
   ],
   "source": [
    "gene_code = ['U48705]\n",
    "tmp = Entrez.esearch(db='gene', term=gene_code, retmode='xml')\n",
    "tmp"
   ]
  },
  {
   "cell_type": "code",
   "execution_count": 70,
   "metadata": {},
   "outputs": [],
   "source": [
    "genes_dict = {'1007_s_at': 'U48705','1053_at': 'M87338'}"
   ]
  },
  {
   "cell_type": "code",
   "execution_count": 71,
   "metadata": {},
   "outputs": [
    {
     "data": {
      "text/plain": [
       "['780', '5982']"
      ]
     },
     "execution_count": 71,
     "metadata": {},
     "output_type": "execute_result"
    }
   ],
   "source": [
    "#gene_code = ['U48705', 'M87338', 'X51757','U48705', 'M87338', 'X51757','U48705', 'M87338', 'X51757','U48705', 'M87338', 'X51757','U48705', 'M87338', 'X51757','U48705', 'M87338', 'X51757','U48705', 'M87338', 'X51757','U48705', 'M87338', 'X51757','U48705', 'M87338', 'X51757','U48705', 'M87338', 'X51757','U48705', 'M87338', 'X51757','U48705', 'M87338', 'X51757','U48705', 'M87338', 'X51757','U48705', 'M87338', 'X51757','U48705', 'M87338', 'X51757','U48705', 'M87338', 'X51757','U48705', 'M87338', 'X51757','U48705', 'M87338', 'X51757','U48705', 'M87338', 'X51757','U48705', 'M87338', 'X51757','U48705', 'M87338', 'X51757','U48705', 'M87338', 'X51757','U48705', 'M87338', 'X51757','U48705', 'M87338', 'X51757','U48705', 'M87338', 'X51757','U48705', 'M87338', 'X51757','U48705', 'M87338', 'X51757','U48705', 'M87338', 'X51757','U48705', 'M87338', 'X51757','U48705', 'M87338', 'X51757','U48705', 'M87338', 'X51757','U48705', 'M87338', 'X51757','U48705', 'M87338', 'X51757','U48705', 'M87338', 'X51757','U48705', 'M87338', 'X51757','U48705', 'M87338', 'X51757','U48705', 'M87338', 'X51757','U48705', 'M87338', 'X51757','U48705', 'M87338', 'X51757','U48705', 'M87338', 'X51757','U48705', 'M87338', 'X51757','U48705', 'M87338', 'X51757','U48705', 'M87338', 'X51757','U48705', 'M87338', 'X51757','U48705', 'M87338', 'X51757','U48705', 'M87338', 'X51757','U48705', 'M87338', 'X51757','U48705', 'M87338', 'X51757','U48705', 'M87338', 'X51757','U48705', 'M87338', 'X51757','U48705', 'M87338', 'X51757','U48705', 'M87338', 'X51757','U48705', 'M87338', 'X51757']\n",
    "#gene_code = ['U48705', 'M87338']\n",
    "gene_code = []\n",
    "gene_ids = []\n",
    "\n",
    "\n",
    "for key in genes_dict:\n",
    "    gene_code.append(genes_dict[key])\n",
    "    gene_ids.append(key)\n",
    "    \n",
    "\n",
    "gen_ids = []\n",
    "\n",
    "count = 0\n",
    "while count < len(gene_code):\n",
    "    try:\n",
    "        gen_ids.append(Entrez.read(Entrez.esearch(db='gene', term=gene_code[count], retmode='xml'))['IdList'][0])\n",
    "        count += 1\n",
    "    except:\n",
    "        time.sleep(3)\n",
    "\n",
    "gen_ids"
   ]
  },
  {
   "cell_type": "code",
   "execution_count": 72,
   "metadata": {
    "scrolled": true
   },
   "outputs": [],
   "source": [
    "gen_ids\n",
    "# Save gene id in file \n",
    " \n",
    "fd = codecs.open(data_path + gen_id_file, 'w', 'utf8')\n",
    "\n",
    "str_ids = \"\"\n",
    "for gen_id in gen_ids:\n",
    "    str_ids += str(gen_id) + LINE_SEPARATOR\n",
    "fd.write(str_ids)\n",
    "fd.close()"
   ]
  },
  {
   "cell_type": "code",
   "execution_count": 73,
   "metadata": {},
   "outputs": [
    {
     "data": {
      "text/plain": [
       "['780', '5982']"
      ]
     },
     "execution_count": 73,
     "metadata": {},
     "output_type": "execute_result"
    }
   ],
   "source": [
    "# Read the file\n",
    "fd = codecs.open(data_path + gen_id_file, 'r', 'utf8')\n",
    "str_gen_ids = fd.read()\n",
    "fd.close()\n",
    "\n",
    "gen_ids = str_gen_ids.split(LINE_SEPARATOR)\n",
    "gen_ids = gen_ids[:len(gen_ids)-1]\n",
    "    \n",
    "gen_ids"
   ]
  },
  {
   "cell_type": "code",
   "execution_count": 75,
   "metadata": {},
   "outputs": [
    {
     "name": "stdout",
     "output_type": "stream",
     "text": [
      "1\n",
      "2\n",
      "3\n",
      "1\n",
      "2\n",
      "3\n"
     ]
    },
    {
     "data": {
      "text/plain": [
       "[['ID', 'GB_ACC', 'text'],\n",
       " ['1007_s_at',\n",
       "  'U48705',\n",
       "  'Receptor tyrosine kinases play a key role in the communication of cells with their microenvironment. These kinases are involved in the regulation of cell growth, differentiation and metabolism. The protein encoded by this gene belongs to a subfamily of tyrosine kinase receptors with homology to Dictyostelium discoideum protein discoidin I in their extracellular domain, and that are activated by various types of collagen. Expression of this protein is restricted to epithelial cells, particularly in the kidney, lung, gastrointestinal tract, and brain. In addition, it has been shown to be significantly overexpressed in several human tumors. Alternatively spliced transcript variants encoding different isoforms have been described for this gene. [provided by RefSeq, Feb 2011]'],\n",
       " ['1053_at',\n",
       "  'M87338',\n",
       "  'This gene encodes a member of the activator 1 small subunits family. The elongation of primed DNA templates by DNA polymerase delta and epsilon requires the action of the accessory proteins, proliferating cell nuclear antigen (PCNA) and replication factor C (RFC). Replication factor C, also called activator 1, is a protein complex consisting of five distinct subunits. This gene encodes the 40 kD subunit, which has been shown to be responsible for binding ATP and may help promote cell survival. Disruption of this gene is associated with Williams syndrome. Alternatively spliced transcript variants encoding distinct isoforms have been described. A pseudogene of this gene has been defined on chromosome 2. [provided by RefSeq, Jul 2013]']]"
      ]
     },
     "execution_count": 75,
     "metadata": {},
     "output_type": "execute_result"
    }
   ],
   "source": [
    "gen_datas_summary = []\n",
    "\n",
    "count = 0\n",
    "datas = [['ID', 'GB_ACC', 'text']]\n",
    "\n",
    "while count < len(gen_ids):\n",
    "    try:\n",
    "        gb_gene = gen_ids[count]\n",
    "        handle = Entrez.efetch(db=\"gene\", id=gb_gene, retmode=\"xml\")\n",
    "        records = Entrez.read(handle)\n",
    "        datas.append([gene_ids[count],gene_code[count],records[0]['Entrezgene_summary']])\n",
    "        count += 1\n",
    "    except:\n",
    "        print(\"Sleep\")\n",
    "        time.sleep(3)\n",
    "\n"
   ]
  },
  {
   "cell_type": "code",
   "execution_count": 77,
   "metadata": {},
   "outputs": [
    {
     "data": {
      "text/plain": [
       "[['ID', 'GB_ACC', 'text'],\n",
       " ['1007_s_at',\n",
       "  'U48705',\n",
       "  'Receptor tyrosine kinases play a key role in the communication of cells with their microenvironment. These kinases are involved in the regulation of cell growth, differentiation and metabolism. The protein encoded by this gene belongs to a subfamily of tyrosine kinase receptors with homology to Dictyostelium discoideum protein discoidin I in their extracellular domain, and that are activated by various types of collagen. Expression of this protein is restricted to epithelial cells, particularly in the kidney, lung, gastrointestinal tract, and brain. In addition, it has been shown to be significantly overexpressed in several human tumors. Alternatively spliced transcript variants encoding different isoforms have been described for this gene. [provided by RefSeq, Feb 2011]'],\n",
       " ['1053_at',\n",
       "  'M87338',\n",
       "  'This gene encodes a member of the activator 1 small subunits family. The elongation of primed DNA templates by DNA polymerase delta and epsilon requires the action of the accessory proteins, proliferating cell nuclear antigen (PCNA) and replication factor C (RFC). Replication factor C, also called activator 1, is a protein complex consisting of five distinct subunits. This gene encodes the 40 kD subunit, which has been shown to be responsible for binding ATP and may help promote cell survival. Disruption of this gene is associated with Williams syndrome. Alternatively spliced transcript variants encoding distinct isoforms have been described. A pseudogene of this gene has been defined on chromosome 2. [provided by RefSeq, Jul 2013]']]"
      ]
     },
     "execution_count": 77,
     "metadata": {},
     "output_type": "execute_result"
    }
   ],
   "source": [
    "datas\n",
    "    "
   ]
  },
  {
   "cell_type": "markdown",
   "metadata": {},
   "source": [
    "### Ecriture des sentences dans le fichier"
   ]
  },
  {
   "cell_type": "raw",
   "metadata": {},
   "source": [
    "## Genration de données de tests\n",
    "data1 = ['1007_s_at', 'U48705', 'hello word!! how are you']\n",
    "data2 =  ['1007_s_at', 'U48705', 'hello the word hello hello']\n",
    "data3 =  ['1007_s_at', 'U48705', 'hellos the wsord']\n",
    "data4 =  ['1007_s_at', 'U48705', 'hello he wseord cancer']\n",
    "\n",
    "datas = [['ID', 'GB_ACC', 'text'], data1, data2, data3, data4]\n",
    "\n",
    "for i in range(20000):\n",
    "    datas.append(data1)\n",
    "    datas.append(data2)\n",
    "    datas.append(data3)\n",
    "    datas.append(data4)"
   ]
  },
  {
   "cell_type": "code",
   "execution_count": 78,
   "metadata": {},
   "outputs": [],
   "source": [
    "# Parsing de NCBI\n",
    "# TODO"
   ]
  },
  {
   "cell_type": "code",
   "execution_count": 79,
   "metadata": {},
   "outputs": [],
   "source": [
    "fd = codecs.open(data_path + data_file, 'w', 'utf8')\n",
    "for dat in datas:\n",
    "    tmp = dat[0] + CONETENT_SEPARATOR + dat[1] + CONETENT_SEPARATOR + dat[2] + LINE_SEPARATOR\n",
    "    fd.write(tmp)\n",
    "fd.close()"
   ]
  },
  {
   "cell_type": "markdown",
   "metadata": {},
   "source": [
    "### Lecture et analyse du fichier"
   ]
  },
  {
   "cell_type": "code",
   "execution_count": 80,
   "metadata": {},
   "outputs": [],
   "source": [
    "\n",
    "fd = codecs.open(data_path + data_file, 'r', 'utf8')\n",
    "war = fd.read()\n",
    "fd.close()"
   ]
  },
  {
   "cell_type": "code",
   "execution_count": 81,
   "metadata": {},
   "outputs": [
    {
     "data": {
      "text/plain": [
       "3"
      ]
     },
     "execution_count": 81,
     "metadata": {},
     "output_type": "execute_result"
    }
   ],
   "source": [
    "\n",
    "sents = war.split(LINE_SEPARATOR)\n",
    "# Supression de la dernière ligne vide\n",
    "sents = sents[:len(sents)-1]\n",
    "id_gb_texts = []\n",
    "for sent in sents:\n",
    "    dat = sent.split(CONETENT_SEPARATOR)\n",
    "\n",
    "    # Zone pour appliquer des fitres / lema / nomalisation\n",
    "    dat[2] = dat[2].lower()\n",
    "    id_gb_texts.append(dat)\n",
    "\n",
    "len(id_gb_texts)"
   ]
  },
  {
   "cell_type": "code",
   "execution_count": 82,
   "metadata": {},
   "outputs": [
    {
     "data": {
      "text/plain": [
       "2"
      ]
     },
     "execution_count": 82,
     "metadata": {},
     "output_type": "execute_result"
    }
   ],
   "source": [
    "text_arr = []\n",
    "for id_gb_text in id_gb_texts[1:]:\n",
    "    text_arr.append(id_gb_text[2])\n",
    "    \n",
    "text_collection = TextCollection(text_arr)\n",
    "len(text_arr)"
   ]
  },
  {
   "cell_type": "code",
   "execution_count": 83,
   "metadata": {},
   "outputs": [
    {
     "data": {
      "text/plain": [
       "3"
      ]
     },
     "execution_count": 83,
     "metadata": {},
     "output_type": "execute_result"
    }
   ],
   "source": [
    "tfidf_vector = [['id', 'tf-idf vector']]\n",
    "\n",
    "for id_gb_text in id_gb_texts[1:]:\n",
    "    vec = []\n",
    "    for word in WORD_TO_SEARCH:\n",
    "        tfidf = text_collection.tf_idf(word,id_gb_text[2] )\n",
    "        vec.append(tfidf)\n",
    "    tfidf_vector.append([id_gb_text[0], vec])\n",
    "        \n",
    "len(tfidf_vector)"
   ]
  },
  {
   "cell_type": "code",
   "execution_count": 84,
   "metadata": {},
   "outputs": [],
   "source": [
    "#http://dataaspirant.com/2015/04/11/five-most-popular-similarity-measures-implementation-in-python/\n",
    "def square_rooted(x):\n",
    "    return round(sqrt(sum([a*a for a in x])),3)\n",
    "\n",
    "def cosine_similarity(x,y):\n",
    "    try:\n",
    "        numerator = sum(a*b for a,b in zip(x,y))\n",
    "        denominator = square_rooted(x)*square_rooted(y)\n",
    "        return round(numerator/float(denominator),3)\n",
    "    except:\n",
    "        return 0.0\n",
    "    "
   ]
  },
  {
   "cell_type": "code",
   "execution_count": 88,
   "metadata": {},
   "outputs": [
    {
     "data": {
      "text/plain": [
       "[['id', 'cosSimilarity'], ['1007_s_at', 0.0], ['1053_at', 0.0]]"
      ]
     },
     "execution_count": 88,
     "metadata": {},
     "output_type": "execute_result"
    }
   ],
   "source": [
    "gene_similartites = [['id', 'cosSimilarity']]\n",
    "for gene in tfidf_vector[1:]:\n",
    "    dat = [gene[0], cosine_similarity(gene[1], query_vector)]\n",
    "    gene_similartites.append(dat)\n",
    "    \n",
    "len(gene_similartites)\n",
    "gene_similartites"
   ]
  },
  {
   "cell_type": "code",
   "execution_count": 86,
   "metadata": {},
   "outputs": [],
   "source": [
    "def filter_zero(arr):\n",
    "    return [[dat[0], dat[1]] for dat in arr if dat[1] != 0.0]"
   ]
  },
  {
   "cell_type": "code",
   "execution_count": 87,
   "metadata": {},
   "outputs": [
    {
     "data": {
      "text/plain": [
       "0"
      ]
     },
     "execution_count": 87,
     "metadata": {},
     "output_type": "execute_result"
    }
   ],
   "source": [
    "gene_similartites_filtered1 = [['id', 'cosSimilarity']]\n",
    "gene_similartites_filtered1.append(filter_zero(gene_similartites[1:]))\n",
    "len(gene_similartites_filtered1[1])\n"
   ]
  },
  {
   "cell_type": "code",
   "execution_count": 82,
   "metadata": {},
   "outputs": [],
   "source": [
    "def take_n_max(arr):\n",
    "    #todo\n",
    "    return []"
   ]
  },
  {
   "cell_type": "code",
   "execution_count": null,
   "metadata": {},
   "outputs": [],
   "source": []
  }
 ],
 "metadata": {
  "kernelspec": {
   "display_name": "Python 3",
   "language": "python",
   "name": "python3"
  },
  "language_info": {
   "codemirror_mode": {
    "name": "ipython",
    "version": 3
   },
   "file_extension": ".py",
   "mimetype": "text/x-python",
   "name": "python",
   "nbconvert_exporter": "python",
   "pygments_lexer": "ipython3",
   "version": "3.6.8"
  }
 },
 "nbformat": 4,
 "nbformat_minor": 2
}
