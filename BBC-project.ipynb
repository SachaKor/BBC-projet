{
 "cells": [
  {
   "cell_type": "markdown",
   "metadata": {},
   "source": [
    "## BBC - Project\n",
    "### Data Exploration"
   ]
  },
  {
   "cell_type": "code",
   "execution_count": 1,
   "metadata": {},
   "outputs": [],
   "source": [
    "DATA_PATH = './data/'"
   ]
  },
  {
   "cell_type": "code",
   "execution_count": 2,
   "metadata": {},
   "outputs": [],
   "source": [
    "import numpy as np\n",
    "from Bio import Geo\n",
    "\n",
    "def load_geo(myfile):\n",
    "    handle = open(myfile)\n",
    "    records = Geo.parse(handle)\n",
    "    return records\n",
    "    \n",
    "records = load_geo(DATA_PATH + 'GSE21510_family.soft')"
   ]
  },
  {
   "cell_type": "markdown",
   "metadata": {},
   "source": [
    "The following cell should be executed multiple times to run through the data"
   ]
  },
  {
   "cell_type": "code",
   "execution_count": 3,
   "metadata": {},
   "outputs": [
    {
     "name": "stdout",
     "output_type": "stream",
     "text": [
      "GEO Type: DATABASE\n",
      "GEO Id: GeoMiame\n",
      "Database_email: geo@ncbi.nlm.nih.gov\n",
      "\n",
      "Database_institute: NCBI NLM NIH\n",
      "\n",
      "Database_name: Gene Expression Omnibus (GEO)\n",
      "\n",
      "Database_web_link: http://www.ncbi.nlm.nih.gov/geo\n",
      "\n",
      "Column Header Definitions\n",
      "\n",
      "\n",
      "---------------------- ENTITY_ATTRIBUTES:------------------------------\n",
      "\n",
      "{'Database_name': 'Gene Expression Omnibus (GEO)', 'Database_institute': 'NCBI NLM NIH', 'Database_web_link': 'http://www.ncbi.nlm.nih.gov/geo', 'Database_email': 'geo@ncbi.nlm.nih.gov'}\n"
     ]
    }
   ],
   "source": [
    "nr = next(records)\n",
    "print(nr)\n",
    "print('\\n---------------------- ENTITY_ATTRIBUTES:------------------------------\\n')\n",
    "print(nr.entity_attributes)"
   ]
  },
  {
   "cell_type": "code",
   "execution_count": 4,
   "metadata": {},
   "outputs": [],
   "source": [
    "# re-loading the data\n",
    "records = load_geo(DATA_PATH + 'GSE21510_family.soft')\n",
    "series_sample_id = []\n",
    "sample_titles = []\n",
    "genes = []\n",
    "nb_cols = 0\n",
    "nb_rows = 0\n",
    "data = []\n",
    "for r in records:\n",
    "    rea = r.entity_attributes\n",
    "    if 'Series_geo_accession' in rea:\n",
    "        if rea['Series_geo_accession'] == 'GSE21510':\n",
    "            series_sample_id = rea['Series_sample_id']\n",
    "            nb_cols = len(series_sample_id)\n",
    "    if 'Sample_title' in rea:\n",
    "        sample_titles.append(rea['Sample_title'])\n",
    "        if 'sample_table_begin' in rea:\n",
    "            nb_rows = rea['Sample_data_row_count'] \n",
    "            data.append(r.table_rows)\n",
    "                    "
   ]
  },
  {
   "cell_type": "markdown",
   "metadata": {},
   "source": [
    "data will become a 2d numpy array of shape (54676, 149) == (NB_GENES+1, NB_SAMPLES+1).  \n",
    "First row will contain the sample ids, first column will contain the ID_REFs of the genes."
   ]
  },
  {
   "cell_type": "code",
   "execution_count": 5,
   "metadata": {},
   "outputs": [],
   "source": [
    "all_data = np.ndarray((int(nb_rows)+1, int(nb_cols)+1), dtype=object)\n",
    "# labels\n",
    "all_data[0, 0] = 'ID_REF'\n",
    "all_data[0, 1:] = np.array(series_sample_id)\n",
    "\n",
    "for i, d in enumerate(data):\n",
    "    values = np.array(d[1:])\n",
    "    if (i == 0):\n",
    "        all_data[1:, 0] = values[:, 0]\n",
    "    all_data[1:, i+1] = values[:, 1]\n",
    "data = np.array(all_data)"
   ]
  },
  {
   "cell_type": "code",
   "execution_count": 6,
   "metadata": {},
   "outputs": [
    {
     "data": {
      "text/plain": [
       "(54676, 149)"
      ]
     },
     "execution_count": 6,
     "metadata": {},
     "output_type": "execute_result"
    }
   ],
   "source": [
    "data.shape"
   ]
  },
  {
   "cell_type": "code",
   "execution_count": 13,
   "metadata": {},
   "outputs": [
    {
     "name": "stdout",
     "output_type": "stream",
     "text": [
      "['GSM537330', 'GSM537331', 'GSM537332', 'GSM537333', 'GSM537334', 'GSM537335', 'GSM537336', 'GSM537337', 'GSM537338', 'GSM537339', 'GSM537340', 'GSM537341', 'GSM537342', 'GSM537343', 'GSM537344', 'GSM537345', 'GSM537346', 'GSM537347', 'GSM537348', 'GSM537349', 'GSM537350', 'GSM537351', 'GSM537352', 'GSM537353', 'GSM537354', 'GSM537355', 'GSM537356', 'GSM537357', 'GSM537358', 'GSM537359', 'GSM537360', 'GSM537361', 'GSM537362', 'GSM537363', 'GSM537364', 'GSM537365', 'GSM537366', 'GSM537367', 'GSM537368', 'GSM537369', 'GSM537370', 'GSM537371', 'GSM537372', 'GSM537373', 'GSM537374', 'GSM537375', 'GSM537376', 'GSM537377', 'GSM537378', 'GSM537379', 'GSM537380', 'GSM537381', 'GSM537382', 'GSM537383', 'GSM537384', 'GSM537385', 'GSM537386', 'GSM537387', 'GSM537388', 'GSM537389', 'GSM537390', 'GSM537391', 'GSM537392', 'GSM537393', 'GSM537394', 'GSM537395', 'GSM537396', 'GSM537397', 'GSM537398', 'GSM537399', 'GSM537400', 'GSM537401', 'GSM537402', 'GSM537403', 'GSM537404', 'GSM537405', 'GSM537406', 'GSM537407', 'GSM537408', 'GSM537409', 'GSM537410', 'GSM537411', 'GSM537412', 'GSM537413', 'GSM537414', 'GSM537415', 'GSM537416', 'GSM537417', 'GSM537418', 'GSM537419', 'GSM537420', 'GSM537421', 'GSM537422', 'GSM537423', 'GSM537424', 'GSM537425', 'GSM537426', 'GSM537427', 'GSM537428', 'GSM537429', 'GSM537430', 'GSM537431', 'GSM537432', 'GSM537433', 'GSM549099', 'GSM549100', 'GSM549101', 'GSM549102', 'GSM549103', 'GSM549104', 'GSM549105', 'GSM549106', 'GSM549107', 'GSM549108', 'GSM549109', 'GSM549110', 'GSM549111', 'GSM549112', 'GSM549113', 'GSM549114', 'GSM549115', 'GSM549116', 'GSM549117', 'GSM549118', 'GSM549119', 'GSM549120', 'GSM549121', 'GSM549122', 'GSM549123', 'GSM549124', 'GSM549125', 'GSM549126', 'GSM549127', 'GSM549128', 'GSM549129', 'GSM549130', 'GSM549131', 'GSM549132', 'GSM549133', 'GSM549134', 'GSM549135', 'GSM549136', 'GSM549137', 'GSM549138', 'GSM549139', 'GSM549140', 'GSM549141', 'GSM549142']\n",
      "\n",
      "['patient 006, cancer, LCM [OPG study]', 'patient 100, cancer, LCM [OPG study]', 'patient 101, cancer, LCM [OPG study]', 'patient 102, cancer, LCM [OPG study]', 'patient 103, cancer, LCM [OPG study]', 'patient 104, cancer, LCM [OPG study]', 'patient 107, cancer, LCM [OPG study]', 'patient 108, cancer, LCM [OPG study]', 'patient 110, cancer, LCM [OPG study]', 'patient 111, cancer, LCM [OPG study]', 'patient 113, cancer, LCM [OPG study]', 'patient 115, cancer, LCM [OPG study]', 'patient 116, cancer, LCM [OPG study]', 'patient 117, cancer, LCM [OPG study]', 'patient 118, cancer, LCM [OPG study]', 'patient 119, cancer, LCM [OPG study]', 'patient 011, cancer, LCM [OPG study]', 'patient 123, cancer, LCM [OPG study]', 'patient 124, cancer, LCM [OPG study]', 'patient 125, cancer, LCM [OPG study]', 'patient 127, cancer, LCM [OPG study]', 'patient 128, cancer, LCM [OPG study]', 'patient 134, cancer, LCM [OPG study]', 'patient 135, cancer, LCM [OPG study]', 'patient 136, cancer, LCM [OPG study]', 'patient 138, cancer, LCM [OPG study]', 'patient 139, cancer, LCM [OPG study]', 'patient 142, cancer, LCM [OPG study]', 'patient 143, cancer, LCM [OPG study]', 'patient 144, cancer, LCM [OPG study]', 'patient 145, cancer, LCM [OPG study]', 'patient 147, cancer, LCM [OPG study]', 'patient 148, cancer, LCM [OPG study]', 'patient 150, cancer, LCM [OPG study]', 'patient 152, cancer, LCM [OPG study]', 'patient 153, cancer, LCM [OPG study]', 'patient 154, cancer, LCM [OPG study]', 'patient 155, cancer, LCM [OPG study]', 'patient 156, cancer, LCM [OPG study]', 'patient 015, cancer, LCM [OPG study]', 'patient 022, cancer, LCM [OPG study]', 'patient 023, cancer, LCM [OPG study]', 'patient 024, cancer, LCM [OPG study]', 'patient 025, cancer, LCM [OPG study]', 'patient 026, cancer, LCM [OPG study]', 'patient 030, cancer, LCM [OPG study]', 'patient 031, cancer, LCM [OPG study]', 'patient 033, cancer, LCM [OPG study]', 'patient 034, cancer, LCM [OPG study]', 'patient 036, cancer, LCM [OPG study]', 'patient 037, cancer, LCM [OPG study]', 'patient 038, cancer, LCM [OPG study]', 'patient 041, cancer, LCM [OPG study]', 'patient 046, cancer, LCM [OPG study]', 'patient 048, cancer, LCM [OPG study]', 'patient 053, cancer, LCM [OPG study]', 'patient 057, cancer, LCM [OPG study]', 'patient 061, cancer, LCM [OPG study]', 'patient 063, cancer, LCM [OPG study]', 'patient 068, cancer, LCM [OPG study]', 'patient 072, cancer, LCM [OPG study]', 'patient 073, cancer, LCM [OPG study]', 'patient 077, cancer, LCM [OPG study]', 'patient 078, cancer, LCM [OPG study]', 'patient 081, cancer, LCM [OPG study]', 'patient 082, cancer, LCM [OPG study]', 'patient 083, cancer, LCM [OPG study]', 'patient 088, cancer, LCM [OPG study]', 'patient 094, cancer, LCM [OPG study]', 'patient 095, cancer, LCM [OPG study]', 'patient 099, cancer, LCM [OPG study]', 'patient 106, cancer, LCM [OPG study]', 'patient 109, cancer, LCM [OPG study]', 'patient 121, cancer, LCM [OPG study]', 'patient 129, cancer, LCM [OPG study]', 'patient 130, cancer, LCM [OPG study]', 'patient 131, cancer, LCM [OPG study]', 'patient 133, cancer, LCM [OPG study]', 'patient 140, cancer, LCM [OPG study]', 'patient 141, cancer, LCM [OPG study]', 'patient 146, cancer, LCM [OPG study]', 'patient 149, cancer, LCM [OPG study]', 'patient 019, cancer, LCM [OPG study]', 'patient 027, cancer, LCM [OPG study]', 'patient 028, cancer, LCM [OPG study]', 'patient 032, cancer, LCM [OPG study]', 'patient 035, cancer, LCM [OPG study]', 'patient 042, cancer, LCM [OPG study]', 'patient 044, cancer, LCM [OPG study]', 'patient 045, cancer, LCM [OPG study]', 'patient 052, cancer, LCM [OPG study]', 'patient 055, cancer, LCM [OPG study]', 'patient 059, cancer, LCM [OPG study]', 'patient 064, cancer, LCM [OPG study]', 'patient 065, cancer, LCM [OPG study]', 'patient 070, cancer, LCM [OPG study]', 'patient 079, cancer, LCM [OPG study]', 'patient 084, cancer, LCM [OPG study]', 'patient 086, cancer, LCM [OPG study]', 'patient 089, cancer, LCM [OPG study]', 'patient 090, cancer, LCM [OPG study]', 'patient 096, cancer, LCM [OPG study]', 'patient 097, cancer, LCM [OPG study]', 'patient 098, cancer, LCM [OPG study]', 'patient 107, normal, homogenized [OPG study]', 'patient 110, normal, homogenized [OPG study]', 'patient 111, normal, homogenized [OPG study]', 'patient 115, normal, homogenized [OPG study]', 'patient 117, normal, homogenized [OPG study]', 'patient 119, normal, homogenized [OPG study]', 'patient 128, normal, homogenized [OPG study]', 'patient 134, normal, homogenized [OPG study]', 'patient 135, normal, homogenized [OPG study]', 'patient 138, normal, homogenized [OPG study]', 'patient 139, normal, homogenized [OPG study]', 'patient 046, normal, homogenized [OPG study]', 'patient 047, normal, homogenized [OPG study]', 'patient 048, normal, homogenized [OPG study]', 'patient 057, normal, homogenized [OPG study]', 'patient 063, normal, homogenized [OPG study]', 'patient 068, normal, homogenized [OPG study]', 'patient 072, normal, homogenized [OPG study]', 'patient 073, normal, homogenized [OPG study]', 'patient 074, normal, homogenized [OPG study]', 'patient 077, normal, homogenized [OPG study]', 'patient 078, normal, homogenized [OPG study]', 'patient 080, normal, homogenized [OPG study]', 'patient 082, normal, homogenized [OPG study]', 'patient 088, normal, homogenized [OPG study]', 'patient 006, cancer, homogenized [OPG study]', 'patient 011, cancer, homogenized [OPG study]', 'patient 015, cancer, homogenized [OPG study]', 'patient 024, cancer, homogenized [OPG study]', 'patient 025, cancer, homogenized [OPG study]', 'patient 027, cancer, homogenized [OPG study]', 'patient 028, cancer, homogenized [OPG study]', 'patient 030, cancer, homogenized [OPG study]', 'patient 031, cancer, homogenized [OPG study]', 'patient 032, cancer, homogenized [OPG study]', 'patient 033, cancer, homogenized [OPG study]', 'patient 035, cancer, homogenized [OPG study]', 'patient 036, cancer, homogenized [OPG study]', 'patient 038, cancer, homogenized [OPG study]', 'patient 041, cancer, homogenized [OPG study]', 'patient 042, cancer, homogenized [OPG study]', 'patient 044, cancer, homogenized [OPG study]', 'patient 045, cancer, homogenized [OPG study]', 'patient 047, cancer, homogenized [OPG study]']\n",
      "\n",
      "54676 149\n",
      "['ID_REF' '1007_s_at' '1053_at' '117_at' '121_at' '1255_g_at' '1294_at'\n",
      " '1316_at' '1320_at' '1405_i_at']\n"
     ]
    }
   ],
   "source": [
    "print(series_sample_id)\n",
    "print('')\n",
    "print(sample_titles)\n",
    "print('')\n",
    "print(len(data), len(data[0]))\n",
    "print(data[0:10, 0])"
   ]
  },
  {
   "cell_type": "code",
   "execution_count": 8,
   "metadata": {},
   "outputs": [
    {
     "data": {
      "text/plain": [
       "{'GSM537330': 'cancer',\n",
       " 'GSM537331': 'cancer',\n",
       " 'GSM537332': 'cancer',\n",
       " 'GSM537333': 'cancer',\n",
       " 'GSM537334': 'cancer',\n",
       " 'GSM537335': 'cancer',\n",
       " 'GSM537336': 'cancer',\n",
       " 'GSM537337': 'cancer',\n",
       " 'GSM537338': 'cancer',\n",
       " 'GSM537339': 'cancer',\n",
       " 'GSM537340': 'cancer',\n",
       " 'GSM537341': 'cancer',\n",
       " 'GSM537342': 'cancer',\n",
       " 'GSM537343': 'cancer',\n",
       " 'GSM537344': 'cancer',\n",
       " 'GSM537345': 'cancer',\n",
       " 'GSM537346': 'cancer',\n",
       " 'GSM537347': 'cancer',\n",
       " 'GSM537348': 'cancer',\n",
       " 'GSM537349': 'cancer',\n",
       " 'GSM537350': 'cancer',\n",
       " 'GSM537351': 'cancer',\n",
       " 'GSM537352': 'cancer',\n",
       " 'GSM537353': 'cancer',\n",
       " 'GSM537354': 'cancer',\n",
       " 'GSM537355': 'cancer',\n",
       " 'GSM537356': 'cancer',\n",
       " 'GSM537357': 'cancer',\n",
       " 'GSM537358': 'cancer',\n",
       " 'GSM537359': 'cancer',\n",
       " 'GSM537360': 'cancer',\n",
       " 'GSM537361': 'cancer',\n",
       " 'GSM537362': 'cancer',\n",
       " 'GSM537363': 'cancer',\n",
       " 'GSM537364': 'cancer',\n",
       " 'GSM537365': 'cancer',\n",
       " 'GSM537366': 'cancer',\n",
       " 'GSM537367': 'cancer',\n",
       " 'GSM537368': 'cancer',\n",
       " 'GSM537369': 'cancer',\n",
       " 'GSM537370': 'cancer',\n",
       " 'GSM537371': 'cancer',\n",
       " 'GSM537372': 'cancer',\n",
       " 'GSM537373': 'cancer',\n",
       " 'GSM537374': 'cancer',\n",
       " 'GSM537375': 'cancer',\n",
       " 'GSM537376': 'cancer',\n",
       " 'GSM537377': 'cancer',\n",
       " 'GSM537378': 'cancer',\n",
       " 'GSM537379': 'cancer',\n",
       " 'GSM537380': 'cancer',\n",
       " 'GSM537381': 'cancer',\n",
       " 'GSM537382': 'cancer',\n",
       " 'GSM537383': 'cancer',\n",
       " 'GSM537384': 'cancer',\n",
       " 'GSM537385': 'cancer',\n",
       " 'GSM537386': 'cancer',\n",
       " 'GSM537387': 'cancer',\n",
       " 'GSM537388': 'cancer',\n",
       " 'GSM537389': 'cancer',\n",
       " 'GSM537390': 'cancer',\n",
       " 'GSM537391': 'cancer',\n",
       " 'GSM537392': 'cancer',\n",
       " 'GSM537393': 'cancer',\n",
       " 'GSM537394': 'cancer',\n",
       " 'GSM537395': 'cancer',\n",
       " 'GSM537396': 'cancer',\n",
       " 'GSM537397': 'cancer',\n",
       " 'GSM537398': 'cancer',\n",
       " 'GSM537399': 'cancer',\n",
       " 'GSM537400': 'cancer',\n",
       " 'GSM537401': 'cancer',\n",
       " 'GSM537402': 'cancer',\n",
       " 'GSM537403': 'cancer',\n",
       " 'GSM537404': 'cancer',\n",
       " 'GSM537405': 'cancer',\n",
       " 'GSM537406': 'cancer',\n",
       " 'GSM537407': 'cancer',\n",
       " 'GSM537408': 'cancer',\n",
       " 'GSM537409': 'cancer',\n",
       " 'GSM537410': 'cancer',\n",
       " 'GSM537411': 'cancer',\n",
       " 'GSM537412': 'cancer',\n",
       " 'GSM537413': 'cancer',\n",
       " 'GSM537414': 'cancer',\n",
       " 'GSM537415': 'cancer',\n",
       " 'GSM537416': 'cancer',\n",
       " 'GSM537417': 'cancer',\n",
       " 'GSM537418': 'cancer',\n",
       " 'GSM537419': 'cancer',\n",
       " 'GSM537420': 'cancer',\n",
       " 'GSM537421': 'cancer',\n",
       " 'GSM537422': 'cancer',\n",
       " 'GSM537423': 'cancer',\n",
       " 'GSM537424': 'cancer',\n",
       " 'GSM537425': 'cancer',\n",
       " 'GSM537426': 'cancer',\n",
       " 'GSM537427': 'cancer',\n",
       " 'GSM537428': 'cancer',\n",
       " 'GSM537429': 'cancer',\n",
       " 'GSM537430': 'cancer',\n",
       " 'GSM537431': 'cancer',\n",
       " 'GSM537432': 'cancer',\n",
       " 'GSM537433': 'cancer',\n",
       " 'GSM549099': 'normal',\n",
       " 'GSM549100': 'normal',\n",
       " 'GSM549101': 'normal',\n",
       " 'GSM549102': 'normal',\n",
       " 'GSM549103': 'normal',\n",
       " 'GSM549104': 'normal',\n",
       " 'GSM549105': 'normal',\n",
       " 'GSM549106': 'normal',\n",
       " 'GSM549107': 'normal',\n",
       " 'GSM549108': 'normal',\n",
       " 'GSM549109': 'normal',\n",
       " 'GSM549110': 'normal',\n",
       " 'GSM549111': 'normal',\n",
       " 'GSM549112': 'normal',\n",
       " 'GSM549113': 'normal',\n",
       " 'GSM549114': 'normal',\n",
       " 'GSM549115': 'normal',\n",
       " 'GSM549116': 'normal',\n",
       " 'GSM549117': 'normal',\n",
       " 'GSM549118': 'normal',\n",
       " 'GSM549119': 'normal',\n",
       " 'GSM549120': 'normal',\n",
       " 'GSM549121': 'normal',\n",
       " 'GSM549122': 'normal',\n",
       " 'GSM549123': 'normal',\n",
       " 'GSM549124': 'cancer',\n",
       " 'GSM549125': 'cancer',\n",
       " 'GSM549126': 'cancer',\n",
       " 'GSM549127': 'cancer',\n",
       " 'GSM549128': 'cancer',\n",
       " 'GSM549129': 'cancer',\n",
       " 'GSM549130': 'cancer',\n",
       " 'GSM549131': 'cancer',\n",
       " 'GSM549132': 'cancer',\n",
       " 'GSM549133': 'cancer',\n",
       " 'GSM549134': 'cancer',\n",
       " 'GSM549135': 'cancer',\n",
       " 'GSM549136': 'cancer',\n",
       " 'GSM549137': 'cancer',\n",
       " 'GSM549138': 'cancer',\n",
       " 'GSM549139': 'cancer',\n",
       " 'GSM549140': 'cancer',\n",
       " 'GSM549141': 'cancer',\n",
       " 'GSM549142': 'cancer'}"
      ]
     },
     "execution_count": 8,
     "metadata": {},
     "output_type": "execute_result"
    }
   ],
   "source": [
    "import re\n",
    "\n",
    "samples = {}\n",
    "patient_names = []\n",
    "for i_t, title in enumerate(sample_titles):\n",
    "    split = title.split(',')\n",
    "    if(re.search('cancer', title)):\n",
    "        samples[series_sample_id[i_t]] = 'cancer'\n",
    "    else:\n",
    "        samples[series_sample_id[i_t]] = 'normal'\n",
    "        \n",
    "    patient_names.append(split[0])\n",
    "        \n",
    "samples"
   ]
  },
  {
   "cell_type": "code",
   "execution_count": 9,
   "metadata": {},
   "outputs": [
    {
     "name": "stdout",
     "output_type": "stream",
     "text": [
      "patient 107, normal, homogenized [OPG study]\n"
     ]
    }
   ],
   "source": [
    "print(sample_titles[104])"
   ]
  },
  {
   "cell_type": "markdown",
   "metadata": {},
   "source": [
    "### Prepare the data structure to run the SAM tests"
   ]
  },
  {
   "cell_type": "markdown",
   "metadata": {},
   "source": [
    "Creating a dummy dataset in the Excel file for the SAM analysis"
   ]
  },
  {
   "cell_type": "code",
   "execution_count": 29,
   "metadata": {},
   "outputs": [],
   "source": [
    "import pandas as pd"
   ]
  },
  {
   "cell_type": "code",
   "execution_count": 58,
   "metadata": {},
   "outputs": [
    {
     "data": {
      "text/plain": [
       "array([[None, None, 1, 2, 1],\n",
       "       ['g1', '1001_at', 0.0, 0.0, 0.0],\n",
       "       ['g2', '1002_at', 0.0, 0.0, 0.0],\n",
       "       ['g3', '1003_at', 0.0, 0.0, 0.0],\n",
       "       ['g4', '1004_at', 0.0, 0.0, 0.0],\n",
       "       ['g5', '1005_at', 0.0, 0.0, 0.0],\n",
       "       ['g6', '1006_at', 0.0, 0.0, 0.0]], dtype=object)"
      ]
     },
     "execution_count": 58,
     "metadata": {},
     "output_type": "execute_result"
    }
   ],
   "source": [
    "ar = np.ndarray((7, 5), dtype=object)\n",
    "# ar[0][0] = 'N/A'\n",
    "# ar[0][1] = 'N/A'\n",
    "ar[0, 2:] = np.array([1, 2, 1], dtype='int32')\n",
    "ar[1:, 0] = np.array(['g1', 'g2', 'g3', 'g4', 'g5', 'g6'])\n",
    "ar[1:, 1] = np.array(['1001_at', '1002_at', '1003_at', '1004_at', '1005_at', '1006_at'])\n",
    "ar[1:, 2:] = np.zeros((6, 3))\n",
    "ar"
   ]
  },
  {
   "cell_type": "code",
   "execution_count": 59,
   "metadata": {},
   "outputs": [],
   "source": [
    "ar_frame = pd.DataFrame(ar)"
   ]
  },
  {
   "cell_type": "code",
   "execution_count": 60,
   "metadata": {},
   "outputs": [
    {
     "data": {
      "text/html": [
       "<div>\n",
       "<style scoped>\n",
       "    .dataframe tbody tr th:only-of-type {\n",
       "        vertical-align: middle;\n",
       "    }\n",
       "\n",
       "    .dataframe tbody tr th {\n",
       "        vertical-align: top;\n",
       "    }\n",
       "\n",
       "    .dataframe thead th {\n",
       "        text-align: right;\n",
       "    }\n",
       "</style>\n",
       "<table border=\"1\" class=\"dataframe\">\n",
       "  <thead>\n",
       "    <tr style=\"text-align: right;\">\n",
       "      <th></th>\n",
       "      <th>0</th>\n",
       "      <th>1</th>\n",
       "      <th>2</th>\n",
       "      <th>3</th>\n",
       "      <th>4</th>\n",
       "    </tr>\n",
       "  </thead>\n",
       "  <tbody>\n",
       "    <tr>\n",
       "      <th>0</th>\n",
       "      <td>None</td>\n",
       "      <td>None</td>\n",
       "      <td>1</td>\n",
       "      <td>2</td>\n",
       "      <td>1</td>\n",
       "    </tr>\n",
       "    <tr>\n",
       "      <th>1</th>\n",
       "      <td>g1</td>\n",
       "      <td>1001_at</td>\n",
       "      <td>0</td>\n",
       "      <td>0</td>\n",
       "      <td>0</td>\n",
       "    </tr>\n",
       "    <tr>\n",
       "      <th>2</th>\n",
       "      <td>g2</td>\n",
       "      <td>1002_at</td>\n",
       "      <td>0</td>\n",
       "      <td>0</td>\n",
       "      <td>0</td>\n",
       "    </tr>\n",
       "    <tr>\n",
       "      <th>3</th>\n",
       "      <td>g3</td>\n",
       "      <td>1003_at</td>\n",
       "      <td>0</td>\n",
       "      <td>0</td>\n",
       "      <td>0</td>\n",
       "    </tr>\n",
       "    <tr>\n",
       "      <th>4</th>\n",
       "      <td>g4</td>\n",
       "      <td>1004_at</td>\n",
       "      <td>0</td>\n",
       "      <td>0</td>\n",
       "      <td>0</td>\n",
       "    </tr>\n",
       "    <tr>\n",
       "      <th>5</th>\n",
       "      <td>g5</td>\n",
       "      <td>1005_at</td>\n",
       "      <td>0</td>\n",
       "      <td>0</td>\n",
       "      <td>0</td>\n",
       "    </tr>\n",
       "    <tr>\n",
       "      <th>6</th>\n",
       "      <td>g6</td>\n",
       "      <td>1006_at</td>\n",
       "      <td>0</td>\n",
       "      <td>0</td>\n",
       "      <td>0</td>\n",
       "    </tr>\n",
       "  </tbody>\n",
       "</table>\n",
       "</div>"
      ],
      "text/plain": [
       "      0        1  2  3  4\n",
       "0  None     None  1  2  1\n",
       "1    g1  1001_at  0  0  0\n",
       "2    g2  1002_at  0  0  0\n",
       "3    g3  1003_at  0  0  0\n",
       "4    g4  1004_at  0  0  0\n",
       "5    g5  1005_at  0  0  0\n",
       "6    g6  1006_at  0  0  0"
      ]
     },
     "execution_count": 60,
     "metadata": {},
     "output_type": "execute_result"
    }
   ],
   "source": [
    "ar_frame"
   ]
  },
  {
   "cell_type": "code",
   "execution_count": 61,
   "metadata": {},
   "outputs": [],
   "source": [
    "writer = pd.ExcelWriter('ar.xlsx')\n",
    "ar_frame.to_excel(writer, sheet_name='ar', index=False, header=False)\n",
    "writer.save()"
   ]
  },
  {
   "cell_type": "code",
   "execution_count": null,
   "metadata": {},
   "outputs": [],
   "source": []
  }
 ],
 "metadata": {
  "kernelspec": {
   "display_name": "Python 3",
   "language": "python",
   "name": "python3"
  },
  "language_info": {
   "codemirror_mode": {
    "name": "ipython",
    "version": 3
   },
   "file_extension": ".py",
   "mimetype": "text/x-python",
   "name": "python",
   "nbconvert_exporter": "python",
   "pygments_lexer": "ipython3",
   "version": "3.7.2"
  }
 },
 "nbformat": 4,
 "nbformat_minor": 2
}
