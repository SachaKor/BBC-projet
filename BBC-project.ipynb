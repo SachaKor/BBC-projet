{
 "cells": [
  {
   "cell_type": "markdown",
   "metadata": {},
   "source": [
    "## BBC - Project\n",
    "### Data Exploration"
   ]
  },
  {
   "cell_type": "code",
   "execution_count": 2,
   "metadata": {},
   "outputs": [],
   "source": [
    "DATA_PATH = './data/'"
   ]
  },
  {
   "cell_type": "code",
   "execution_count": 3,
   "metadata": {},
   "outputs": [],
   "source": [
    "import numpy as np\n",
    "from Bio import Geo\n",
    "\n",
    "def load_geo(myfile):\n",
    "    handle = open(myfile)\n",
    "    records = Geo.parse(handle)\n",
    "    return records\n",
    "    \n",
    "records = load_geo(DATA_PATH + 'GSE21510_family.soft')"
   ]
  },
  {
   "cell_type": "markdown",
   "metadata": {},
   "source": [
    "The following cell should be executed multiple times to run through the data"
   ]
  },
  {
   "cell_type": "code",
   "execution_count": 42,
   "metadata": {},
   "outputs": [
    {
     "name": "stdout",
     "output_type": "stream",
     "text": [
      "GEO Type: SAMPLE\n",
      "GEO Id: GSM537365\n",
      "Sample_channel_count: 1\n",
      "\n",
      "Sample_characteristics_ch1: metastasis: metastasis\n",
      "\n",
      "Sample_characteristics_ch1: stage: 4\n",
      "\n",
      "Sample_characteristics_ch1: tissue: cancer, LCM\n",
      "\n",
      "Sample_contact_address: 2-1-1 Hongo\n",
      "\n",
      "Sample_contact_city: Bunkyo-ku\n",
      "\n",
      "Sample_contact_country: Japan\n",
      "\n",
      "Sample_contact_department: Intractable Disease Research Center\n",
      "\n",
      "Sample_contact_email: mogushi-k@umin.ac.jp\n",
      "\n",
      "Sample_contact_institute: Juntendo University\n",
      "\n",
      "Sample_contact_name: Kaoru,,Mogushi\n",
      "\n",
      "Sample_contact_phone: +81-3-5802-1797\n",
      "\n",
      "Sample_contact_state: Tokyo\n",
      "\n",
      "Sample_contact_zip/postal_code: 113-8421\n",
      "\n",
      "Sample_data_processing: The data was normalized by robust multic\n",
      "hip analysis (RMA) using R/Bioconductor (affy package).\n",
      "\n",
      "Sample_data_row_count: 54675\n",
      "\n",
      "Sample_description: Gene expression profile of surgically re\n",
      "sected material\n",
      "\n",
      "Sample_description: C153\n",
      "\n",
      "Sample_extract_protocol_ch1: Total RNA was extracted from tissue spec\n",
      "imens using RNeasy kit (Qiagen, Hilden, Germany). Integrity of obtained RNA was \n",
      "assessed using Agilent 2100 BioAnalyzer (Agilent Technologies, Palo Alto, CA). A\n",
      "ll samples had RNA Integrity Number (RIN) greater than 5.0. Contaminant DNA was \n",
      "removed by digestion with RNase-free DNase (Qiagen).\n",
      "\n",
      "Sample_geo_accession: GSM537365\n",
      "\n",
      "Sample_hyb_protocol: Hybridization and signal detection of HG\n",
      "-U133 Plus 2.0 arrays (Affymetrix) was performed following the manufacturer's in\n",
      "struction using the Affymetrix Fluidics Station 450.\n",
      "\n",
      "Sample_label_ch1: biotin\n",
      "\n",
      "Sample_label_protocol_ch1: cRNA was prepared using two-cycle target\n",
      " labeling and control reagents kit (Affymetrix, Santa Clara, CA).\n",
      "\n",
      "Sample_last_update_date: Feb 28 2011\n",
      "\n",
      "Sample_molecule_ch1: total RNA\n",
      "\n",
      "Sample_organism_ch1: Homo sapiens\n",
      "\n",
      "Sample_platform_id: GPL570\n",
      "\n",
      "Sample_relation: Reanalysis of: GSM452584\n",
      "\n",
      "Sample_scan_protocol: GeneChips were scanned using Affymetrix \n",
      "GeneChip Scanner 3000.\n",
      "\n",
      "Sample_series_id: GSE21510\n",
      "\n",
      "Sample_source_name_ch1: surgically resected material\n",
      "\n",
      "Sample_status: Public on Feb 28 2011\n",
      "\n",
      "Sample_submission_date: Apr 26 2010\n",
      "\n",
      "Sample_supplementary_file: ftp://ftp.ncbi.nlm.nih.gov/geo/samples/G\n",
      "SM537nnn/GSM537365/suppl/GSM537365_chip_array_C153T.CEL.gz\n",
      "\n",
      "Sample_taxid_ch1: 9606\n",
      "\n",
      "Sample_title: patient 153, cancer, LCM [OPG study]\n",
      "\n",
      "Sample_treatment_protocol_ch1: Tumor tissue was extracted using laser-c\n",
      "apture microdissection.\n",
      "\n",
      "Sample_type: RNA\n",
      "\n",
      "sample_table_begin: \n",
      "\n",
      "sample_table_end: \n",
      "\n",
      "Column Header Definitions\n",
      "    ID_REF: \n",
      "\n",
      "    VALUE: RMA signal intensity, log2-transformed\n",
      "\n",
      "0: ID_REF\tVALUE\t\n",
      "1: 1007_s_at\t10.28246509\t\n",
      "2: 1053_at\t7.17866235\t\n",
      "3: 117_at\t5.455319424\t\n",
      "4: 121_at\t7.945901056\t\n",
      "5: 1255_g_at\t3.330526255\t\n",
      "6: 1294_at\t7.702534159\t\n",
      "7: 1316_at\t6.168650156\t\n",
      "8: 1320_at\t4.659859871\t\n",
      "9: 1405_i_at\t5.605524662\t\n",
      "10: 1431_at\t3.602522843\t\n",
      "11: 1438_at\t7.488447257\t\n",
      "12: 1487_at\t9.27686847\t\n",
      "13: 1494_f_at\t5.799553361\t\n",
      "14: 1552256_a_at\t8.815837131\t\n",
      "15: 1552257_a_at\t8.634309381\t\n",
      "16: 1552258_at\t4.816770496\t\n",
      "17: 1552261_at\t4.874670744\t\n",
      "18: 1552263_at\t6.737871148\t\n",
      "19: 1552264_a_at\t6.26131379\t\n",
      "20: 1552266_at\t5.277400123\t\n",
      "...\n",
      "54675: AFFX-r2-P1-cre-5_at\t13.38843608\t\n",
      "\n",
      "\n",
      "---------------------- ENTITY_ATTRIBUTES:------------------------------\n",
      "\n",
      "{'Sample_title': 'patient 153, cancer, LCM [OPG study]', 'Sample_geo_accession': 'GSM537365', 'Sample_status': 'Public on Feb 28 2011', 'Sample_submission_date': 'Apr 26 2010', 'Sample_last_update_date': 'Feb 28 2011', 'Sample_type': 'RNA', 'Sample_channel_count': '1', 'Sample_source_name_ch1': 'surgically resected material', 'Sample_organism_ch1': 'Homo sapiens', 'Sample_taxid_ch1': '9606', 'Sample_characteristics_ch1': ['metastasis: metastasis', 'stage: 4', 'tissue: cancer, LCM'], 'Sample_treatment_protocol_ch1': 'Tumor tissue was extracted using laser-capture microdissection.', 'Sample_molecule_ch1': 'total RNA', 'Sample_extract_protocol_ch1': 'Total RNA was extracted from tissue specimens using RNeasy kit (Qiagen, Hilden, Germany). Integrity of obtained RNA was assessed using Agilent 2100 BioAnalyzer (Agilent Technologies, Palo Alto, CA). All samples had RNA Integrity Number (RIN) greater than 5.0. Contaminant DNA was removed by digestion with RNase-free DNase (Qiagen).', 'Sample_label_ch1': 'biotin', 'Sample_label_protocol_ch1': 'cRNA was prepared using two-cycle target labeling and control reagents kit (Affymetrix, Santa Clara, CA).', 'Sample_hyb_protocol': \"Hybridization and signal detection of HG-U133 Plus 2.0 arrays (Affymetrix) was performed following the manufacturer's instruction using the Affymetrix Fluidics Station 450.\", 'Sample_scan_protocol': 'GeneChips were scanned using Affymetrix GeneChip Scanner 3000.', 'Sample_description': ['Gene expression profile of surgically resected material', 'C153'], 'Sample_data_processing': 'The data was normalized by robust multichip analysis (RMA) using R/Bioconductor (affy package).', 'Sample_platform_id': 'GPL570', 'Sample_contact_name': 'Kaoru,,Mogushi', 'Sample_contact_email': 'mogushi-k@umin.ac.jp', 'Sample_contact_phone': '+81-3-5802-1797', 'Sample_contact_department': 'Intractable Disease Research Center', 'Sample_contact_institute': 'Juntendo University', 'Sample_contact_address': '2-1-1 Hongo', 'Sample_contact_city': 'Bunkyo-ku', 'Sample_contact_state': 'Tokyo', 'Sample_contact_zip/postal_code': '113-8421', 'Sample_contact_country': 'Japan', 'Sample_supplementary_file': 'ftp://ftp.ncbi.nlm.nih.gov/geo/samples/GSM537nnn/GSM537365/suppl/GSM537365_chip_array_C153T.CEL.gz', 'Sample_relation': 'Reanalysis of: GSM452584', 'Sample_series_id': 'GSE21510', 'Sample_data_row_count': '54675', 'sample_table_begin': '', 'sample_table_end': ''}\n"
     ]
    }
   ],
   "source": [
    "nr = next(records)\n",
    "print(nr)\n",
    "print('\\n---------------------- ENTITY_ATTRIBUTES:------------------------------\\n')\n",
    "print(nr.entity_attributes)"
   ]
  },
  {
   "cell_type": "code",
   "execution_count": 43,
   "metadata": {},
   "outputs": [],
   "source": [
    "# re-loading the data\n",
    "records = load_geo(DATA_PATH + 'GSE21510_family.soft')\n",
    "series_sample_id = []\n",
    "sample_titles = []\n",
    "genes = []\n",
    "nb_cols = 0\n",
    "nb_rows = 0\n",
    "data = []\n",
    "for r in records:\n",
    "    rea = r.entity_attributes\n",
    "    if 'Series_geo_accession' in rea:\n",
    "        if rea['Series_geo_accession'] == 'GSE21510':\n",
    "            series_sample_id = rea['Series_sample_id']\n",
    "            nb_cols = len(series_sample_id)\n",
    "    if 'Sample_title' in rea:\n",
    "        sample_titles.append(rea['Sample_title'])\n",
    "        if 'sample_table_begin' in rea:\n",
    "            nb_rows = rea['Sample_data_row_count'] \n",
    "            data.append(r.table_rows)\n",
    "                    "
   ]
  },
  {
   "cell_type": "markdown",
   "metadata": {},
   "source": [
    "data will become a 2d numpy array of shape (54676, 149) == (NB_GENES+1, NB_SAMPLES+1).  \n",
    "First row will contain the sample ids, first column will contain the ID_REFs of the genes."
   ]
  },
  {
   "cell_type": "code",
   "execution_count": 44,
   "metadata": {},
   "outputs": [
    {
     "ename": "MemoryError",
     "evalue": "",
     "output_type": "error",
     "traceback": [
      "\u001b[1;31m---------------------------------------------------------------------------\u001b[0m",
      "\u001b[1;31mMemoryError\u001b[0m                               Traceback (most recent call last)",
      "\u001b[1;32m<ipython-input-44-67174cef3785>\u001b[0m in \u001b[0;36m<module>\u001b[1;34m\u001b[0m\n\u001b[0;32m      5\u001b[0m \u001b[1;33m\u001b[0m\u001b[0m\n\u001b[0;32m      6\u001b[0m \u001b[1;32mfor\u001b[0m \u001b[0mi\u001b[0m\u001b[1;33m,\u001b[0m \u001b[0md\u001b[0m \u001b[1;32min\u001b[0m \u001b[0menumerate\u001b[0m\u001b[1;33m(\u001b[0m\u001b[0mdata\u001b[0m\u001b[1;33m)\u001b[0m\u001b[1;33m:\u001b[0m\u001b[1;33m\u001b[0m\u001b[1;33m\u001b[0m\u001b[0m\n\u001b[1;32m----> 7\u001b[1;33m     \u001b[0mvalues\u001b[0m \u001b[1;33m=\u001b[0m \u001b[0mnp\u001b[0m\u001b[1;33m.\u001b[0m\u001b[0marray\u001b[0m\u001b[1;33m(\u001b[0m\u001b[0md\u001b[0m\u001b[1;33m[\u001b[0m\u001b[1;36m1\u001b[0m\u001b[1;33m:\u001b[0m\u001b[1;33m]\u001b[0m\u001b[1;33m)\u001b[0m\u001b[1;33m\u001b[0m\u001b[1;33m\u001b[0m\u001b[0m\n\u001b[0m\u001b[0;32m      8\u001b[0m     \u001b[1;32mif\u001b[0m \u001b[1;33m(\u001b[0m\u001b[0mi\u001b[0m \u001b[1;33m==\u001b[0m \u001b[1;36m0\u001b[0m\u001b[1;33m)\u001b[0m\u001b[1;33m:\u001b[0m\u001b[1;33m\u001b[0m\u001b[1;33m\u001b[0m\u001b[0m\n\u001b[0;32m      9\u001b[0m         \u001b[0mall_data\u001b[0m\u001b[1;33m[\u001b[0m\u001b[1;36m1\u001b[0m\u001b[1;33m:\u001b[0m\u001b[1;33m,\u001b[0m \u001b[1;36m0\u001b[0m\u001b[1;33m]\u001b[0m \u001b[1;33m=\u001b[0m \u001b[0mvalues\u001b[0m\u001b[1;33m[\u001b[0m\u001b[1;33m:\u001b[0m\u001b[1;33m,\u001b[0m \u001b[1;36m0\u001b[0m\u001b[1;33m]\u001b[0m\u001b[1;33m\u001b[0m\u001b[1;33m\u001b[0m\u001b[0m\n",
      "\u001b[1;31mMemoryError\u001b[0m: "
     ]
    }
   ],
   "source": [
    "all_data = np.ndarray((int(nb_rows)+1, int(nb_cols)+1), dtype=object)\n",
    "# labels\n",
    "all_data[0, 0] = 'ID_REF'\n",
    "all_data[0, 1:] = np.array(series_sample_id)\n",
    "\n",
    "for i, d in enumerate(data):\n",
    "    values = np.array(d[1:])\n",
    "    if (i == 0):\n",
    "        all_data[1:, 0] = values[:, 0]\n",
    "    all_data[1:, i+1] = values[:, 1]\n",
    "data = np.array(all_data)"
   ]
  },
  {
   "cell_type": "code",
   "execution_count": 45,
   "metadata": {},
   "outputs": [
    {
     "ename": "AttributeError",
     "evalue": "'list' object has no attribute 'shape'",
     "output_type": "error",
     "traceback": [
      "\u001b[1;31m---------------------------------------------------------------------------\u001b[0m",
      "\u001b[1;31mAttributeError\u001b[0m                            Traceback (most recent call last)",
      "\u001b[1;32m<ipython-input-45-047ed65ff157>\u001b[0m in \u001b[0;36m<module>\u001b[1;34m\u001b[0m\n\u001b[1;32m----> 1\u001b[1;33m \u001b[0mdata\u001b[0m\u001b[1;33m.\u001b[0m\u001b[0mshape\u001b[0m\u001b[1;33m\u001b[0m\u001b[1;33m\u001b[0m\u001b[0m\n\u001b[0m",
      "\u001b[1;31mAttributeError\u001b[0m: 'list' object has no attribute 'shape'"
     ]
    }
   ],
   "source": [
    "data.shape"
   ]
  },
  {
   "cell_type": "code",
   "execution_count": 124,
   "metadata": {},
   "outputs": [
    {
     "name": "stdout",
     "output_type": "stream",
     "text": [
      "['GSM537330', 'GSM537331', 'GSM537332', 'GSM537333', 'GSM537334', 'GSM537335', 'GSM537336', 'GSM537337', 'GSM537338', 'GSM537339', 'GSM537340', 'GSM537341', 'GSM537342', 'GSM537343', 'GSM537344', 'GSM537345', 'GSM537346', 'GSM537347', 'GSM537348', 'GSM537349', 'GSM537350', 'GSM537351', 'GSM537352', 'GSM537353', 'GSM537354', 'GSM537355', 'GSM537356', 'GSM537357', 'GSM537358', 'GSM537359', 'GSM537360', 'GSM537361', 'GSM537362', 'GSM537363', 'GSM537364', 'GSM537365', 'GSM537366', 'GSM537367', 'GSM537368', 'GSM537369', 'GSM537370', 'GSM537371', 'GSM537372', 'GSM537373', 'GSM537374', 'GSM537375', 'GSM537376', 'GSM537377', 'GSM537378', 'GSM537379', 'GSM537380', 'GSM537381', 'GSM537382', 'GSM537383', 'GSM537384', 'GSM537385', 'GSM537386', 'GSM537387', 'GSM537388', 'GSM537389', 'GSM537390', 'GSM537391', 'GSM537392', 'GSM537393', 'GSM537394', 'GSM537395', 'GSM537396', 'GSM537397', 'GSM537398', 'GSM537399', 'GSM537400', 'GSM537401', 'GSM537402', 'GSM537403', 'GSM537404', 'GSM537405', 'GSM537406', 'GSM537407', 'GSM537408', 'GSM537409', 'GSM537410', 'GSM537411', 'GSM537412', 'GSM537413', 'GSM537414', 'GSM537415', 'GSM537416', 'GSM537417', 'GSM537418', 'GSM537419', 'GSM537420', 'GSM537421', 'GSM537422', 'GSM537423', 'GSM537424', 'GSM537425', 'GSM537426', 'GSM537427', 'GSM537428', 'GSM537429', 'GSM537430', 'GSM537431', 'GSM537432', 'GSM537433', 'GSM549099', 'GSM549100', 'GSM549101', 'GSM549102', 'GSM549103', 'GSM549104', 'GSM549105', 'GSM549106', 'GSM549107', 'GSM549108', 'GSM549109', 'GSM549110', 'GSM549111', 'GSM549112', 'GSM549113', 'GSM549114', 'GSM549115', 'GSM549116', 'GSM549117', 'GSM549118', 'GSM549119', 'GSM549120', 'GSM549121', 'GSM549122', 'GSM549123', 'GSM549124', 'GSM549125', 'GSM549126', 'GSM549127', 'GSM549128', 'GSM549129', 'GSM549130', 'GSM549131', 'GSM549132', 'GSM549133', 'GSM549134', 'GSM549135', 'GSM549136', 'GSM549137', 'GSM549138', 'GSM549139', 'GSM549140', 'GSM549141', 'GSM549142']\n",
      "\n",
      "['GSM537330', 'GSM537331', 'GSM537332', 'GSM537333', 'GSM537334', 'GSM537335', 'GSM537336', 'GSM537337', 'GSM537338', 'GSM537339', 'GSM537340', 'GSM537341', 'GSM537342', 'GSM537343', 'GSM537344', 'GSM537345', 'GSM537346', 'GSM537347', 'GSM537348', 'GSM537349', 'GSM537350', 'GSM537351', 'GSM537352', 'GSM537353', 'GSM537354', 'GSM537355', 'GSM537356', 'GSM537357', 'GSM537358', 'GSM537359', 'GSM537360', 'GSM537361', 'GSM537362', 'GSM537363', 'GSM537364', 'GSM537365', 'GSM537366', 'GSM537367', 'GSM537368', 'GSM537369', 'GSM537370', 'GSM537371', 'GSM537372', 'GSM537373', 'GSM537374', 'GSM537375', 'GSM537376', 'GSM537377', 'GSM537378', 'GSM537379', 'GSM537380', 'GSM537381', 'GSM537382', 'GSM537383', 'GSM537384', 'GSM537385', 'GSM537386', 'GSM537387', 'GSM537388', 'GSM537389', 'GSM537390', 'GSM537391', 'GSM537392', 'GSM537393', 'GSM537394', 'GSM537395', 'GSM537396', 'GSM537397', 'GSM537398', 'GSM537399', 'GSM537400', 'GSM537401', 'GSM537402', 'GSM537403', 'GSM537404', 'GSM537405', 'GSM537406', 'GSM537407', 'GSM537408', 'GSM537409', 'GSM537410', 'GSM537411', 'GSM537412', 'GSM537413', 'GSM537414', 'GSM537415', 'GSM537416', 'GSM537417', 'GSM537418', 'GSM537419', 'GSM537420', 'GSM537421', 'GSM537422', 'GSM537423', 'GSM537424', 'GSM537425', 'GSM537426', 'GSM537427', 'GSM537428', 'GSM537429', 'GSM537430', 'GSM537431', 'GSM537432', 'GSM537433', 'GSM549099', 'GSM549100', 'GSM549101', 'GSM549102', 'GSM549103', 'GSM549104', 'GSM549105', 'GSM549106', 'GSM549107', 'GSM549108', 'GSM549109', 'GSM549110', 'GSM549111', 'GSM549112', 'GSM549113', 'GSM549114', 'GSM549115', 'GSM549116', 'GSM549117', 'GSM549118', 'GSM549119', 'GSM549120', 'GSM549121', 'GSM549122', 'GSM549123', 'GSM549124', 'GSM549125', 'GSM549126', 'GSM549127', 'GSM549128', 'GSM549129', 'GSM549130', 'GSM549131', 'GSM549132', 'GSM549133', 'GSM549134', 'GSM549135', 'GSM549136', 'GSM549137', 'GSM549138', 'GSM549139', 'GSM549140', 'GSM549141', 'GSM549142']\n",
      "\n",
      "['patient 006, cancer, LCM [OPG study]', 'patient 100, cancer, LCM [OPG study]', 'patient 101, cancer, LCM [OPG study]', 'patient 102, cancer, LCM [OPG study]', 'patient 103, cancer, LCM [OPG study]', 'patient 104, cancer, LCM [OPG study]', 'patient 107, cancer, LCM [OPG study]', 'patient 108, cancer, LCM [OPG study]', 'patient 110, cancer, LCM [OPG study]', 'patient 111, cancer, LCM [OPG study]', 'patient 113, cancer, LCM [OPG study]', 'patient 115, cancer, LCM [OPG study]', 'patient 116, cancer, LCM [OPG study]', 'patient 117, cancer, LCM [OPG study]', 'patient 118, cancer, LCM [OPG study]', 'patient 119, cancer, LCM [OPG study]', 'patient 011, cancer, LCM [OPG study]', 'patient 123, cancer, LCM [OPG study]', 'patient 124, cancer, LCM [OPG study]', 'patient 125, cancer, LCM [OPG study]', 'patient 127, cancer, LCM [OPG study]', 'patient 128, cancer, LCM [OPG study]', 'patient 134, cancer, LCM [OPG study]', 'patient 135, cancer, LCM [OPG study]', 'patient 136, cancer, LCM [OPG study]', 'patient 138, cancer, LCM [OPG study]', 'patient 139, cancer, LCM [OPG study]', 'patient 142, cancer, LCM [OPG study]', 'patient 143, cancer, LCM [OPG study]', 'patient 144, cancer, LCM [OPG study]', 'patient 145, cancer, LCM [OPG study]', 'patient 147, cancer, LCM [OPG study]', 'patient 148, cancer, LCM [OPG study]', 'patient 150, cancer, LCM [OPG study]', 'patient 152, cancer, LCM [OPG study]', 'patient 153, cancer, LCM [OPG study]', 'patient 154, cancer, LCM [OPG study]', 'patient 155, cancer, LCM [OPG study]', 'patient 156, cancer, LCM [OPG study]', 'patient 015, cancer, LCM [OPG study]', 'patient 022, cancer, LCM [OPG study]', 'patient 023, cancer, LCM [OPG study]', 'patient 024, cancer, LCM [OPG study]', 'patient 025, cancer, LCM [OPG study]', 'patient 026, cancer, LCM [OPG study]', 'patient 030, cancer, LCM [OPG study]', 'patient 031, cancer, LCM [OPG study]', 'patient 033, cancer, LCM [OPG study]', 'patient 034, cancer, LCM [OPG study]', 'patient 036, cancer, LCM [OPG study]', 'patient 037, cancer, LCM [OPG study]', 'patient 038, cancer, LCM [OPG study]', 'patient 041, cancer, LCM [OPG study]', 'patient 046, cancer, LCM [OPG study]', 'patient 048, cancer, LCM [OPG study]', 'patient 053, cancer, LCM [OPG study]', 'patient 057, cancer, LCM [OPG study]', 'patient 061, cancer, LCM [OPG study]', 'patient 063, cancer, LCM [OPG study]', 'patient 068, cancer, LCM [OPG study]', 'patient 072, cancer, LCM [OPG study]', 'patient 073, cancer, LCM [OPG study]', 'patient 077, cancer, LCM [OPG study]', 'patient 078, cancer, LCM [OPG study]', 'patient 081, cancer, LCM [OPG study]', 'patient 082, cancer, LCM [OPG study]', 'patient 083, cancer, LCM [OPG study]', 'patient 088, cancer, LCM [OPG study]', 'patient 094, cancer, LCM [OPG study]', 'patient 095, cancer, LCM [OPG study]', 'patient 099, cancer, LCM [OPG study]', 'patient 106, cancer, LCM [OPG study]', 'patient 109, cancer, LCM [OPG study]', 'patient 121, cancer, LCM [OPG study]', 'patient 129, cancer, LCM [OPG study]', 'patient 130, cancer, LCM [OPG study]', 'patient 131, cancer, LCM [OPG study]', 'patient 133, cancer, LCM [OPG study]', 'patient 140, cancer, LCM [OPG study]', 'patient 141, cancer, LCM [OPG study]', 'patient 146, cancer, LCM [OPG study]', 'patient 149, cancer, LCM [OPG study]', 'patient 019, cancer, LCM [OPG study]', 'patient 027, cancer, LCM [OPG study]', 'patient 028, cancer, LCM [OPG study]', 'patient 032, cancer, LCM [OPG study]', 'patient 035, cancer, LCM [OPG study]', 'patient 042, cancer, LCM [OPG study]', 'patient 044, cancer, LCM [OPG study]', 'patient 045, cancer, LCM [OPG study]', 'patient 052, cancer, LCM [OPG study]', 'patient 055, cancer, LCM [OPG study]', 'patient 059, cancer, LCM [OPG study]', 'patient 064, cancer, LCM [OPG study]', 'patient 065, cancer, LCM [OPG study]', 'patient 070, cancer, LCM [OPG study]', 'patient 079, cancer, LCM [OPG study]', 'patient 084, cancer, LCM [OPG study]', 'patient 086, cancer, LCM [OPG study]', 'patient 089, cancer, LCM [OPG study]', 'patient 090, cancer, LCM [OPG study]', 'patient 096, cancer, LCM [OPG study]', 'patient 097, cancer, LCM [OPG study]', 'patient 098, cancer, LCM [OPG study]', 'patient 107, normal, homogenized [OPG study]', 'patient 110, normal, homogenized [OPG study]', 'patient 111, normal, homogenized [OPG study]', 'patient 115, normal, homogenized [OPG study]', 'patient 117, normal, homogenized [OPG study]', 'patient 119, normal, homogenized [OPG study]', 'patient 128, normal, homogenized [OPG study]', 'patient 134, normal, homogenized [OPG study]', 'patient 135, normal, homogenized [OPG study]', 'patient 138, normal, homogenized [OPG study]', 'patient 139, normal, homogenized [OPG study]', 'patient 046, normal, homogenized [OPG study]', 'patient 047, normal, homogenized [OPG study]', 'patient 048, normal, homogenized [OPG study]', 'patient 057, normal, homogenized [OPG study]', 'patient 063, normal, homogenized [OPG study]', 'patient 068, normal, homogenized [OPG study]', 'patient 072, normal, homogenized [OPG study]', 'patient 073, normal, homogenized [OPG study]', 'patient 074, normal, homogenized [OPG study]', 'patient 077, normal, homogenized [OPG study]', 'patient 078, normal, homogenized [OPG study]', 'patient 080, normal, homogenized [OPG study]', 'patient 082, normal, homogenized [OPG study]', 'patient 088, normal, homogenized [OPG study]', 'patient 006, cancer, homogenized [OPG study]', 'patient 011, cancer, homogenized [OPG study]', 'patient 015, cancer, homogenized [OPG study]', 'patient 024, cancer, homogenized [OPG study]', 'patient 025, cancer, homogenized [OPG study]', 'patient 027, cancer, homogenized [OPG study]', 'patient 028, cancer, homogenized [OPG study]', 'patient 030, cancer, homogenized [OPG study]', 'patient 031, cancer, homogenized [OPG study]', 'patient 032, cancer, homogenized [OPG study]', 'patient 033, cancer, homogenized [OPG study]', 'patient 035, cancer, homogenized [OPG study]', 'patient 036, cancer, homogenized [OPG study]', 'patient 038, cancer, homogenized [OPG study]', 'patient 041, cancer, homogenized [OPG study]', 'patient 042, cancer, homogenized [OPG study]', 'patient 044, cancer, homogenized [OPG study]', 'patient 045, cancer, homogenized [OPG study]', 'patient 047, cancer, homogenized [OPG study]']\n",
      "\n",
      "148 54676\n",
      "['ID_REF', 'VALUE']\n"
     ]
    }
   ],
   "source": [
    "print(series_sample_id)\n",
    "print('')\n",
    "print(samples_geo_accessions)\n",
    "print('')\n",
    "print(sample_titles)\n",
    "print('')\n",
    "print(len(data), len(data[0]))\n",
    "print(data[1][0])"
   ]
  },
  {
   "cell_type": "code",
   "execution_count": 89,
   "metadata": {},
   "outputs": [
    {
     "data": {
      "text/plain": [
       "{'GSM537330': 'cancer',\n",
       " 'GSM537331': 'cancer',\n",
       " 'GSM537332': 'cancer',\n",
       " 'GSM537333': 'cancer',\n",
       " 'GSM537334': 'cancer',\n",
       " 'GSM537335': 'cancer',\n",
       " 'GSM537336': 'cancer',\n",
       " 'GSM537337': 'cancer',\n",
       " 'GSM537338': 'cancer',\n",
       " 'GSM537339': 'cancer',\n",
       " 'GSM537340': 'cancer',\n",
       " 'GSM537341': 'cancer',\n",
       " 'GSM537342': 'cancer',\n",
       " 'GSM537343': 'cancer',\n",
       " 'GSM537344': 'cancer',\n",
       " 'GSM537345': 'cancer',\n",
       " 'GSM537346': 'cancer',\n",
       " 'GSM537347': 'cancer',\n",
       " 'GSM537348': 'cancer',\n",
       " 'GSM537349': 'cancer',\n",
       " 'GSM537350': 'cancer',\n",
       " 'GSM537351': 'cancer',\n",
       " 'GSM537352': 'cancer',\n",
       " 'GSM537353': 'cancer',\n",
       " 'GSM537354': 'cancer',\n",
       " 'GSM537355': 'cancer',\n",
       " 'GSM537356': 'cancer',\n",
       " 'GSM537357': 'cancer',\n",
       " 'GSM537358': 'cancer',\n",
       " 'GSM537359': 'cancer',\n",
       " 'GSM537360': 'cancer',\n",
       " 'GSM537361': 'cancer',\n",
       " 'GSM537362': 'cancer',\n",
       " 'GSM537363': 'cancer',\n",
       " 'GSM537364': 'cancer',\n",
       " 'GSM537365': 'cancer',\n",
       " 'GSM537366': 'cancer',\n",
       " 'GSM537367': 'cancer',\n",
       " 'GSM537368': 'cancer',\n",
       " 'GSM537369': 'cancer',\n",
       " 'GSM537370': 'cancer',\n",
       " 'GSM537371': 'cancer',\n",
       " 'GSM537372': 'cancer',\n",
       " 'GSM537373': 'cancer',\n",
       " 'GSM537374': 'cancer',\n",
       " 'GSM537375': 'cancer',\n",
       " 'GSM537376': 'cancer',\n",
       " 'GSM537377': 'cancer',\n",
       " 'GSM537378': 'cancer',\n",
       " 'GSM537379': 'cancer',\n",
       " 'GSM537380': 'cancer',\n",
       " 'GSM537381': 'cancer',\n",
       " 'GSM537382': 'cancer',\n",
       " 'GSM537383': 'cancer',\n",
       " 'GSM537384': 'cancer',\n",
       " 'GSM537385': 'cancer',\n",
       " 'GSM537386': 'cancer',\n",
       " 'GSM537387': 'cancer',\n",
       " 'GSM537388': 'cancer',\n",
       " 'GSM537389': 'cancer',\n",
       " 'GSM537390': 'cancer',\n",
       " 'GSM537391': 'cancer',\n",
       " 'GSM537392': 'cancer',\n",
       " 'GSM537393': 'cancer',\n",
       " 'GSM537394': 'cancer',\n",
       " 'GSM537395': 'cancer',\n",
       " 'GSM537396': 'cancer',\n",
       " 'GSM537397': 'cancer',\n",
       " 'GSM537398': 'cancer',\n",
       " 'GSM537399': 'cancer',\n",
       " 'GSM537400': 'cancer',\n",
       " 'GSM537401': 'cancer',\n",
       " 'GSM537402': 'cancer',\n",
       " 'GSM537403': 'cancer',\n",
       " 'GSM537404': 'cancer',\n",
       " 'GSM537405': 'cancer',\n",
       " 'GSM537406': 'cancer',\n",
       " 'GSM537407': 'cancer',\n",
       " 'GSM537408': 'cancer',\n",
       " 'GSM537409': 'cancer',\n",
       " 'GSM537410': 'cancer',\n",
       " 'GSM537411': 'cancer',\n",
       " 'GSM537412': 'cancer',\n",
       " 'GSM537413': 'cancer',\n",
       " 'GSM537414': 'cancer',\n",
       " 'GSM537415': 'cancer',\n",
       " 'GSM537416': 'cancer',\n",
       " 'GSM537417': 'cancer',\n",
       " 'GSM537418': 'cancer',\n",
       " 'GSM537419': 'cancer',\n",
       " 'GSM537420': 'cancer',\n",
       " 'GSM537421': 'cancer',\n",
       " 'GSM537422': 'cancer',\n",
       " 'GSM537423': 'cancer',\n",
       " 'GSM537424': 'cancer',\n",
       " 'GSM537425': 'cancer',\n",
       " 'GSM537426': 'cancer',\n",
       " 'GSM537427': 'cancer',\n",
       " 'GSM537428': 'cancer',\n",
       " 'GSM537429': 'cancer',\n",
       " 'GSM537430': 'cancer',\n",
       " 'GSM537431': 'cancer',\n",
       " 'GSM537432': 'cancer',\n",
       " 'GSM537433': 'cancer',\n",
       " 'GSM549099': 'normal',\n",
       " 'GSM549100': 'normal',\n",
       " 'GSM549101': 'normal',\n",
       " 'GSM549102': 'normal',\n",
       " 'GSM549103': 'normal',\n",
       " 'GSM549104': 'normal',\n",
       " 'GSM549105': 'normal',\n",
       " 'GSM549106': 'normal',\n",
       " 'GSM549107': 'normal',\n",
       " 'GSM549108': 'normal',\n",
       " 'GSM549109': 'normal',\n",
       " 'GSM549110': 'normal',\n",
       " 'GSM549111': 'normal',\n",
       " 'GSM549112': 'normal',\n",
       " 'GSM549113': 'normal',\n",
       " 'GSM549114': 'normal',\n",
       " 'GSM549115': 'normal',\n",
       " 'GSM549116': 'normal',\n",
       " 'GSM549117': 'normal',\n",
       " 'GSM549118': 'normal',\n",
       " 'GSM549119': 'normal',\n",
       " 'GSM549120': 'normal',\n",
       " 'GSM549121': 'normal',\n",
       " 'GSM549122': 'normal',\n",
       " 'GSM549123': 'normal',\n",
       " 'GSM549124': 'cancer',\n",
       " 'GSM549125': 'cancer',\n",
       " 'GSM549126': 'cancer',\n",
       " 'GSM549127': 'cancer',\n",
       " 'GSM549128': 'cancer',\n",
       " 'GSM549129': 'cancer',\n",
       " 'GSM549130': 'cancer',\n",
       " 'GSM549131': 'cancer',\n",
       " 'GSM549132': 'cancer',\n",
       " 'GSM549133': 'cancer',\n",
       " 'GSM549134': 'cancer',\n",
       " 'GSM549135': 'cancer',\n",
       " 'GSM549136': 'cancer',\n",
       " 'GSM549137': 'cancer',\n",
       " 'GSM549138': 'cancer',\n",
       " 'GSM549139': 'cancer',\n",
       " 'GSM549140': 'cancer',\n",
       " 'GSM549141': 'cancer',\n",
       " 'GSM549142': 'cancer'}"
      ]
     },
     "execution_count": 89,
     "metadata": {},
     "output_type": "execute_result"
    }
   ],
   "source": [
    "import re\n",
    "\n",
    "samples = {}\n",
    "patient_names = []\n",
    "for i_t, title in enumerate(sample_titles):\n",
    "    split = title.split(',')\n",
    "    if(re.search('cancer', title)):\n",
    "        samples[series_sample_id[i_t]] = 'cancer'\n",
    "    else:\n",
    "        samples[series_sample_id[i_t]] = 'normal'\n",
    "        \n",
    "    patient_names.append(split[0])\n",
    "        \n",
    "samples"
   ]
  },
  {
   "cell_type": "code",
   "execution_count": 1,
   "metadata": {},
   "outputs": [
    {
     "ename": "NameError",
     "evalue": "name 'sample_titles' is not defined",
     "output_type": "error",
     "traceback": [
      "\u001b[1;31m---------------------------------------------------------------------------\u001b[0m",
      "\u001b[1;31mNameError\u001b[0m                                 Traceback (most recent call last)",
      "\u001b[1;32m<ipython-input-1-1546b037f348>\u001b[0m in \u001b[0;36m<module>\u001b[1;34m\u001b[0m\n\u001b[1;32m----> 1\u001b[1;33m \u001b[0mprint\u001b[0m\u001b[1;33m(\u001b[0m\u001b[0msample_titles\u001b[0m\u001b[1;33m[\u001b[0m\u001b[1;36m104\u001b[0m\u001b[1;33m]\u001b[0m\u001b[1;33m)\u001b[0m\u001b[1;33m\u001b[0m\u001b[1;33m\u001b[0m\u001b[0m\n\u001b[0m",
      "\u001b[1;31mNameError\u001b[0m: name 'sample_titles' is not defined"
     ]
    }
   ],
   "source": [
    "print(sample_titles[104])"
   ]
  },
  {
   "cell_type": "markdown",
   "metadata": {},
   "source": [
    "## Analyse lexicale"
   ]
  },
  {
   "cell_type": "code",
   "execution_count": 180,
   "metadata": {},
   "outputs": [],
   "source": [
    "import nltk\n",
    "import os, codecs \n",
    "from nltk.text import TextCollection\n",
    "from math import*\n"
   ]
  },
  {
   "cell_type": "code",
   "execution_count": 277,
   "metadata": {},
   "outputs": [],
   "source": [
    "WORD_TO_SEARCH = ['cancer', 'colorectal', 'neoplasms', 'nonpolyposis', 'lynch' ]\n",
    "query_vector = [1 for i in range(len(WORD_TO_SEARCH))]\n",
    "\n",
    "LINE_SEPARATOR = \"$$$\"\n",
    "CONETENT_SEPARATOR = \":::\"\n"
   ]
  },
  {
   "cell_type": "code",
   "execution_count": 278,
   "metadata": {},
   "outputs": [],
   "source": [
    "data_path = \"C:\\\\Users\\\\Jeremie Chatillon\\\\Documents\\\\HEIG\\\\BA-06\\\\BBC\\\\BBC-projet\\\\data\\\\\"\n",
    "#data_file = \"geneDefinition_dev.dat\"\n",
    "data_file = \"geneDefinition_prod.dat\""
   ]
  },
  {
   "cell_type": "markdown",
   "metadata": {},
   "source": [
    "### Ecriture des sentences dans le fichier"
   ]
  },
  {
   "cell_type": "code",
   "execution_count": 279,
   "metadata": {},
   "outputs": [],
   "source": [
    "## Genration de données de tests\n",
    "data1 = ['1007_s_at', 'U48705', 'hello word!! how are you']\n",
    "data2 =  ['1007_s_at', 'U48705', 'hello the word hello hello']\n",
    "data3 =  ['1007_s_at', 'U48705', 'hellos the wsord']\n",
    "data4 =  ['1007_s_at', 'U48705', 'hello he wseord cancer']\n",
    "\n",
    "datas = [['ID', 'GB_ACC', 'text'], data1, data2, data3, data4]\n",
    "\n",
    "for i in range(10000):\n",
    "    datas.append(data1)\n",
    "    datas.append(data2)\n",
    "    datas.append(data3)\n",
    "    datas.append(data4)"
   ]
  },
  {
   "cell_type": "code",
   "execution_count": 280,
   "metadata": {},
   "outputs": [],
   "source": [
    "# Parsing de NCBI\n",
    "# TODO"
   ]
  },
  {
   "cell_type": "code",
   "execution_count": 281,
   "metadata": {},
   "outputs": [],
   "source": [
    "fd = codecs.open(data_path + data_file, 'w', 'utf8')\n",
    "for dat in datas:\n",
    "    tmp = dat[0] + CONETENT_SEPARATOR + dat[1] + CONETENT_SEPARATOR + dat[2] + LINE_SEPARATOR\n",
    "    fd.write(tmp)\n",
    "fd.close()"
   ]
  },
  {
   "cell_type": "markdown",
   "metadata": {},
   "source": [
    "### Lecture et analyse du fichier"
   ]
  },
  {
   "cell_type": "code",
   "execution_count": 282,
   "metadata": {},
   "outputs": [],
   "source": [
    "\n",
    "fd = codecs.open(data_path + data_file, 'r', 'utf8')\n",
    "war = fd.read()\n",
    "fd.close()"
   ]
  },
  {
   "cell_type": "code",
   "execution_count": 283,
   "metadata": {},
   "outputs": [
    {
     "data": {
      "text/plain": [
       "40005"
      ]
     },
     "execution_count": 283,
     "metadata": {},
     "output_type": "execute_result"
    }
   ],
   "source": [
    "\n",
    "sents = war.split(LINE_SEPARATOR)\n",
    "# Supression de la dernière ligne vide\n",
    "sents = sents[:len(sents)-1]\n",
    "id_gb_texts = []\n",
    "for sent in sents:\n",
    "    dat = sent.split(CONETENT_SEPARATOR)\n",
    "\n",
    "    # Zone pour appliquer des fitres / lema / nomalisation\n",
    "    dat[2] = dat[2].lower()\n",
    "    id_gb_texts.append(dat)\n",
    "\n",
    "len(id_gb_texts)"
   ]
  },
  {
   "cell_type": "code",
   "execution_count": 284,
   "metadata": {},
   "outputs": [
    {
     "data": {
      "text/plain": [
       "40004"
      ]
     },
     "execution_count": 284,
     "metadata": {},
     "output_type": "execute_result"
    }
   ],
   "source": [
    "text_arr = []\n",
    "for id_gb_text in id_gb_texts[1:]:\n",
    "    text_arr.append(id_gb_text[2])\n",
    "    \n",
    "text_collection = TextCollection(text_arr)\n",
    "len(text_arr)"
   ]
  },
  {
   "cell_type": "code",
   "execution_count": 285,
   "metadata": {},
   "outputs": [
    {
     "data": {
      "text/plain": [
       "40005"
      ]
     },
     "execution_count": 285,
     "metadata": {},
     "output_type": "execute_result"
    }
   ],
   "source": [
    "tfidf_vector = [['id', 'tf-idf vector']]\n",
    "\n",
    "for id_gb_text in id_gb_texts[1:]:\n",
    "    vec = []\n",
    "    for word in WORD_TO_SEARCH:\n",
    "        tfidf = text_collection.tf_idf(word,id_gb_text[2] )\n",
    "        vec.append(tfidf)\n",
    "    tfidf_vector.append([id_gb_text[0], vec])\n",
    "        \n",
    "len(tfidf_vector)"
   ]
  },
  {
   "cell_type": "code",
   "execution_count": 286,
   "metadata": {},
   "outputs": [],
   "source": [
    "#http://dataaspirant.com/2015/04/11/five-most-popular-similarity-measures-implementation-in-python/\n",
    "def square_rooted(x):\n",
    "    return round(sqrt(sum([a*a for a in x])),3)\n",
    "\n",
    "def cosine_similarity(x,y):\n",
    "    try:\n",
    "        numerator = sum(a*b for a,b in zip(x,y))\n",
    "        denominator = square_rooted(x)*square_rooted(y)\n",
    "        return round(numerator/float(denominator),3)\n",
    "    except:\n",
    "        return 0.0\n",
    "    "
   ]
  },
  {
   "cell_type": "code",
   "execution_count": 287,
   "metadata": {},
   "outputs": [
    {
     "data": {
      "text/plain": [
       "40005"
      ]
     },
     "execution_count": 287,
     "metadata": {},
     "output_type": "execute_result"
    }
   ],
   "source": [
    "gene_similartites = [['id', 'cosSimilarity']]\n",
    "for gene in tfidf_vector[1:]:\n",
    "    dat = [gene[0], cosine_similarity(gene[1], query_vector)]\n",
    "    gene_similartites.append(dat)\n",
    "    \n",
    "len(gene_similartites)"
   ]
  },
  {
   "cell_type": "code",
   "execution_count": 288,
   "metadata": {},
   "outputs": [],
   "source": [
    "def filter_zero(arr):\n",
    "    return [[dat[0], dat[1]] for dat in arr if dat[1] != 0.0]"
   ]
  },
  {
   "cell_type": "code",
   "execution_count": 289,
   "metadata": {},
   "outputs": [
    {
     "data": {
      "text/plain": [
       "10001"
      ]
     },
     "execution_count": 289,
     "metadata": {},
     "output_type": "execute_result"
    }
   ],
   "source": [
    "gene_similartites_filtered1 = [['id', 'cosSimilarity']]\n",
    "gene_similartites_filtered1.append(filter_zero(gene_similartites[1:]))\n",
    "len(gene_similartites_filtered1[1])\n"
   ]
  },
  {
   "cell_type": "code",
   "execution_count": 244,
   "metadata": {},
   "outputs": [],
   "source": [
    "def take_n_max(arr):\n",
    "    #todo\n",
    "    return []"
   ]
  }
 ],
 "metadata": {
  "kernelspec": {
   "display_name": "Python 3",
   "language": "python",
   "name": "python3"
  },
  "language_info": {
   "codemirror_mode": {
    "name": "ipython",
    "version": 3
   },
   "file_extension": ".py",
   "mimetype": "text/x-python",
   "name": "python",
   "nbconvert_exporter": "python",
   "pygments_lexer": "ipython3",
   "version": "3.7.1"
  }
 },
 "nbformat": 4,
 "nbformat_minor": 2
}
