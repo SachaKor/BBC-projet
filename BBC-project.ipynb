{
 "cells": [
  {
   "cell_type": "markdown",
   "metadata": {},
   "source": [
    "## BBC - Project\n",
    "### Data Exploration"
   ]
  },
  {
   "cell_type": "code",
   "execution_count": 6,
   "metadata": {},
   "outputs": [],
   "source": [
    "DATA_PATH = './data/'"
   ]
  },
  {
   "cell_type": "code",
   "execution_count": 7,
   "metadata": {},
   "outputs": [],
   "source": [
    "import numpy as np\n",
    "from Bio import Geo\n",
    "\n",
    "def load_geo(myfile):\n",
    "    handle = open(myfile)\n",
    "    records = Geo.parse(handle)\n",
    "    return records\n",
    "    \n",
    "records = load_geo(DATA_PATH + 'GSE21510_family.soft')"
   ]
  },
  {
   "cell_type": "markdown",
   "metadata": {},
   "source": [
    "The following cell should be executed multiple times to run through the data"
   ]
  },
  {
   "cell_type": "code",
   "execution_count": 8,
   "metadata": {},
   "outputs": [
    {
     "name": "stdout",
     "output_type": "stream",
     "text": [
      "GEO Type: DATABASE\n",
      "GEO Id: GeoMiame\n",
      "Database_email: geo@ncbi.nlm.nih.gov\n",
      "\n",
      "Database_institute: NCBI NLM NIH\n",
      "\n",
      "Database_name: Gene Expression Omnibus (GEO)\n",
      "\n",
      "Database_web_link: http://www.ncbi.nlm.nih.gov/geo\n",
      "\n",
      "Column Header Definitions\n",
      "\n",
      "\n",
      "---------------------- ENTITY_ATTRIBUTES:------------------------------\n",
      "\n",
      "{'Database_name': 'Gene Expression Omnibus (GEO)', 'Database_institute': 'NCBI NLM NIH', 'Database_web_link': 'http://www.ncbi.nlm.nih.gov/geo', 'Database_email': 'geo@ncbi.nlm.nih.gov'}\n"
     ]
    }
   ],
   "source": [
    "nr = next(records)\n",
    "print(nr)\n",
    "print('\\n---------------------- ENTITY_ATTRIBUTES:------------------------------\\n')\n",
    "print(nr.entity_attributes)"
   ]
  },
  {
   "cell_type": "code",
   "execution_count": 9,
   "metadata": {},
   "outputs": [],
   "source": [
    "# re-loading the data\n",
    "records = load_geo(DATA_PATH + 'GSE21510_family.soft')\n",
    "series_sample_id = []\n",
    "sample_titles = []\n",
    "genes = []\n",
    "nb_cols = 0\n",
    "nb_rows = 0\n",
    "data = []\n",
    "for r in records:\n",
    "    rea = r.entity_attributes\n",
    "    if 'Series_geo_accession' in rea:\n",
    "        if rea['Series_geo_accession'] == 'GSE21510':\n",
    "            series_sample_id = rea['Series_sample_id']\n",
    "            nb_cols = len(series_sample_id)\n",
    "    if 'Sample_title' in rea:\n",
    "        sample_titles.append(rea['Sample_title'])\n",
    "        if 'sample_table_begin' in rea:\n",
    "            nb_rows = rea['Sample_data_row_count'] \n",
    "            data.append(r.table_rows)\n",
    "                    "
   ]
  },
  {
   "cell_type": "markdown",
   "metadata": {},
   "source": [
    "data will become a 2d numpy array of shape (54676, 149) == (NB_GENES+1, NB_SAMPLES+1).  \n",
    "First row will contain the sample ids, first column will contain the ID_REFs of the genes."
   ]
  },
  {
   "cell_type": "code",
   "execution_count": 10,
   "metadata": {},
   "outputs": [
    {
     "ename": "MemoryError",
     "evalue": "",
     "output_type": "error",
     "traceback": [
      "\u001b[1;31m---------------------------------------------------------------------------\u001b[0m",
      "\u001b[1;31mMemoryError\u001b[0m                               Traceback (most recent call last)",
      "\u001b[1;32m<ipython-input-10-67174cef3785>\u001b[0m in \u001b[0;36m<module>\u001b[1;34m\u001b[0m\n\u001b[1;32m----> 1\u001b[1;33m \u001b[0mall_data\u001b[0m \u001b[1;33m=\u001b[0m \u001b[0mnp\u001b[0m\u001b[1;33m.\u001b[0m\u001b[0mndarray\u001b[0m\u001b[1;33m(\u001b[0m\u001b[1;33m(\u001b[0m\u001b[0mint\u001b[0m\u001b[1;33m(\u001b[0m\u001b[0mnb_rows\u001b[0m\u001b[1;33m)\u001b[0m\u001b[1;33m+\u001b[0m\u001b[1;36m1\u001b[0m\u001b[1;33m,\u001b[0m \u001b[0mint\u001b[0m\u001b[1;33m(\u001b[0m\u001b[0mnb_cols\u001b[0m\u001b[1;33m)\u001b[0m\u001b[1;33m+\u001b[0m\u001b[1;36m1\u001b[0m\u001b[1;33m)\u001b[0m\u001b[1;33m,\u001b[0m \u001b[0mdtype\u001b[0m\u001b[1;33m=\u001b[0m\u001b[0mobject\u001b[0m\u001b[1;33m)\u001b[0m\u001b[1;33m\u001b[0m\u001b[1;33m\u001b[0m\u001b[0m\n\u001b[0m\u001b[0;32m      2\u001b[0m \u001b[1;31m# labels\u001b[0m\u001b[1;33m\u001b[0m\u001b[1;33m\u001b[0m\u001b[1;33m\u001b[0m\u001b[0m\n\u001b[0;32m      3\u001b[0m \u001b[0mall_data\u001b[0m\u001b[1;33m[\u001b[0m\u001b[1;36m0\u001b[0m\u001b[1;33m,\u001b[0m \u001b[1;36m0\u001b[0m\u001b[1;33m]\u001b[0m \u001b[1;33m=\u001b[0m \u001b[1;34m'ID_REF'\u001b[0m\u001b[1;33m\u001b[0m\u001b[1;33m\u001b[0m\u001b[0m\n\u001b[0;32m      4\u001b[0m \u001b[0mall_data\u001b[0m\u001b[1;33m[\u001b[0m\u001b[1;36m0\u001b[0m\u001b[1;33m,\u001b[0m \u001b[1;36m1\u001b[0m\u001b[1;33m:\u001b[0m\u001b[1;33m]\u001b[0m \u001b[1;33m=\u001b[0m \u001b[0mnp\u001b[0m\u001b[1;33m.\u001b[0m\u001b[0marray\u001b[0m\u001b[1;33m(\u001b[0m\u001b[0mseries_sample_id\u001b[0m\u001b[1;33m)\u001b[0m\u001b[1;33m\u001b[0m\u001b[1;33m\u001b[0m\u001b[0m\n\u001b[0;32m      5\u001b[0m \u001b[1;33m\u001b[0m\u001b[0m\n",
      "\u001b[1;31mMemoryError\u001b[0m: "
     ]
    }
   ],
   "source": [
    "all_data = np.ndarray((int(nb_rows)+1, int(nb_cols)+1), dtype=object)\n",
    "# labels\n",
    "all_data[0, 0] = 'ID_REF'\n",
    "all_data[0, 1:] = np.array(series_sample_id)\n",
    "\n",
    "for i, d in enumerate(data):\n",
    "    values = np.array(d[1:])\n",
    "    if (i == 0):\n",
    "        all_data[1:, 0] = values[:, 0]\n",
    "    all_data[1:, i+1] = values[:, 1]\n",
    "data = np.array(all_data)"
   ]
  },
  {
   "cell_type": "code",
   "execution_count": null,
   "metadata": {},
   "outputs": [],
   "source": [
    "data.shape"
   ]
  },
  {
   "cell_type": "code",
   "execution_count": null,
   "metadata": {},
   "outputs": [],
   "source": [
    "print(series_sample_id)\n",
    "print('')\n",
    "print(samples_geo_accessions)\n",
    "print('')\n",
    "print(sample_titles)\n",
    "print('')\n",
    "print(len(data), len(data[0]))\n",
    "print(data[1][0])"
   ]
  },
  {
   "cell_type": "code",
   "execution_count": null,
   "metadata": {},
   "outputs": [],
   "source": [
    "import re\n",
    "\n",
    "samples = {}\n",
    "patient_names = []\n",
    "for i_t, title in enumerate(sample_titles):\n",
    "    split = title.split(',')\n",
    "    if(re.search('cancer', title)):\n",
    "        samples[series_sample_id[i_t]] = 'cancer'\n",
    "    else:\n",
    "        samples[series_sample_id[i_t]] = 'normal'\n",
    "        \n",
    "    patient_names.append(split[0])\n",
    "        \n",
    "samples"
   ]
  },
  {
   "cell_type": "code",
   "execution_count": null,
   "metadata": {},
   "outputs": [],
   "source": [
    "print(sample_titles[104])"
   ]
  },
  {
   "cell_type": "code",
   "execution_count": null,
   "metadata": {},
   "outputs": [],
   "source": []
  }
 ],
 "metadata": {
  "kernelspec": {
   "display_name": "Python 3",
   "language": "python",
   "name": "python3"
  },
  "language_info": {
   "codemirror_mode": {
    "name": "ipython",
    "version": 3
   },
   "file_extension": ".py",
   "mimetype": "text/x-python",
   "name": "python",
   "nbconvert_exporter": "python",
   "pygments_lexer": "ipython3",
   "version": "3.6.8"
  }
 },
 "nbformat": 4,
 "nbformat_minor": 2
}
