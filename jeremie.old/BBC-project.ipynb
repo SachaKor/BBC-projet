{
 "cells": [
  {
   "cell_type": "markdown",
   "metadata": {},
   "source": [
    "## BBC - Project\n",
    "### Data Exploration"
   ]
  },
  {
   "cell_type": "code",
   "execution_count": 1,
   "metadata": {},
   "outputs": [],
   "source": [
    "DATA_PATH = './data/'"
   ]
  },
  {
   "cell_type": "code",
   "execution_count": 2,
   "metadata": {},
   "outputs": [],
   "source": [
    "import numpy as np\n",
    "from Bio import Geo\n",
    "\n",
    "def load_geo(myfile):\n",
    "    handle = open(myfile)\n",
    "    records = Geo.parse(handle)\n",
    "    return records\n",
    "    \n",
    "records = load_geo(DATA_PATH + 'GSE21510_family.soft')"
   ]
  },
  {
   "cell_type": "markdown",
   "metadata": {},
   "source": [
    "The following cell should be executed multiple times to run through the data"
   ]
  },
  {
   "cell_type": "code",
   "execution_count": 3,
   "metadata": {},
   "outputs": [
    {
     "name": "stdout",
     "output_type": "stream",
     "text": [
      "GEO Type: DATABASE\n",
      "GEO Id: GeoMiame\n",
      "Database_email: geo@ncbi.nlm.nih.gov\n",
      "\n",
      "Database_institute: NCBI NLM NIH\n",
      "\n",
      "Database_name: Gene Expression Omnibus (GEO)\n",
      "\n",
      "Database_web_link: http://www.ncbi.nlm.nih.gov/geo\n",
      "\n",
      "Column Header Definitions\n",
      "\n",
      "\n",
      "---------------------- ENTITY_ATTRIBUTES:------------------------------\n",
      "\n",
      "{'Database_name': 'Gene Expression Omnibus (GEO)', 'Database_institute': 'NCBI NLM NIH', 'Database_web_link': 'http://www.ncbi.nlm.nih.gov/geo', 'Database_email': 'geo@ncbi.nlm.nih.gov'}\n"
     ]
    }
   ],
   "source": [
    "nr = next(records)\n",
    "print(nr)\n",
    "print('\\n---------------------- ENTITY_ATTRIBUTES:------------------------------\\n')\n",
    "print(nr.entity_attributes)"
   ]
  },
  {
   "cell_type": "code",
   "execution_count": 11,
   "metadata": {},
   "outputs": [],
   "source": [
    "# re-loading the data\n",
    "records = load_geo(DATA_PATH + 'GSE21510_family.soft')\n",
    "series_sample_id = []\n",
    "sample_titles = []\n",
    "genes = []\n",
    "nb_cols = 0\n",
    "nb_rows = 0\n",
    "data = []\n",
    "for r in records:\n",
    "    rea = r.entity_attributes\n",
    "    if 'Series_geo_accession' in rea:\n",
    "        if rea['Series_geo_accession'] == 'GSE21510':\n",
    "            series_sample_id = rea['Series_sample_id']\n",
    "            nb_cols = len(series_sample_id)\n",
    "    if 'Sample_title' in rea:\n",
    "        sample_titles.append(rea['Sample_title'])\n",
    "        if 'sample_table_begin' in rea:\n",
    "            nb_rows = rea['Sample_data_row_count'] \n",
    "            data.append(r.table_rows)\n",
    "                    "
   ]
  },
  {
   "cell_type": "markdown",
   "metadata": {},
   "source": [
    "data will become a 2d numpy array of shape (54676, 149) == (NB_GENES+1, NB_SAMPLES+1).  \n",
    "First row will contain the sample ids, first column will contain the ID_REFs of the genes."
   ]
  },
  {
   "cell_type": "code",
   "execution_count": 12,
   "metadata": {},
   "outputs": [
    {
     "ename": "MemoryError",
     "evalue": "",
     "output_type": "error",
     "traceback": [
      "\u001b[1;31m---------------------------------------------------------------------------\u001b[0m",
      "\u001b[1;31mMemoryError\u001b[0m                               Traceback (most recent call last)",
      "\u001b[1;32m<ipython-input-12-67174cef3785>\u001b[0m in \u001b[0;36m<module>\u001b[1;34m\u001b[0m\n\u001b[0;32m      5\u001b[0m \u001b[1;33m\u001b[0m\u001b[0m\n\u001b[0;32m      6\u001b[0m \u001b[1;32mfor\u001b[0m \u001b[0mi\u001b[0m\u001b[1;33m,\u001b[0m \u001b[0md\u001b[0m \u001b[1;32min\u001b[0m \u001b[0menumerate\u001b[0m\u001b[1;33m(\u001b[0m\u001b[0mdata\u001b[0m\u001b[1;33m)\u001b[0m\u001b[1;33m:\u001b[0m\u001b[1;33m\u001b[0m\u001b[1;33m\u001b[0m\u001b[0m\n\u001b[1;32m----> 7\u001b[1;33m     \u001b[0mvalues\u001b[0m \u001b[1;33m=\u001b[0m \u001b[0mnp\u001b[0m\u001b[1;33m.\u001b[0m\u001b[0marray\u001b[0m\u001b[1;33m(\u001b[0m\u001b[0md\u001b[0m\u001b[1;33m[\u001b[0m\u001b[1;36m1\u001b[0m\u001b[1;33m:\u001b[0m\u001b[1;33m]\u001b[0m\u001b[1;33m)\u001b[0m\u001b[1;33m\u001b[0m\u001b[1;33m\u001b[0m\u001b[0m\n\u001b[0m\u001b[0;32m      8\u001b[0m     \u001b[1;32mif\u001b[0m \u001b[1;33m(\u001b[0m\u001b[0mi\u001b[0m \u001b[1;33m==\u001b[0m \u001b[1;36m0\u001b[0m\u001b[1;33m)\u001b[0m\u001b[1;33m:\u001b[0m\u001b[1;33m\u001b[0m\u001b[1;33m\u001b[0m\u001b[0m\n\u001b[0;32m      9\u001b[0m         \u001b[0mall_data\u001b[0m\u001b[1;33m[\u001b[0m\u001b[1;36m1\u001b[0m\u001b[1;33m:\u001b[0m\u001b[1;33m,\u001b[0m \u001b[1;36m0\u001b[0m\u001b[1;33m]\u001b[0m \u001b[1;33m=\u001b[0m \u001b[0mvalues\u001b[0m\u001b[1;33m[\u001b[0m\u001b[1;33m:\u001b[0m\u001b[1;33m,\u001b[0m \u001b[1;36m0\u001b[0m\u001b[1;33m]\u001b[0m\u001b[1;33m\u001b[0m\u001b[1;33m\u001b[0m\u001b[0m\n",
      "\u001b[1;31mMemoryError\u001b[0m: "
     ]
    }
   ],
   "source": [
    "all_data = np.ndarray((int(nb_rows)+1, int(nb_cols)+1), dtype=object)\n",
    "# labels\n",
    "all_data[0, 0] = 'ID_REF'\n",
    "all_data[0, 1:] = np.array(series_sample_id)\n",
    "\n",
    "for i, d in enumerate(data):\n",
    "    values = np.array(d[1:])\n",
    "    if (i == 0):\n",
    "        all_data[1:, 0] = values[:, 0]\n",
    "    all_data[1:, i+1] = values[:, 1]\n",
    "data = np.array(all_data)"
   ]
  },
  {
   "cell_type": "code",
   "execution_count": 13,
   "metadata": {},
   "outputs": [
    {
     "ename": "AttributeError",
     "evalue": "'list' object has no attribute 'shape'",
     "output_type": "error",
     "traceback": [
      "\u001b[1;31m---------------------------------------------------------------------------\u001b[0m",
      "\u001b[1;31mAttributeError\u001b[0m                            Traceback (most recent call last)",
      "\u001b[1;32m<ipython-input-13-047ed65ff157>\u001b[0m in \u001b[0;36m<module>\u001b[1;34m\u001b[0m\n\u001b[1;32m----> 1\u001b[1;33m \u001b[0mdata\u001b[0m\u001b[1;33m.\u001b[0m\u001b[0mshape\u001b[0m\u001b[1;33m\u001b[0m\u001b[1;33m\u001b[0m\u001b[0m\n\u001b[0m",
      "\u001b[1;31mAttributeError\u001b[0m: 'list' object has no attribute 'shape'"
     ]
    }
   ],
   "source": [
    "data.shape"
   ]
  },
  {
   "cell_type": "code",
   "execution_count": null,
   "metadata": {},
   "outputs": [],
   "source": [
    "print(series_sample_id)\n",
    "print('')\n",
    "print(samples_geo_accessions)\n",
    "print('')\n",
    "print(sample_titles)\n",
    "print('')\n",
    "print(len(data), len(data[0]))\n",
    "print(data[1][0])"
   ]
  },
  {
   "cell_type": "code",
   "execution_count": null,
   "metadata": {},
   "outputs": [],
   "source": [
    "import re\n",
    "\n",
    "samples = {}\n",
    "patient_names = []\n",
    "for i_t, title in enumerate(sample_titles):\n",
    "    split = title.split(',')\n",
    "    if(re.search('cancer', title)):\n",
    "        samples[series_sample_id[i_t]] = 'cancer'\n",
    "    else:\n",
    "        samples[series_sample_id[i_t]] = 'normal'\n",
    "        \n",
    "    patient_names.append(split[0])\n",
    "        \n",
    "samples"
   ]
  },
  {
   "cell_type": "code",
   "execution_count": 10,
   "metadata": {},
   "outputs": [
    {
     "ename": "NameError",
     "evalue": "name 'sample_titles' is not defined",
     "output_type": "error",
     "traceback": [
      "\u001b[1;31m---------------------------------------------------------------------------\u001b[0m",
      "\u001b[1;31mNameError\u001b[0m                                 Traceback (most recent call last)",
      "\u001b[1;32m<ipython-input-10-1546b037f348>\u001b[0m in \u001b[0;36m<module>\u001b[1;34m\u001b[0m\n\u001b[1;32m----> 1\u001b[1;33m \u001b[0mprint\u001b[0m\u001b[1;33m(\u001b[0m\u001b[0msample_titles\u001b[0m\u001b[1;33m[\u001b[0m\u001b[1;36m104\u001b[0m\u001b[1;33m]\u001b[0m\u001b[1;33m)\u001b[0m\u001b[1;33m\u001b[0m\u001b[1;33m\u001b[0m\u001b[0m\n\u001b[0m",
      "\u001b[1;31mNameError\u001b[0m: name 'sample_titles' is not defined"
     ]
    }
   ],
   "source": [
    "print(sample_titles[104])"
   ]
  },
  {
   "cell_type": "code",
   "execution_count": null,
   "metadata": {},
   "outputs": [],
   "source": [
    "# the keys of this dict are gene IDs, the values are GB_ACCs\n",
    "genes_dict = {}\n",
    "for i, g in enumerate(gene_ids[0]):\n",
    "    if(i != 0): # do not inclide labels ('ID' & 'GB_ACC')\n",
    "        genes_dict[g[0]] = g[1]\n",
    "\n",
    "genes_dict"
   ]
  },
  {
   "cell_type": "markdown",
   "metadata": {},
   "source": [
    "## Analyse lexicale"
   ]
  },
  {
   "cell_type": "code",
   "execution_count": 22,
   "metadata": {},
   "outputs": [
    {
     "name": "stdout",
     "output_type": "stream",
     "text": [
      "Requirement already satisfied: nltk in c:\\users\\jeremie chatillon\\anaconda3\\envs\\bbc_pw_labo02\\lib\\site-packages (3.4.1)\n",
      "Requirement already satisfied: six in c:\\users\\jeremie chatillon\\anaconda3\\envs\\bbc_pw_labo02\\lib\\site-packages (from nltk) (1.12.0)\n"
     ]
    }
   ],
   "source": [
    "!pip install nltk"
   ]
  },
  {
   "cell_type": "code",
   "execution_count": 23,
   "metadata": {},
   "outputs": [
    {
     "name": "stdout",
     "output_type": "stream",
     "text": [
      "pip 19.0.3 from C:\\Users\\Jeremie Chatillon\\Anaconda3\\envs\\bbc_pw_labo02\\lib\\site-packages\\pip (python 3.6)\n",
      "\n"
     ]
    }
   ],
   "source": [
    "!pip -V"
   ]
  },
  {
   "cell_type": "code",
   "execution_count": 3,
   "metadata": {},
   "outputs": [],
   "source": [
    "import nltk\n",
    "import os, codecs \n",
    "from nltk.text import TextCollection\n",
    "from math import*\n"
   ]
  },
  {
   "cell_type": "code",
   "execution_count": 4,
   "metadata": {},
   "outputs": [],
   "source": [
    "WORD_TO_SEARCH = ['cancer', 'colorectal', 'neoplasms', 'nonpolyposis', 'lynch' ]\n",
    "query_vector = [1 for i in range(len(WORD_TO_SEARCH))]\n",
    "\n",
    "LINE_SEPARATOR = \"$$$\"\n",
    "CONETENT_SEPARATOR = \":::\"\n",
    "NEWLine = \"\\r\\n\""
   ]
  },
  {
   "cell_type": "code",
   "execution_count": 5,
   "metadata": {},
   "outputs": [],
   "source": [
    "data_path = \"C:\\\\Users\\\\Jeremie Chatillon\\\\Documents\\\\HEIG\\\\BA-06\\\\BBC\\\\BBC-projet\\\\data\\\\\"\n",
    "data_file = \"geneDefinition_dev.dat\"\n",
    "gen_id_file = \"gen_id_dev.dat\"\n",
    "#data_file = \"geneDefinition_prod.dat\""
   ]
  },
  {
   "cell_type": "markdown",
   "metadata": {},
   "source": [
    "### Recherche des datas "
   ]
  },
  {
   "cell_type": "code",
   "execution_count": 19,
   "metadata": {},
   "outputs": [],
   "source": [
    "import pprint\n",
    "import time\n",
    "pp = pprint.PrettyPrinter(indent=2)\n",
    "from Bio import Entrez\n",
    "Entrez.API_KEY = 'b5ccd6f1153070941d8664573971486d8607'\n",
    "\n",
    "\n",
    "#Entrez.email = \"prenom.nom@heig-vd.ch\" # une adresse email valide est nécessaire\n",
    "Entrez.email = \"jeremie.chatillon@heig-vd.ch\" # une adresse email valide est nécessaire\n",
    "\n"
   ]
  },
  {
   "cell_type": "code",
   "execution_count": 7,
   "metadata": {},
   "outputs": [],
   "source": [
    "genes_dict = {'1007_s_at': 'U48705','1053_at': 'M87338'}"
   ]
  },
  {
   "cell_type": "code",
   "execution_count": 21,
   "metadata": {},
   "outputs": [
    {
     "name": "stdout",
     "output_type": "stream",
     "text": [
      "['780', '5982', '5982', '5982', '5982', '5982', '5982', '5982', '5982', '5982', '5982', '5982', '5982', '5982']\n"
     ]
    }
   ],
   "source": [
    "#gene_code = ['U48705', 'M87338', 'X51757','U48705', 'M87338', 'X51757','U48705', 'M87338', 'X51757','U48705', 'M87338', 'X51757','U48705', 'M87338', 'X51757','U48705', 'M87338', 'X51757','U48705', 'M87338', 'X51757','U48705', 'M87338', 'X51757','U48705', 'M87338', 'X51757','U48705', 'M87338', 'X51757','U48705', 'M87338', 'X51757','U48705', 'M87338', 'X51757','U48705', 'M87338', 'X51757','U48705', 'M87338', 'X51757','U48705', 'M87338', 'X51757','U48705', 'M87338', 'X51757','U48705', 'M87338', 'X51757','U48705', 'M87338', 'X51757','U48705', 'M87338', 'X51757','U48705', 'M87338', 'X51757','U48705', 'M87338', 'X51757','U48705', 'M87338', 'X51757','U48705', 'M87338', 'X51757','U48705', 'M87338', 'X51757','U48705', 'M87338', 'X51757','U48705', 'M87338', 'X51757','U48705', 'M87338', 'X51757','U48705', 'M87338', 'X51757','U48705', 'M87338', 'X51757','U48705', 'M87338', 'X51757','U48705', 'M87338', 'X51757','U48705', 'M87338', 'X51757','U48705', 'M87338', 'X51757','U48705', 'M87338', 'X51757','U48705', 'M87338', 'X51757','U48705', 'M87338', 'X51757','U48705', 'M87338', 'X51757','U48705', 'M87338', 'X51757','U48705', 'M87338', 'X51757','U48705', 'M87338', 'X51757','U48705', 'M87338', 'X51757','U48705', 'M87338', 'X51757','U48705', 'M87338', 'X51757','U48705', 'M87338', 'X51757','U48705', 'M87338', 'X51757','U48705', 'M87338', 'X51757','U48705', 'M87338', 'X51757','U48705', 'M87338', 'X51757','U48705', 'M87338', 'X51757','U48705', 'M87338', 'X51757','U48705', 'M87338', 'X51757','U48705', 'M87338', 'X51757','U48705', 'M87338', 'X51757']\n",
    "#gene_code = ['U48705', 'M87338']\n",
    "\n",
    "genes_dict = {'1007_s_at': 'U48705','1494_f_at': 'M87338','1552256_a_at': 'M87338','1552257_a_at': 'M87338','1552264_a_at': 'M87338','1552278_a_at': 'M87338','1552286_at': 'M87338','1552301_a_at': 'M87338','1552302_at': 'M87338','1552303_a_at': 'M87338','1552306_at': 'M87338','1552309_a_at': 'M87338','1552312_a_at': 'M87338','1552314_a_at': 'M87338'}\n",
    "gene_code = []\n",
    "gene_ids = []\n",
    "\n",
    "\n",
    "for key in genes_dict:\n",
    "    gene_code.append(genes_dict[key])\n",
    "    gene_ids.append(key)\n",
    "    \n",
    "\n",
    "gen_ids = []\n",
    "\n",
    "count = 0\n",
    "while count < len(gene_code):\n",
    "    try:\n",
    "        gen_ids.append(Entrez.read(Entrez.esearch(db='Gene', term=gene_code[count], retmode='xml'))['IdList'][0])\n",
    "        count += 1\n",
    "    except:\n",
    "        print(count)\n",
    "        time.sleep(3)\n",
    "\n",
    "print(gen_ids)"
   ]
  },
  {
   "cell_type": "code",
   "execution_count": 9,
   "metadata": {},
   "outputs": [],
   "source": [
    "gen_ids\n",
    "# Save gene id in file \n",
    " \n",
    "fd = codecs.open(data_path + gen_id_file, 'w', 'utf8')\n",
    "\n",
    "str_ids = \"\"\n",
    "for gen_id in gen_ids:\n",
    "    str_ids += str(gen_id) + LINE_SEPARATOR\n",
    "fd.write(str_ids)\n",
    "fd.close()"
   ]
  },
  {
   "cell_type": "code",
   "execution_count": 25,
   "metadata": {},
   "outputs": [
    {
     "data": {
      "text/plain": [
       "['780',\n",
       " '5982',\n",
       " '5982',\n",
       " '5982',\n",
       " '5982',\n",
       " '5982',\n",
       " '5982',\n",
       " '5982',\n",
       " '5982',\n",
       " '5982',\n",
       " '5982',\n",
       " '5982',\n",
       " '5982',\n",
       " '5982']"
      ]
     },
     "execution_count": 25,
     "metadata": {},
     "output_type": "execute_result"
    }
   ],
   "source": [
    "# Read the file\n",
    "fd = codecs.open(data_path + gen_id_file, 'r', 'utf8')\n",
    "str_gen_ids = fd.read()\n",
    "fd.close()\n",
    "\n",
    "gen_ids = str_gen_ids.split(LINE_SEPARATOR)\n",
    "gen_ids = gen_ids[:len(gen_ids)-1]\n",
    "    \n",
    "gen_ids"
   ]
  },
  {
   "cell_type": "code",
   "execution_count": 26,
   "metadata": {},
   "outputs": [
    {
     "name": "stdout",
     "output_type": "stream",
     "text": [
      "1\n",
      "2\n",
      "3\n",
      "4\n",
      "5\n",
      "6\n",
      "7\n",
      "8\n",
      "9\n",
      "10\n",
      "11\n",
      "12\n",
      "13\n",
      "14\n"
     ]
    }
   ],
   "source": [
    "gen_datas_summary = []\n",
    "\n",
    "count = 0\n",
    "datas = [['ID', 'GB_ACC', 'text']]\n",
    "\n",
    "while count < len(gen_ids):\n",
    "    try:\n",
    "        gb_gene = gen_ids[count]\n",
    "        handle = Entrez.efetch(db=\"Gene\", id=gb_gene, retmode=\"xml\")\n",
    "        records = Entrez.read(handle)\n",
    "        datas.append([gene_ids[count],gene_code[count],records[0]['Entrezgene_summary']])\n",
    "        count += 1\n",
    "        print(count)\n",
    "    except:\n",
    "        print(\"Sleep\", len(gen_datas_summary))\n",
    "        time.sleep(3)\n",
    "        \n",
    "\n"
   ]
  },
  {
   "cell_type": "markdown",
   "metadata": {},
   "source": [
    "### Ecriture des sentences dans le fichier"
   ]
  },
  {
   "cell_type": "raw",
   "metadata": {},
   "source": [
    "## Genration de données de tests\n",
    "data1 = ['1007_s_at', 'U48705', 'hello word!! how are you']\n",
    "data2 =  ['1007_s_at', 'U48705', 'hello the word hello hello']\n",
    "data3 =  ['1007_s_at', 'U48705', 'hellos the wsord']\n",
    "data4 =  ['1007_s_at', 'U48705', 'hello he wseord cancer']\n",
    "\n",
    "datas = [['ID', 'GB_ACC', 'text'], data1, data2, data3, data4]\n",
    "\n",
    "for i in range(20000):\n",
    "    datas.append(data1)\n",
    "    datas.append(data2)\n",
    "    datas.append(data3)\n",
    "    datas.append(data4)"
   ]
  },
  {
   "cell_type": "code",
   "execution_count": null,
   "metadata": {},
   "outputs": [],
   "source": [
    "fd = codecs.open(data_path + data_file, 'w', 'utf8')\n",
    "for dat in datas:\n",
    "    tmp = dat[0] + CONETENT_SEPARATOR + dat[1] + CONETENT_SEPARATOR + dat[2] + LINE_SEPARATOR\n",
    "    fd.write(tmp)\n",
    "fd.close()"
   ]
  },
  {
   "cell_type": "markdown",
   "metadata": {},
   "source": [
    "### Lecture et analyse du fichier"
   ]
  },
  {
   "cell_type": "code",
   "execution_count": null,
   "metadata": {},
   "outputs": [],
   "source": [
    "\n",
    "fd = codecs.open(data_path + data_file, 'r', 'utf8')\n",
    "war = fd.read()\n",
    "fd.close()"
   ]
  },
  {
   "cell_type": "code",
   "execution_count": null,
   "metadata": {},
   "outputs": [],
   "source": [
    "\n",
    "sents = war.split(LINE_SEPARATOR)\n",
    "# Supression de la dernière ligne vide\n",
    "sents = sents[:len(sents)-1]\n",
    "id_gb_texts = []\n",
    "for sent in sents:\n",
    "    dat = sent.split(CONETENT_SEPARATOR)\n",
    "\n",
    "    # Zone pour appliquer des fitres / lema / nomalisation\n",
    "    dat[2] = dat[2].lower()\n",
    "    id_gb_texts.append(dat)\n",
    "\n",
    "len(id_gb_texts)"
   ]
  },
  {
   "cell_type": "code",
   "execution_count": null,
   "metadata": {},
   "outputs": [],
   "source": [
    "text_arr = []\n",
    "for id_gb_text in id_gb_texts[1:]:\n",
    "    text_arr.append(id_gb_text[2])\n",
    "    \n",
    "text_collection = TextCollection(text_arr)\n",
    "len(text_arr)"
   ]
  },
  {
   "cell_type": "code",
   "execution_count": null,
   "metadata": {},
   "outputs": [],
   "source": [
    "tfidf_vector = [['id', 'tf-idf vector']]\n",
    "\n",
    "for id_gb_text in id_gb_texts[1:]:\n",
    "    vec = []\n",
    "    for word in WORD_TO_SEARCH:\n",
    "        tfidf = text_collection.tf_idf(word,id_gb_text[2] )\n",
    "        vec.append(tfidf)\n",
    "    tfidf_vector.append([id_gb_text[0], vec])\n",
    "        \n",
    "len(tfidf_vector)"
   ]
  },
  {
   "cell_type": "code",
   "execution_count": null,
   "metadata": {},
   "outputs": [],
   "source": [
    "#http://dataaspirant.com/2015/04/11/five-most-popular-similarity-measures-implementation-in-python/\n",
    "def square_rooted(x):\n",
    "    return round(sqrt(sum([a*a for a in x])),3)\n",
    "\n",
    "def cosine_similarity(x,y):\n",
    "    try:\n",
    "        numerator = sum(a*b for a,b in zip(x,y))\n",
    "        denominator = square_rooted(x)*square_rooted(y)\n",
    "        return round(numerator/float(denominator),3)\n",
    "    except:\n",
    "        return 0.0\n",
    "    "
   ]
  },
  {
   "cell_type": "code",
   "execution_count": null,
   "metadata": {},
   "outputs": [],
   "source": [
    "gene_similartites = [['id', 'cosSimilarity']]\n",
    "for gene in tfidf_vector[1:]:\n",
    "    dat = [gene[0], cosine_similarity(gene[1], query_vector)]\n",
    "    gene_similartites.append(dat)\n",
    "    \n",
    "len(gene_similartites)\n",
    "gene_similartites"
   ]
  },
  {
   "cell_type": "code",
   "execution_count": null,
   "metadata": {},
   "outputs": [],
   "source": [
    "gene_similartites_filtered1 = [['id', 'cosSimilarity']]\n",
    "gene_similartites_filtered1.append(filter_zero(gene_similartites[1:]))\n",
    "len(gene_similartites_filtered1[1])\n"
   ]
  },
  {
   "cell_type": "code",
   "execution_count": null,
   "metadata": {},
   "outputs": [],
   "source": [
    "def take_n_max(arr):\n",
    "    #todo\n",
    "    return []"
   ]
  },
  {
   "cell_type": "code",
   "execution_count": null,
   "metadata": {},
   "outputs": [],
   "source": []
  }
 ],
 "metadata": {
  "kernelspec": {
   "display_name": "Python 3",
   "language": "python",
   "name": "python3"
  },
  "language_info": {
   "codemirror_mode": {
    "name": "ipython",
    "version": 3
   },
   "file_extension": ".py",
   "mimetype": "text/x-python",
   "name": "python",
   "nbconvert_exporter": "python",
   "pygments_lexer": "ipython3",
   "version": "3.6.8"
  }
 },
 "nbformat": 4,
 "nbformat_minor": 2
}
